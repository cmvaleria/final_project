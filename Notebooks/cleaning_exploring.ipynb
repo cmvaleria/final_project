{
 "cells": [
  {
   "cell_type": "markdown",
   "id": "c905ced9",
   "metadata": {},
   "source": [
    "# Cleaning & Exploring"
   ]
  },
  {
   "cell_type": "markdown",
   "id": "a21ce300",
   "metadata": {},
   "source": [
    "### Data_description"
   ]
  },
  {
   "cell_type": "code",
   "execution_count": 1,
   "id": "da297ebf",
   "metadata": {},
   "outputs": [
    {
     "name": "stderr",
     "output_type": "stream",
     "text": [
      "/Users/cristianvaleria/opt/anaconda3/envs/final_project/lib/python3.9/site-packages/scipy/__init__.py:146: UserWarning: A NumPy version >=1.16.5 and <1.23.0 is required for this version of SciPy (detected version 1.23.5\n",
      "  warnings.warn(f\"A NumPy version >={np_minversion} and <{np_maxversion}\"\n"
     ]
    }
   ],
   "source": [
    "import pandas as pd\n",
    "import numpy as np\n",
    "import seaborn as sns\n",
    "import matplotlib.pyplot as plt"
   ]
  },
  {
   "cell_type": "code",
   "execution_count": 2,
   "id": "e6483318",
   "metadata": {},
   "outputs": [],
   "source": [
    "#!ls ../Data/Raw/German_Credit"
   ]
  },
  {
   "cell_type": "code",
   "execution_count": 3,
   "id": "90c5af12",
   "metadata": {},
   "outputs": [
    {
     "data": {
      "text/html": [
       "<div>\n",
       "<style scoped>\n",
       "    .dataframe tbody tr th:only-of-type {\n",
       "        vertical-align: middle;\n",
       "    }\n",
       "\n",
       "    .dataframe tbody tr th {\n",
       "        vertical-align: top;\n",
       "    }\n",
       "\n",
       "    .dataframe thead th {\n",
       "        text-align: right;\n",
       "    }\n",
       "</style>\n",
       "<table border=\"1\" class=\"dataframe\">\n",
       "  <thead>\n",
       "    <tr style=\"text-align: right;\">\n",
       "      <th></th>\n",
       "      <th>Creditability</th>\n",
       "      <th>Account Balance</th>\n",
       "      <th>Duration of Credit (month)</th>\n",
       "      <th>Payment Status of Previous Credit</th>\n",
       "      <th>Purpose</th>\n",
       "      <th>Credit Amount</th>\n",
       "      <th>Value Savings/Stocks</th>\n",
       "      <th>Length of current employment</th>\n",
       "      <th>Instalment per cent</th>\n",
       "      <th>Sex &amp; Marital Status</th>\n",
       "      <th>...</th>\n",
       "      <th>Duration in Current address</th>\n",
       "      <th>Most valuable available asset</th>\n",
       "      <th>Age (years)</th>\n",
       "      <th>Concurrent Credits</th>\n",
       "      <th>Type of apartment</th>\n",
       "      <th>No of Credits at this Bank</th>\n",
       "      <th>Occupation</th>\n",
       "      <th>No of dependents</th>\n",
       "      <th>Telephone</th>\n",
       "      <th>Foreign Worker</th>\n",
       "    </tr>\n",
       "  </thead>\n",
       "  <tbody>\n",
       "    <tr>\n",
       "      <th>0</th>\n",
       "      <td>1</td>\n",
       "      <td>1</td>\n",
       "      <td>18</td>\n",
       "      <td>4</td>\n",
       "      <td>2</td>\n",
       "      <td>1049</td>\n",
       "      <td>1</td>\n",
       "      <td>2</td>\n",
       "      <td>4</td>\n",
       "      <td>2</td>\n",
       "      <td>...</td>\n",
       "      <td>4</td>\n",
       "      <td>2</td>\n",
       "      <td>21</td>\n",
       "      <td>3</td>\n",
       "      <td>1</td>\n",
       "      <td>1</td>\n",
       "      <td>3</td>\n",
       "      <td>1</td>\n",
       "      <td>1</td>\n",
       "      <td>1</td>\n",
       "    </tr>\n",
       "    <tr>\n",
       "      <th>1</th>\n",
       "      <td>1</td>\n",
       "      <td>1</td>\n",
       "      <td>9</td>\n",
       "      <td>4</td>\n",
       "      <td>0</td>\n",
       "      <td>2799</td>\n",
       "      <td>1</td>\n",
       "      <td>3</td>\n",
       "      <td>2</td>\n",
       "      <td>3</td>\n",
       "      <td>...</td>\n",
       "      <td>2</td>\n",
       "      <td>1</td>\n",
       "      <td>36</td>\n",
       "      <td>3</td>\n",
       "      <td>1</td>\n",
       "      <td>2</td>\n",
       "      <td>3</td>\n",
       "      <td>2</td>\n",
       "      <td>1</td>\n",
       "      <td>1</td>\n",
       "    </tr>\n",
       "    <tr>\n",
       "      <th>2</th>\n",
       "      <td>1</td>\n",
       "      <td>2</td>\n",
       "      <td>12</td>\n",
       "      <td>2</td>\n",
       "      <td>9</td>\n",
       "      <td>841</td>\n",
       "      <td>2</td>\n",
       "      <td>4</td>\n",
       "      <td>2</td>\n",
       "      <td>2</td>\n",
       "      <td>...</td>\n",
       "      <td>4</td>\n",
       "      <td>1</td>\n",
       "      <td>23</td>\n",
       "      <td>3</td>\n",
       "      <td>1</td>\n",
       "      <td>1</td>\n",
       "      <td>2</td>\n",
       "      <td>1</td>\n",
       "      <td>1</td>\n",
       "      <td>1</td>\n",
       "    </tr>\n",
       "    <tr>\n",
       "      <th>3</th>\n",
       "      <td>1</td>\n",
       "      <td>1</td>\n",
       "      <td>12</td>\n",
       "      <td>4</td>\n",
       "      <td>0</td>\n",
       "      <td>2122</td>\n",
       "      <td>1</td>\n",
       "      <td>3</td>\n",
       "      <td>3</td>\n",
       "      <td>3</td>\n",
       "      <td>...</td>\n",
       "      <td>2</td>\n",
       "      <td>1</td>\n",
       "      <td>39</td>\n",
       "      <td>3</td>\n",
       "      <td>1</td>\n",
       "      <td>2</td>\n",
       "      <td>2</td>\n",
       "      <td>2</td>\n",
       "      <td>1</td>\n",
       "      <td>2</td>\n",
       "    </tr>\n",
       "    <tr>\n",
       "      <th>4</th>\n",
       "      <td>1</td>\n",
       "      <td>1</td>\n",
       "      <td>12</td>\n",
       "      <td>4</td>\n",
       "      <td>0</td>\n",
       "      <td>2171</td>\n",
       "      <td>1</td>\n",
       "      <td>3</td>\n",
       "      <td>4</td>\n",
       "      <td>3</td>\n",
       "      <td>...</td>\n",
       "      <td>4</td>\n",
       "      <td>2</td>\n",
       "      <td>38</td>\n",
       "      <td>1</td>\n",
       "      <td>2</td>\n",
       "      <td>2</td>\n",
       "      <td>2</td>\n",
       "      <td>1</td>\n",
       "      <td>1</td>\n",
       "      <td>2</td>\n",
       "    </tr>\n",
       "  </tbody>\n",
       "</table>\n",
       "<p>5 rows × 21 columns</p>\n",
       "</div>"
      ],
      "text/plain": [
       "   Creditability  Account Balance  Duration of Credit (month)  \\\n",
       "0              1                1                          18   \n",
       "1              1                1                           9   \n",
       "2              1                2                          12   \n",
       "3              1                1                          12   \n",
       "4              1                1                          12   \n",
       "\n",
       "   Payment Status of Previous Credit  Purpose  Credit Amount  \\\n",
       "0                                  4        2           1049   \n",
       "1                                  4        0           2799   \n",
       "2                                  2        9            841   \n",
       "3                                  4        0           2122   \n",
       "4                                  4        0           2171   \n",
       "\n",
       "   Value Savings/Stocks  Length of current employment  Instalment per cent  \\\n",
       "0                     1                             2                    4   \n",
       "1                     1                             3                    2   \n",
       "2                     2                             4                    2   \n",
       "3                     1                             3                    3   \n",
       "4                     1                             3                    4   \n",
       "\n",
       "   Sex & Marital Status  ...  Duration in Current address  \\\n",
       "0                     2  ...                            4   \n",
       "1                     3  ...                            2   \n",
       "2                     2  ...                            4   \n",
       "3                     3  ...                            2   \n",
       "4                     3  ...                            4   \n",
       "\n",
       "   Most valuable available asset  Age (years)  Concurrent Credits  \\\n",
       "0                              2           21                   3   \n",
       "1                              1           36                   3   \n",
       "2                              1           23                   3   \n",
       "3                              1           39                   3   \n",
       "4                              2           38                   1   \n",
       "\n",
       "   Type of apartment  No of Credits at this Bank  Occupation  \\\n",
       "0                  1                           1           3   \n",
       "1                  1                           2           3   \n",
       "2                  1                           1           2   \n",
       "3                  1                           2           2   \n",
       "4                  2                           2           2   \n",
       "\n",
       "   No of dependents  Telephone  Foreign Worker  \n",
       "0                 1          1               1  \n",
       "1                 2          1               1  \n",
       "2                 1          1               1  \n",
       "3                 2          1               2  \n",
       "4                 1          1               2  \n",
       "\n",
       "[5 rows x 21 columns]"
      ]
     },
     "metadata": {},
     "output_type": "display_data"
    },
    {
     "data": {
      "text/plain": [
       "(1000, 21)"
      ]
     },
     "metadata": {},
     "output_type": "display_data"
    }
   ],
   "source": [
    "data_1 = pd.read_csv('../Data/Raw/german_credit_15.38.59.csv')\n",
    "display(data_1.head())\n",
    "display(data_1.shape)"
   ]
  },
  {
   "cell_type": "code",
   "execution_count": 4,
   "id": "a1ffed01",
   "metadata": {},
   "outputs": [
    {
     "data": {
      "text/html": [
       "<div>\n",
       "<style scoped>\n",
       "    .dataframe tbody tr th:only-of-type {\n",
       "        vertical-align: middle;\n",
       "    }\n",
       "\n",
       "    .dataframe tbody tr th {\n",
       "        vertical-align: top;\n",
       "    }\n",
       "\n",
       "    .dataframe thead th {\n",
       "        text-align: right;\n",
       "    }\n",
       "</style>\n",
       "<table border=\"1\" class=\"dataframe\">\n",
       "  <thead>\n",
       "    <tr style=\"text-align: right;\">\n",
       "      <th></th>\n",
       "      <th>Unnamed: 0</th>\n",
       "      <th>Age</th>\n",
       "      <th>Sex</th>\n",
       "      <th>Job</th>\n",
       "      <th>Housing</th>\n",
       "      <th>Saving accounts</th>\n",
       "      <th>Checking account</th>\n",
       "      <th>Credit amount</th>\n",
       "      <th>Duration</th>\n",
       "      <th>Purpose</th>\n",
       "      <th>Credit Risk</th>\n",
       "    </tr>\n",
       "  </thead>\n",
       "  <tbody>\n",
       "    <tr>\n",
       "      <th>0</th>\n",
       "      <td>0</td>\n",
       "      <td>67</td>\n",
       "      <td>male</td>\n",
       "      <td>2</td>\n",
       "      <td>own</td>\n",
       "      <td>NaN</td>\n",
       "      <td>little</td>\n",
       "      <td>1169</td>\n",
       "      <td>6</td>\n",
       "      <td>radio/TV</td>\n",
       "      <td>1</td>\n",
       "    </tr>\n",
       "    <tr>\n",
       "      <th>1</th>\n",
       "      <td>1</td>\n",
       "      <td>22</td>\n",
       "      <td>female</td>\n",
       "      <td>2</td>\n",
       "      <td>own</td>\n",
       "      <td>little</td>\n",
       "      <td>moderate</td>\n",
       "      <td>5951</td>\n",
       "      <td>48</td>\n",
       "      <td>radio/TV</td>\n",
       "      <td>2</td>\n",
       "    </tr>\n",
       "    <tr>\n",
       "      <th>2</th>\n",
       "      <td>2</td>\n",
       "      <td>49</td>\n",
       "      <td>male</td>\n",
       "      <td>1</td>\n",
       "      <td>own</td>\n",
       "      <td>little</td>\n",
       "      <td>NaN</td>\n",
       "      <td>2096</td>\n",
       "      <td>12</td>\n",
       "      <td>education</td>\n",
       "      <td>1</td>\n",
       "    </tr>\n",
       "    <tr>\n",
       "      <th>3</th>\n",
       "      <td>3</td>\n",
       "      <td>45</td>\n",
       "      <td>male</td>\n",
       "      <td>2</td>\n",
       "      <td>free</td>\n",
       "      <td>little</td>\n",
       "      <td>little</td>\n",
       "      <td>7882</td>\n",
       "      <td>42</td>\n",
       "      <td>furniture/equipment</td>\n",
       "      <td>1</td>\n",
       "    </tr>\n",
       "    <tr>\n",
       "      <th>4</th>\n",
       "      <td>4</td>\n",
       "      <td>53</td>\n",
       "      <td>male</td>\n",
       "      <td>2</td>\n",
       "      <td>free</td>\n",
       "      <td>little</td>\n",
       "      <td>little</td>\n",
       "      <td>4870</td>\n",
       "      <td>24</td>\n",
       "      <td>car</td>\n",
       "      <td>2</td>\n",
       "    </tr>\n",
       "  </tbody>\n",
       "</table>\n",
       "</div>"
      ],
      "text/plain": [
       "   Unnamed: 0  Age     Sex  Job Housing Saving accounts Checking account  \\\n",
       "0           0   67    male    2     own             NaN           little   \n",
       "1           1   22  female    2     own          little         moderate   \n",
       "2           2   49    male    1     own          little              NaN   \n",
       "3           3   45    male    2    free          little           little   \n",
       "4           4   53    male    2    free          little           little   \n",
       "\n",
       "   Credit amount  Duration              Purpose  Credit Risk  \n",
       "0           1169         6             radio/TV            1  \n",
       "1           5951        48             radio/TV            2  \n",
       "2           2096        12            education            1  \n",
       "3           7882        42  furniture/equipment            1  \n",
       "4           4870        24                  car            2  "
      ]
     },
     "metadata": {},
     "output_type": "display_data"
    },
    {
     "data": {
      "text/plain": [
       "(954, 11)"
      ]
     },
     "metadata": {},
     "output_type": "display_data"
    }
   ],
   "source": [
    "data_2 = pd.read_csv('../Data/Raw/german_credit_data_updated.csv')\n",
    "display(data_2.head())\n",
    "display(data_2.shape)"
   ]
  },
  {
   "cell_type": "code",
   "execution_count": 5,
   "id": "da2517d2",
   "metadata": {},
   "outputs": [],
   "source": [
    "cols = []\n",
    "for col in data_1.columns:\n",
    "  cols.append(col.lower().replace(' ', '_'))\n",
    "data_1.columns = cols\n",
    "\n",
    "cols = []\n",
    "for col in data_2.columns:\n",
    "  cols.append(col.lower().replace(' ', '_'))\n",
    "data_2.columns = cols"
   ]
  },
  {
   "cell_type": "code",
   "execution_count": 6,
   "id": "29e02237",
   "metadata": {},
   "outputs": [
    {
     "data": {
      "text/plain": [
       "(884,)"
      ]
     },
     "execution_count": 6,
     "metadata": {},
     "output_type": "execute_result"
    }
   ],
   "source": [
    "data_2.credit_amount.unique().shape"
   ]
  },
  {
   "cell_type": "code",
   "execution_count": 7,
   "id": "ff246cd3",
   "metadata": {},
   "outputs": [
    {
     "data": {
      "text/plain": [
       "(923,)"
      ]
     },
     "execution_count": 7,
     "metadata": {},
     "output_type": "execute_result"
    }
   ],
   "source": [
    "data_1.credit_amount.unique().shape"
   ]
  },
  {
   "cell_type": "code",
   "execution_count": 8,
   "id": "594368e5",
   "metadata": {},
   "outputs": [],
   "source": [
    "data_1.rename(columns={\"age_(years)\": \"age\"}, inplace=True)"
   ]
  },
  {
   "cell_type": "code",
   "execution_count": 9,
   "id": "2372f9d5",
   "metadata": {},
   "outputs": [],
   "source": [
    "data = data_2.merge(data_1, left_on=['credit_amount','age'], right_on=['credit_amount','age'])"
   ]
  },
  {
   "cell_type": "code",
   "execution_count": 10,
   "id": "0497f56f",
   "metadata": {},
   "outputs": [
    {
     "data": {
      "text/html": [
       "<div>\n",
       "<style scoped>\n",
       "    .dataframe tbody tr th:only-of-type {\n",
       "        vertical-align: middle;\n",
       "    }\n",
       "\n",
       "    .dataframe tbody tr th {\n",
       "        vertical-align: top;\n",
       "    }\n",
       "\n",
       "    .dataframe thead th {\n",
       "        text-align: right;\n",
       "    }\n",
       "</style>\n",
       "<table border=\"1\" class=\"dataframe\">\n",
       "  <thead>\n",
       "    <tr style=\"text-align: right;\">\n",
       "      <th></th>\n",
       "      <th>unnamed:_0</th>\n",
       "      <th>age</th>\n",
       "      <th>sex</th>\n",
       "      <th>job</th>\n",
       "      <th>housing</th>\n",
       "      <th>saving_accounts</th>\n",
       "      <th>checking_account</th>\n",
       "      <th>credit_amount</th>\n",
       "      <th>duration</th>\n",
       "      <th>purpose_x</th>\n",
       "      <th>...</th>\n",
       "      <th>guarantors</th>\n",
       "      <th>duration_in_current_address</th>\n",
       "      <th>most_valuable_available_asset</th>\n",
       "      <th>concurrent_credits</th>\n",
       "      <th>type_of_apartment</th>\n",
       "      <th>no_of_credits_at_this_bank</th>\n",
       "      <th>occupation</th>\n",
       "      <th>no_of_dependents</th>\n",
       "      <th>telephone</th>\n",
       "      <th>foreign_worker</th>\n",
       "    </tr>\n",
       "  </thead>\n",
       "  <tbody>\n",
       "    <tr>\n",
       "      <th>0</th>\n",
       "      <td>0</td>\n",
       "      <td>67</td>\n",
       "      <td>male</td>\n",
       "      <td>2</td>\n",
       "      <td>own</td>\n",
       "      <td>NaN</td>\n",
       "      <td>little</td>\n",
       "      <td>1169</td>\n",
       "      <td>6</td>\n",
       "      <td>radio/TV</td>\n",
       "      <td>...</td>\n",
       "      <td>1</td>\n",
       "      <td>4</td>\n",
       "      <td>1</td>\n",
       "      <td>3</td>\n",
       "      <td>2</td>\n",
       "      <td>2</td>\n",
       "      <td>3</td>\n",
       "      <td>1</td>\n",
       "      <td>2</td>\n",
       "      <td>1</td>\n",
       "    </tr>\n",
       "    <tr>\n",
       "      <th>1</th>\n",
       "      <td>1</td>\n",
       "      <td>22</td>\n",
       "      <td>female</td>\n",
       "      <td>2</td>\n",
       "      <td>own</td>\n",
       "      <td>little</td>\n",
       "      <td>moderate</td>\n",
       "      <td>5951</td>\n",
       "      <td>48</td>\n",
       "      <td>radio/TV</td>\n",
       "      <td>...</td>\n",
       "      <td>1</td>\n",
       "      <td>2</td>\n",
       "      <td>1</td>\n",
       "      <td>3</td>\n",
       "      <td>2</td>\n",
       "      <td>1</td>\n",
       "      <td>3</td>\n",
       "      <td>1</td>\n",
       "      <td>1</td>\n",
       "      <td>1</td>\n",
       "    </tr>\n",
       "    <tr>\n",
       "      <th>2</th>\n",
       "      <td>2</td>\n",
       "      <td>49</td>\n",
       "      <td>male</td>\n",
       "      <td>1</td>\n",
       "      <td>own</td>\n",
       "      <td>little</td>\n",
       "      <td>NaN</td>\n",
       "      <td>2096</td>\n",
       "      <td>12</td>\n",
       "      <td>education</td>\n",
       "      <td>...</td>\n",
       "      <td>1</td>\n",
       "      <td>3</td>\n",
       "      <td>1</td>\n",
       "      <td>3</td>\n",
       "      <td>2</td>\n",
       "      <td>1</td>\n",
       "      <td>2</td>\n",
       "      <td>2</td>\n",
       "      <td>1</td>\n",
       "      <td>1</td>\n",
       "    </tr>\n",
       "    <tr>\n",
       "      <th>3</th>\n",
       "      <td>3</td>\n",
       "      <td>45</td>\n",
       "      <td>male</td>\n",
       "      <td>2</td>\n",
       "      <td>free</td>\n",
       "      <td>little</td>\n",
       "      <td>little</td>\n",
       "      <td>7882</td>\n",
       "      <td>42</td>\n",
       "      <td>furniture/equipment</td>\n",
       "      <td>...</td>\n",
       "      <td>3</td>\n",
       "      <td>4</td>\n",
       "      <td>2</td>\n",
       "      <td>3</td>\n",
       "      <td>3</td>\n",
       "      <td>1</td>\n",
       "      <td>3</td>\n",
       "      <td>2</td>\n",
       "      <td>1</td>\n",
       "      <td>1</td>\n",
       "    </tr>\n",
       "    <tr>\n",
       "      <th>4</th>\n",
       "      <td>4</td>\n",
       "      <td>53</td>\n",
       "      <td>male</td>\n",
       "      <td>2</td>\n",
       "      <td>free</td>\n",
       "      <td>little</td>\n",
       "      <td>little</td>\n",
       "      <td>4870</td>\n",
       "      <td>24</td>\n",
       "      <td>car</td>\n",
       "      <td>...</td>\n",
       "      <td>1</td>\n",
       "      <td>4</td>\n",
       "      <td>4</td>\n",
       "      <td>3</td>\n",
       "      <td>3</td>\n",
       "      <td>2</td>\n",
       "      <td>3</td>\n",
       "      <td>2</td>\n",
       "      <td>1</td>\n",
       "      <td>1</td>\n",
       "    </tr>\n",
       "  </tbody>\n",
       "</table>\n",
       "<p>5 rows × 30 columns</p>\n",
       "</div>"
      ],
      "text/plain": [
       "   unnamed:_0  age     sex  job housing saving_accounts checking_account  \\\n",
       "0           0   67    male    2     own             NaN           little   \n",
       "1           1   22  female    2     own          little         moderate   \n",
       "2           2   49    male    1     own          little              NaN   \n",
       "3           3   45    male    2    free          little           little   \n",
       "4           4   53    male    2    free          little           little   \n",
       "\n",
       "   credit_amount  duration            purpose_x  ...  guarantors  \\\n",
       "0           1169         6             radio/TV  ...           1   \n",
       "1           5951        48             radio/TV  ...           1   \n",
       "2           2096        12            education  ...           1   \n",
       "3           7882        42  furniture/equipment  ...           3   \n",
       "4           4870        24                  car  ...           1   \n",
       "\n",
       "   duration_in_current_address  most_valuable_available_asset  \\\n",
       "0                            4                              1   \n",
       "1                            2                              1   \n",
       "2                            3                              1   \n",
       "3                            4                              2   \n",
       "4                            4                              4   \n",
       "\n",
       "   concurrent_credits  type_of_apartment  no_of_credits_at_this_bank  \\\n",
       "0                   3                  2                           2   \n",
       "1                   3                  2                           1   \n",
       "2                   3                  2                           1   \n",
       "3                   3                  3                           1   \n",
       "4                   3                  3                           2   \n",
       "\n",
       "   occupation  no_of_dependents  telephone  foreign_worker  \n",
       "0           3                 1          2               1  \n",
       "1           3                 1          1               1  \n",
       "2           2                 2          1               1  \n",
       "3           3                 2          1               1  \n",
       "4           3                 2          1               1  \n",
       "\n",
       "[5 rows x 30 columns]"
      ]
     },
     "execution_count": 10,
     "metadata": {},
     "output_type": "execute_result"
    }
   ],
   "source": [
    "data.head()"
   ]
  },
  {
   "cell_type": "code",
   "execution_count": 11,
   "id": "b3186b1e",
   "metadata": {},
   "outputs": [
    {
     "data": {
      "text/html": [
       "<div>\n",
       "<style scoped>\n",
       "    .dataframe tbody tr th:only-of-type {\n",
       "        vertical-align: middle;\n",
       "    }\n",
       "\n",
       "    .dataframe tbody tr th {\n",
       "        vertical-align: top;\n",
       "    }\n",
       "\n",
       "    .dataframe thead th {\n",
       "        text-align: right;\n",
       "    }\n",
       "</style>\n",
       "<table border=\"1\" class=\"dataframe\">\n",
       "  <thead>\n",
       "    <tr style=\"text-align: right;\">\n",
       "      <th></th>\n",
       "      <th>age</th>\n",
       "      <th>duration</th>\n",
       "      <th>duration_of_credit_(month)</th>\n",
       "      <th>credit_amount</th>\n",
       "      <th>purpose_x</th>\n",
       "      <th>purpose_y</th>\n",
       "    </tr>\n",
       "  </thead>\n",
       "  <tbody>\n",
       "    <tr>\n",
       "      <th>0</th>\n",
       "      <td>67</td>\n",
       "      <td>6</td>\n",
       "      <td>6</td>\n",
       "      <td>1169</td>\n",
       "      <td>radio/TV</td>\n",
       "      <td>3</td>\n",
       "    </tr>\n",
       "    <tr>\n",
       "      <th>1</th>\n",
       "      <td>22</td>\n",
       "      <td>48</td>\n",
       "      <td>48</td>\n",
       "      <td>5951</td>\n",
       "      <td>radio/TV</td>\n",
       "      <td>3</td>\n",
       "    </tr>\n",
       "    <tr>\n",
       "      <th>2</th>\n",
       "      <td>49</td>\n",
       "      <td>12</td>\n",
       "      <td>12</td>\n",
       "      <td>2096</td>\n",
       "      <td>education</td>\n",
       "      <td>6</td>\n",
       "    </tr>\n",
       "    <tr>\n",
       "      <th>3</th>\n",
       "      <td>45</td>\n",
       "      <td>42</td>\n",
       "      <td>42</td>\n",
       "      <td>7882</td>\n",
       "      <td>furniture/equipment</td>\n",
       "      <td>2</td>\n",
       "    </tr>\n",
       "    <tr>\n",
       "      <th>4</th>\n",
       "      <td>53</td>\n",
       "      <td>24</td>\n",
       "      <td>24</td>\n",
       "      <td>4870</td>\n",
       "      <td>car</td>\n",
       "      <td>0</td>\n",
       "    </tr>\n",
       "    <tr>\n",
       "      <th>...</th>\n",
       "      <td>...</td>\n",
       "      <td>...</td>\n",
       "      <td>...</td>\n",
       "      <td>...</td>\n",
       "      <td>...</td>\n",
       "      <td>...</td>\n",
       "    </tr>\n",
       "    <tr>\n",
       "      <th>944</th>\n",
       "      <td>31</td>\n",
       "      <td>24</td>\n",
       "      <td>24</td>\n",
       "      <td>3621</td>\n",
       "      <td>radio/TV</td>\n",
       "      <td>3</td>\n",
       "    </tr>\n",
       "    <tr>\n",
       "      <th>945</th>\n",
       "      <td>40</td>\n",
       "      <td>18</td>\n",
       "      <td>18</td>\n",
       "      <td>3590</td>\n",
       "      <td>business</td>\n",
       "      <td>9</td>\n",
       "    </tr>\n",
       "    <tr>\n",
       "      <th>946</th>\n",
       "      <td>24</td>\n",
       "      <td>36</td>\n",
       "      <td>36</td>\n",
       "      <td>2145</td>\n",
       "      <td>business</td>\n",
       "      <td>9</td>\n",
       "    </tr>\n",
       "    <tr>\n",
       "      <th>947</th>\n",
       "      <td>28</td>\n",
       "      <td>24</td>\n",
       "      <td>24</td>\n",
       "      <td>4113</td>\n",
       "      <td>car</td>\n",
       "      <td>1</td>\n",
       "    </tr>\n",
       "    <tr>\n",
       "      <th>948</th>\n",
       "      <td>26</td>\n",
       "      <td>36</td>\n",
       "      <td>36</td>\n",
       "      <td>10974</td>\n",
       "      <td>furniture/equipment</td>\n",
       "      <td>2</td>\n",
       "    </tr>\n",
       "  </tbody>\n",
       "</table>\n",
       "<p>949 rows × 6 columns</p>\n",
       "</div>"
      ],
      "text/plain": [
       "     age  duration  duration_of_credit_(month)  credit_amount  \\\n",
       "0     67         6                           6           1169   \n",
       "1     22        48                          48           5951   \n",
       "2     49        12                          12           2096   \n",
       "3     45        42                          42           7882   \n",
       "4     53        24                          24           4870   \n",
       "..   ...       ...                         ...            ...   \n",
       "944   31        24                          24           3621   \n",
       "945   40        18                          18           3590   \n",
       "946   24        36                          36           2145   \n",
       "947   28        24                          24           4113   \n",
       "948   26        36                          36          10974   \n",
       "\n",
       "               purpose_x  purpose_y  \n",
       "0               radio/TV          3  \n",
       "1               radio/TV          3  \n",
       "2              education          6  \n",
       "3    furniture/equipment          2  \n",
       "4                    car          0  \n",
       "..                   ...        ...  \n",
       "944             radio/TV          3  \n",
       "945             business          9  \n",
       "946             business          9  \n",
       "947                  car          1  \n",
       "948  furniture/equipment          2  \n",
       "\n",
       "[949 rows x 6 columns]"
      ]
     },
     "execution_count": 11,
     "metadata": {},
     "output_type": "execute_result"
    }
   ],
   "source": [
    "data[['age','duration','duration_of_credit_(month)',\"credit_amount\",'purpose_x','purpose_y']]"
   ]
  },
  {
   "cell_type": "code",
   "execution_count": 12,
   "id": "e898f3d6",
   "metadata": {},
   "outputs": [],
   "source": [
    "data['check'] = data['duration']-data['duration_of_credit_(month)']"
   ]
  },
  {
   "cell_type": "code",
   "execution_count": 13,
   "id": "0430d1ea",
   "metadata": {},
   "outputs": [],
   "source": [
    "data = data[data['check']==0]"
   ]
  },
  {
   "cell_type": "code",
   "execution_count": 14,
   "id": "9533f62a",
   "metadata": {
    "scrolled": true
   },
   "outputs": [
    {
     "name": "stdout",
     "output_type": "stream",
     "text": [
      "<class 'pandas.core.frame.DataFrame'>\n",
      "Int64Index: 944 entries, 0 to 948\n",
      "Data columns (total 31 columns):\n",
      " #   Column                             Non-Null Count  Dtype \n",
      "---  ------                             --------------  ----- \n",
      " 0   unnamed:_0                         944 non-null    int64 \n",
      " 1   age                                944 non-null    int64 \n",
      " 2   sex                                944 non-null    object\n",
      " 3   job                                944 non-null    int64 \n",
      " 4   housing                            944 non-null    object\n",
      " 5   saving_accounts                    770 non-null    object\n",
      " 6   checking_account                   571 non-null    object\n",
      " 7   credit_amount                      944 non-null    int64 \n",
      " 8   duration                           944 non-null    int64 \n",
      " 9   purpose_x                          944 non-null    object\n",
      " 10  credit_risk                        944 non-null    int64 \n",
      " 11  creditability                      944 non-null    int64 \n",
      " 12  account_balance                    944 non-null    int64 \n",
      " 13  duration_of_credit_(month)         944 non-null    int64 \n",
      " 14  payment_status_of_previous_credit  944 non-null    int64 \n",
      " 15  purpose_y                          944 non-null    int64 \n",
      " 16  value_savings/stocks               944 non-null    int64 \n",
      " 17  length_of_current_employment       944 non-null    int64 \n",
      " 18  instalment_per_cent                944 non-null    int64 \n",
      " 19  sex_&_marital_status               944 non-null    int64 \n",
      " 20  guarantors                         944 non-null    int64 \n",
      " 21  duration_in_current_address        944 non-null    int64 \n",
      " 22  most_valuable_available_asset      944 non-null    int64 \n",
      " 23  concurrent_credits                 944 non-null    int64 \n",
      " 24  type_of_apartment                  944 non-null    int64 \n",
      " 25  no_of_credits_at_this_bank         944 non-null    int64 \n",
      " 26  occupation                         944 non-null    int64 \n",
      " 27  no_of_dependents                   944 non-null    int64 \n",
      " 28  telephone                          944 non-null    int64 \n",
      " 29  foreign_worker                     944 non-null    int64 \n",
      " 30  check                              944 non-null    int64 \n",
      "dtypes: int64(26), object(5)\n",
      "memory usage: 236.0+ KB\n"
     ]
    }
   ],
   "source": [
    "data.info()"
   ]
  },
  {
   "cell_type": "markdown",
   "id": "3e792678",
   "metadata": {},
   "source": [
    "#  Columns exploration & droping"
   ]
  },
  {
   "cell_type": "code",
   "execution_count": 15,
   "id": "78dfcf11",
   "metadata": {},
   "outputs": [
    {
     "data": {
      "text/plain": [
       "unnamed:_0                           0.000000\n",
       "age                                  0.000000\n",
       "sex                                  0.000000\n",
       "job                                  0.000000\n",
       "housing                              0.000000\n",
       "saving_accounts                      0.184322\n",
       "checking_account                     0.395127\n",
       "credit_amount                        0.000000\n",
       "duration                             0.000000\n",
       "purpose_x                            0.000000\n",
       "credit_risk                          0.000000\n",
       "creditability                        0.000000\n",
       "account_balance                      0.000000\n",
       "duration_of_credit_(month)           0.000000\n",
       "payment_status_of_previous_credit    0.000000\n",
       "purpose_y                            0.000000\n",
       "value_savings/stocks                 0.000000\n",
       "length_of_current_employment         0.000000\n",
       "instalment_per_cent                  0.000000\n",
       "sex_&_marital_status                 0.000000\n",
       "guarantors                           0.000000\n",
       "duration_in_current_address          0.000000\n",
       "most_valuable_available_asset        0.000000\n",
       "concurrent_credits                   0.000000\n",
       "type_of_apartment                    0.000000\n",
       "no_of_credits_at_this_bank           0.000000\n",
       "occupation                           0.000000\n",
       "no_of_dependents                     0.000000\n",
       "telephone                            0.000000\n",
       "foreign_worker                       0.000000\n",
       "check                                0.000000\n",
       "dtype: float64"
      ]
     },
     "execution_count": 15,
     "metadata": {},
     "output_type": "execute_result"
    }
   ],
   "source": [
    "data.isnull().sum()/len(data)"
   ]
  },
  {
   "cell_type": "code",
   "execution_count": 16,
   "id": "baab19bf",
   "metadata": {},
   "outputs": [
    {
     "data": {
      "text/plain": [
       "little        570\n",
       "moderate       96\n",
       "quite rich     58\n",
       "rich           46\n",
       "Name: saving_accounts, dtype: int64"
      ]
     },
     "execution_count": 16,
     "metadata": {},
     "output_type": "execute_result"
    }
   ],
   "source": [
    "data.saving_accounts.value_counts()"
   ]
  },
  {
   "cell_type": "code",
   "execution_count": 17,
   "id": "5548df82",
   "metadata": {},
   "outputs": [
    {
     "data": {
      "text/plain": [
       "little      260\n",
       "moderate    253\n",
       "rich         58\n",
       "Name: checking_account, dtype: int64"
      ]
     },
     "execution_count": 17,
     "metadata": {},
     "output_type": "execute_result"
    }
   ],
   "source": [
    "data.checking_account.value_counts()"
   ]
  },
  {
   "cell_type": "code",
   "execution_count": 18,
   "id": "0dc80aaa",
   "metadata": {},
   "outputs": [],
   "source": [
    "data.drop(columns=['saving_accounts','checking_account'], inplace=True)"
   ]
  },
  {
   "cell_type": "code",
   "execution_count": 19,
   "id": "f7dd38bf",
   "metadata": {},
   "outputs": [],
   "source": [
    "data.drop(columns='unnamed:_0', inplace = True)"
   ]
  },
  {
   "cell_type": "code",
   "execution_count": 20,
   "id": "ca32c663",
   "metadata": {},
   "outputs": [
    {
     "data": {
      "text/html": [
       "<div>\n",
       "<style scoped>\n",
       "    .dataframe tbody tr th:only-of-type {\n",
       "        vertical-align: middle;\n",
       "    }\n",
       "\n",
       "    .dataframe tbody tr th {\n",
       "        vertical-align: top;\n",
       "    }\n",
       "\n",
       "    .dataframe thead th {\n",
       "        text-align: right;\n",
       "    }\n",
       "</style>\n",
       "<table border=\"1\" class=\"dataframe\">\n",
       "  <thead>\n",
       "    <tr style=\"text-align: right;\">\n",
       "      <th></th>\n",
       "      <th>age</th>\n",
       "      <th>sex</th>\n",
       "      <th>job</th>\n",
       "      <th>housing</th>\n",
       "      <th>credit_amount</th>\n",
       "      <th>duration</th>\n",
       "      <th>purpose_x</th>\n",
       "      <th>credit_risk</th>\n",
       "      <th>creditability</th>\n",
       "      <th>account_balance</th>\n",
       "      <th>duration_of_credit_(month)</th>\n",
       "      <th>payment_status_of_previous_credit</th>\n",
       "      <th>purpose_y</th>\n",
       "      <th>value_savings/stocks</th>\n",
       "      <th>length_of_current_employment</th>\n",
       "    </tr>\n",
       "  </thead>\n",
       "  <tbody>\n",
       "    <tr>\n",
       "      <th>0</th>\n",
       "      <td>67</td>\n",
       "      <td>male</td>\n",
       "      <td>2</td>\n",
       "      <td>own</td>\n",
       "      <td>1169</td>\n",
       "      <td>6</td>\n",
       "      <td>radio/TV</td>\n",
       "      <td>1</td>\n",
       "      <td>1</td>\n",
       "      <td>1</td>\n",
       "      <td>6</td>\n",
       "      <td>4</td>\n",
       "      <td>3</td>\n",
       "      <td>5</td>\n",
       "      <td>5</td>\n",
       "    </tr>\n",
       "    <tr>\n",
       "      <th>1</th>\n",
       "      <td>22</td>\n",
       "      <td>female</td>\n",
       "      <td>2</td>\n",
       "      <td>own</td>\n",
       "      <td>5951</td>\n",
       "      <td>48</td>\n",
       "      <td>radio/TV</td>\n",
       "      <td>2</td>\n",
       "      <td>0</td>\n",
       "      <td>2</td>\n",
       "      <td>48</td>\n",
       "      <td>2</td>\n",
       "      <td>3</td>\n",
       "      <td>1</td>\n",
       "      <td>3</td>\n",
       "    </tr>\n",
       "    <tr>\n",
       "      <th>2</th>\n",
       "      <td>49</td>\n",
       "      <td>male</td>\n",
       "      <td>1</td>\n",
       "      <td>own</td>\n",
       "      <td>2096</td>\n",
       "      <td>12</td>\n",
       "      <td>education</td>\n",
       "      <td>1</td>\n",
       "      <td>1</td>\n",
       "      <td>4</td>\n",
       "      <td>12</td>\n",
       "      <td>4</td>\n",
       "      <td>6</td>\n",
       "      <td>1</td>\n",
       "      <td>4</td>\n",
       "    </tr>\n",
       "    <tr>\n",
       "      <th>3</th>\n",
       "      <td>45</td>\n",
       "      <td>male</td>\n",
       "      <td>2</td>\n",
       "      <td>free</td>\n",
       "      <td>7882</td>\n",
       "      <td>42</td>\n",
       "      <td>furniture/equipment</td>\n",
       "      <td>1</td>\n",
       "      <td>1</td>\n",
       "      <td>1</td>\n",
       "      <td>42</td>\n",
       "      <td>2</td>\n",
       "      <td>2</td>\n",
       "      <td>1</td>\n",
       "      <td>4</td>\n",
       "    </tr>\n",
       "    <tr>\n",
       "      <th>4</th>\n",
       "      <td>53</td>\n",
       "      <td>male</td>\n",
       "      <td>2</td>\n",
       "      <td>free</td>\n",
       "      <td>4870</td>\n",
       "      <td>24</td>\n",
       "      <td>car</td>\n",
       "      <td>2</td>\n",
       "      <td>0</td>\n",
       "      <td>1</td>\n",
       "      <td>24</td>\n",
       "      <td>3</td>\n",
       "      <td>0</td>\n",
       "      <td>1</td>\n",
       "      <td>3</td>\n",
       "    </tr>\n",
       "    <tr>\n",
       "      <th>...</th>\n",
       "      <td>...</td>\n",
       "      <td>...</td>\n",
       "      <td>...</td>\n",
       "      <td>...</td>\n",
       "      <td>...</td>\n",
       "      <td>...</td>\n",
       "      <td>...</td>\n",
       "      <td>...</td>\n",
       "      <td>...</td>\n",
       "      <td>...</td>\n",
       "      <td>...</td>\n",
       "      <td>...</td>\n",
       "      <td>...</td>\n",
       "      <td>...</td>\n",
       "      <td>...</td>\n",
       "    </tr>\n",
       "    <tr>\n",
       "      <th>944</th>\n",
       "      <td>31</td>\n",
       "      <td>male</td>\n",
       "      <td>2</td>\n",
       "      <td>own</td>\n",
       "      <td>3621</td>\n",
       "      <td>24</td>\n",
       "      <td>radio/TV</td>\n",
       "      <td>2</td>\n",
       "      <td>0</td>\n",
       "      <td>4</td>\n",
       "      <td>24</td>\n",
       "      <td>2</td>\n",
       "      <td>3</td>\n",
       "      <td>2</td>\n",
       "      <td>5</td>\n",
       "    </tr>\n",
       "    <tr>\n",
       "      <th>945</th>\n",
       "      <td>40</td>\n",
       "      <td>male</td>\n",
       "      <td>0</td>\n",
       "      <td>own</td>\n",
       "      <td>3590</td>\n",
       "      <td>18</td>\n",
       "      <td>business</td>\n",
       "      <td>1</td>\n",
       "      <td>1</td>\n",
       "      <td>2</td>\n",
       "      <td>18</td>\n",
       "      <td>4</td>\n",
       "      <td>9</td>\n",
       "      <td>1</td>\n",
       "      <td>1</td>\n",
       "    </tr>\n",
       "    <tr>\n",
       "      <th>946</th>\n",
       "      <td>24</td>\n",
       "      <td>male</td>\n",
       "      <td>2</td>\n",
       "      <td>own</td>\n",
       "      <td>2145</td>\n",
       "      <td>36</td>\n",
       "      <td>business</td>\n",
       "      <td>2</td>\n",
       "      <td>0</td>\n",
       "      <td>1</td>\n",
       "      <td>36</td>\n",
       "      <td>3</td>\n",
       "      <td>9</td>\n",
       "      <td>1</td>\n",
       "      <td>4</td>\n",
       "    </tr>\n",
       "    <tr>\n",
       "      <th>947</th>\n",
       "      <td>28</td>\n",
       "      <td>female</td>\n",
       "      <td>2</td>\n",
       "      <td>rent</td>\n",
       "      <td>4113</td>\n",
       "      <td>24</td>\n",
       "      <td>car</td>\n",
       "      <td>2</td>\n",
       "      <td>0</td>\n",
       "      <td>2</td>\n",
       "      <td>24</td>\n",
       "      <td>2</td>\n",
       "      <td>1</td>\n",
       "      <td>3</td>\n",
       "      <td>2</td>\n",
       "    </tr>\n",
       "    <tr>\n",
       "      <th>948</th>\n",
       "      <td>26</td>\n",
       "      <td>female</td>\n",
       "      <td>3</td>\n",
       "      <td>own</td>\n",
       "      <td>10974</td>\n",
       "      <td>36</td>\n",
       "      <td>furniture/equipment</td>\n",
       "      <td>2</td>\n",
       "      <td>0</td>\n",
       "      <td>4</td>\n",
       "      <td>36</td>\n",
       "      <td>2</td>\n",
       "      <td>2</td>\n",
       "      <td>1</td>\n",
       "      <td>1</td>\n",
       "    </tr>\n",
       "  </tbody>\n",
       "</table>\n",
       "<p>944 rows × 15 columns</p>\n",
       "</div>"
      ],
      "text/plain": [
       "     age     sex  job housing  credit_amount  duration            purpose_x  \\\n",
       "0     67    male    2     own           1169         6             radio/TV   \n",
       "1     22  female    2     own           5951        48             radio/TV   \n",
       "2     49    male    1     own           2096        12            education   \n",
       "3     45    male    2    free           7882        42  furniture/equipment   \n",
       "4     53    male    2    free           4870        24                  car   \n",
       "..   ...     ...  ...     ...            ...       ...                  ...   \n",
       "944   31    male    2     own           3621        24             radio/TV   \n",
       "945   40    male    0     own           3590        18             business   \n",
       "946   24    male    2     own           2145        36             business   \n",
       "947   28  female    2    rent           4113        24                  car   \n",
       "948   26  female    3     own          10974        36  furniture/equipment   \n",
       "\n",
       "     credit_risk  creditability  account_balance  duration_of_credit_(month)  \\\n",
       "0              1              1                1                           6   \n",
       "1              2              0                2                          48   \n",
       "2              1              1                4                          12   \n",
       "3              1              1                1                          42   \n",
       "4              2              0                1                          24   \n",
       "..           ...            ...              ...                         ...   \n",
       "944            2              0                4                          24   \n",
       "945            1              1                2                          18   \n",
       "946            2              0                1                          36   \n",
       "947            2              0                2                          24   \n",
       "948            2              0                4                          36   \n",
       "\n",
       "     payment_status_of_previous_credit  purpose_y  value_savings/stocks  \\\n",
       "0                                    4          3                     5   \n",
       "1                                    2          3                     1   \n",
       "2                                    4          6                     1   \n",
       "3                                    2          2                     1   \n",
       "4                                    3          0                     1   \n",
       "..                                 ...        ...                   ...   \n",
       "944                                  2          3                     2   \n",
       "945                                  4          9                     1   \n",
       "946                                  3          9                     1   \n",
       "947                                  2          1                     3   \n",
       "948                                  2          2                     1   \n",
       "\n",
       "     length_of_current_employment  \n",
       "0                               5  \n",
       "1                               3  \n",
       "2                               4  \n",
       "3                               4  \n",
       "4                               3  \n",
       "..                            ...  \n",
       "944                             5  \n",
       "945                             1  \n",
       "946                             4  \n",
       "947                             2  \n",
       "948                             1  \n",
       "\n",
       "[944 rows x 15 columns]"
      ]
     },
     "execution_count": 20,
     "metadata": {},
     "output_type": "execute_result"
    }
   ],
   "source": [
    "data.iloc[:,:15]"
   ]
  },
  {
   "cell_type": "markdown",
   "id": "a1eecf59",
   "metadata": {},
   "source": [
    "### Age"
   ]
  },
  {
   "cell_type": "code",
   "execution_count": 21,
   "id": "5a8411e0",
   "metadata": {},
   "outputs": [
    {
     "data": {
      "text/plain": [
       "0"
      ]
     },
     "execution_count": 21,
     "metadata": {},
     "output_type": "execute_result"
    }
   ],
   "source": [
    "data.age.isnull().sum()"
   ]
  },
  {
   "cell_type": "code",
   "execution_count": 22,
   "id": "34c78ec1",
   "metadata": {},
   "outputs": [
    {
     "data": {
      "text/plain": [
       "<Axes: ylabel='Frequency'>"
      ]
     },
     "execution_count": 22,
     "metadata": {},
     "output_type": "execute_result"
    },
    {
     "data": {
      "image/png": "[encoded data removed]",
      "text/plain": [
       "<Figure size 640x480 with 1 Axes>"
      ]
     },
     "metadata": {},
     "output_type": "display_data"
    }
   ],
   "source": [
    "data.age.plot(kind=\"hist\")"
   ]
  },
  {
   "cell_type": "markdown",
   "id": "9100abd2",
   "metadata": {},
   "source": [
    "### Sex"
   ]
  },
  {
   "cell_type": "code",
   "execution_count": 23,
   "id": "1f4e10ec",
   "metadata": {},
   "outputs": [
    {
     "data": {
      "text/plain": [
       "0"
      ]
     },
     "execution_count": 23,
     "metadata": {},
     "output_type": "execute_result"
    }
   ],
   "source": [
    "data.sex.isnull().sum()"
   ]
  },
  {
   "cell_type": "code",
   "execution_count": 24,
   "id": "1f0a69ed",
   "metadata": {},
   "outputs": [
    {
     "data": {
      "text/plain": [
       "male      647\n",
       "female    297\n",
       "Name: sex, dtype: int64"
      ]
     },
     "execution_count": 24,
     "metadata": {},
     "output_type": "execute_result"
    }
   ],
   "source": [
    "data.sex.value_counts()"
   ]
  },
  {
   "cell_type": "code",
   "execution_count": 25,
   "id": "7cf9df0c",
   "metadata": {},
   "outputs": [],
   "source": [
    "def sex(x):\n",
    "    if x == 'male':\n",
    "        return 1\n",
    "    else:\n",
    "        return 2\n",
    "\n",
    "data['sex'] = data['sex'].apply(sex)"
   ]
  },
  {
   "cell_type": "markdown",
   "id": "3308065e",
   "metadata": {},
   "source": [
    "### job"
   ]
  },
  {
   "cell_type": "markdown",
   "id": "872c055c",
   "metadata": {},
   "source": [
    "- A171 (0): unemployed/ unskilled - non-resident\n",
    "- A172 (1): unskilled - resident\n",
    "- A173 (2): skilled employee / official\n",
    "- A174 (3): management/ self-employed/highly qualified employee/ officer"
   ]
  },
  {
   "cell_type": "code",
   "execution_count": 26,
   "id": "ade01a6b",
   "metadata": {},
   "outputs": [
    {
     "data": {
      "text/plain": [
       "2    602\n",
       "1    182\n",
       "3    139\n",
       "0     21\n",
       "Name: job, dtype: int64"
      ]
     },
     "execution_count": 26,
     "metadata": {},
     "output_type": "execute_result"
    }
   ],
   "source": [
    "data.job.value_counts()"
   ]
  },
  {
   "cell_type": "code",
   "execution_count": 27,
   "id": "3c789765",
   "metadata": {},
   "outputs": [],
   "source": [
    "#downloading the original data"
   ]
  },
  {
   "cell_type": "code",
   "execution_count": 28,
   "id": "28e91c41",
   "metadata": {},
   "outputs": [
    {
     "data": {
      "text/html": [
       "<div>\n",
       "<style scoped>\n",
       "    .dataframe tbody tr th:only-of-type {\n",
       "        vertical-align: middle;\n",
       "    }\n",
       "\n",
       "    .dataframe tbody tr th {\n",
       "        vertical-align: top;\n",
       "    }\n",
       "\n",
       "    .dataframe thead th {\n",
       "        text-align: right;\n",
       "    }\n",
       "</style>\n",
       "<table border=\"1\" class=\"dataframe\">\n",
       "  <thead>\n",
       "    <tr style=\"text-align: right;\">\n",
       "      <th></th>\n",
       "      <th>0</th>\n",
       "      <th>1</th>\n",
       "      <th>2</th>\n",
       "      <th>3</th>\n",
       "      <th>4</th>\n",
       "      <th>5</th>\n",
       "      <th>6</th>\n",
       "      <th>7</th>\n",
       "      <th>8</th>\n",
       "      <th>9</th>\n",
       "      <th>...</th>\n",
       "      <th>11</th>\n",
       "      <th>12</th>\n",
       "      <th>13</th>\n",
       "      <th>14</th>\n",
       "      <th>15</th>\n",
       "      <th>16</th>\n",
       "      <th>17</th>\n",
       "      <th>18</th>\n",
       "      <th>19</th>\n",
       "      <th>20</th>\n",
       "    </tr>\n",
       "  </thead>\n",
       "  <tbody>\n",
       "    <tr>\n",
       "      <th>0</th>\n",
       "      <td>A11</td>\n",
       "      <td>6</td>\n",
       "      <td>A34</td>\n",
       "      <td>A43</td>\n",
       "      <td>1169</td>\n",
       "      <td>A65</td>\n",
       "      <td>A75</td>\n",
       "      <td>4</td>\n",
       "      <td>A93</td>\n",
       "      <td>A101</td>\n",
       "      <td>...</td>\n",
       "      <td>A121</td>\n",
       "      <td>67</td>\n",
       "      <td>A143</td>\n",
       "      <td>A152</td>\n",
       "      <td>2</td>\n",
       "      <td>A173</td>\n",
       "      <td>1</td>\n",
       "      <td>A192</td>\n",
       "      <td>A201</td>\n",
       "      <td>1</td>\n",
       "    </tr>\n",
       "    <tr>\n",
       "      <th>1</th>\n",
       "      <td>A12</td>\n",
       "      <td>48</td>\n",
       "      <td>A32</td>\n",
       "      <td>A43</td>\n",
       "      <td>5951</td>\n",
       "      <td>A61</td>\n",
       "      <td>A73</td>\n",
       "      <td>2</td>\n",
       "      <td>A92</td>\n",
       "      <td>A101</td>\n",
       "      <td>...</td>\n",
       "      <td>A121</td>\n",
       "      <td>22</td>\n",
       "      <td>A143</td>\n",
       "      <td>A152</td>\n",
       "      <td>1</td>\n",
       "      <td>A173</td>\n",
       "      <td>1</td>\n",
       "      <td>A191</td>\n",
       "      <td>A201</td>\n",
       "      <td>2</td>\n",
       "    </tr>\n",
       "    <tr>\n",
       "      <th>2</th>\n",
       "      <td>A14</td>\n",
       "      <td>12</td>\n",
       "      <td>A34</td>\n",
       "      <td>A46</td>\n",
       "      <td>2096</td>\n",
       "      <td>A61</td>\n",
       "      <td>A74</td>\n",
       "      <td>2</td>\n",
       "      <td>A93</td>\n",
       "      <td>A101</td>\n",
       "      <td>...</td>\n",
       "      <td>A121</td>\n",
       "      <td>49</td>\n",
       "      <td>A143</td>\n",
       "      <td>A152</td>\n",
       "      <td>1</td>\n",
       "      <td>A172</td>\n",
       "      <td>2</td>\n",
       "      <td>A191</td>\n",
       "      <td>A201</td>\n",
       "      <td>1</td>\n",
       "    </tr>\n",
       "    <tr>\n",
       "      <th>3</th>\n",
       "      <td>A11</td>\n",
       "      <td>42</td>\n",
       "      <td>A32</td>\n",
       "      <td>A42</td>\n",
       "      <td>7882</td>\n",
       "      <td>A61</td>\n",
       "      <td>A74</td>\n",
       "      <td>2</td>\n",
       "      <td>A93</td>\n",
       "      <td>A103</td>\n",
       "      <td>...</td>\n",
       "      <td>A122</td>\n",
       "      <td>45</td>\n",
       "      <td>A143</td>\n",
       "      <td>A153</td>\n",
       "      <td>1</td>\n",
       "      <td>A173</td>\n",
       "      <td>2</td>\n",
       "      <td>A191</td>\n",
       "      <td>A201</td>\n",
       "      <td>1</td>\n",
       "    </tr>\n",
       "    <tr>\n",
       "      <th>4</th>\n",
       "      <td>A11</td>\n",
       "      <td>24</td>\n",
       "      <td>A33</td>\n",
       "      <td>A40</td>\n",
       "      <td>4870</td>\n",
       "      <td>A61</td>\n",
       "      <td>A73</td>\n",
       "      <td>3</td>\n",
       "      <td>A93</td>\n",
       "      <td>A101</td>\n",
       "      <td>...</td>\n",
       "      <td>A124</td>\n",
       "      <td>53</td>\n",
       "      <td>A143</td>\n",
       "      <td>A153</td>\n",
       "      <td>2</td>\n",
       "      <td>A173</td>\n",
       "      <td>2</td>\n",
       "      <td>A191</td>\n",
       "      <td>A201</td>\n",
       "      <td>2</td>\n",
       "    </tr>\n",
       "  </tbody>\n",
       "</table>\n",
       "<p>5 rows × 21 columns</p>\n",
       "</div>"
      ],
      "text/plain": [
       "    0   1    2    3     4    5    6   7    8     9   ...    11  12    13  \\\n",
       "0  A11   6  A34  A43  1169  A65  A75   4  A93  A101  ...  A121  67  A143   \n",
       "1  A12  48  A32  A43  5951  A61  A73   2  A92  A101  ...  A121  22  A143   \n",
       "2  A14  12  A34  A46  2096  A61  A74   2  A93  A101  ...  A121  49  A143   \n",
       "3  A11  42  A32  A42  7882  A61  A74   2  A93  A103  ...  A122  45  A143   \n",
       "4  A11  24  A33  A40  4870  A61  A73   3  A93  A101  ...  A124  53  A143   \n",
       "\n",
       "     14 15    16 17    18    19 20  \n",
       "0  A152  2  A173  1  A192  A201  1  \n",
       "1  A152  1  A173  1  A191  A201  2  \n",
       "2  A152  1  A172  2  A191  A201  1  \n",
       "3  A153  1  A173  2  A191  A201  1  \n",
       "4  A153  2  A173  2  A191  A201  2  \n",
       "\n",
       "[5 rows x 21 columns]"
      ]
     },
     "metadata": {},
     "output_type": "display_data"
    },
    {
     "data": {
      "text/plain": [
       "(1000, 21)"
      ]
     },
     "metadata": {},
     "output_type": "display_data"
    }
   ],
   "source": [
    "data_3 = pd.read_csv('../Data/Raw/german_uci_risk.data', sep=\" \",header=None)\n",
    "display(data_3.head())\n",
    "display(data_3.shape)"
   ]
  },
  {
   "cell_type": "code",
   "execution_count": 29,
   "id": "0b251251",
   "metadata": {},
   "outputs": [
    {
     "data": {
      "text/plain": [
       "A173    630\n",
       "A172    200\n",
       "A174    148\n",
       "A171     22\n",
       "Name: 16, dtype: int64"
      ]
     },
     "execution_count": 29,
     "metadata": {},
     "output_type": "execute_result"
    }
   ],
   "source": [
    "data_3[16].value_counts()"
   ]
  },
  {
   "cell_type": "code",
   "execution_count": 30,
   "id": "c04761a8",
   "metadata": {},
   "outputs": [
    {
     "data": {
      "text/plain": [
       "0"
      ]
     },
     "execution_count": 30,
     "metadata": {},
     "output_type": "execute_result"
    }
   ],
   "source": [
    "data.job.isnull().sum()"
   ]
  },
  {
   "cell_type": "code",
   "execution_count": 31,
   "id": "859988fc",
   "metadata": {},
   "outputs": [
    {
     "data": {
      "text/plain": [
       "<Axes: ylabel='Frequency'>"
      ]
     },
     "execution_count": 31,
     "metadata": {},
     "output_type": "execute_result"
    },
    {
     "data": {
      "image/png": "[encoded data removed]",
      "text/plain": [
       "<Figure size 640x480 with 1 Axes>"
      ]
     },
     "metadata": {},
     "output_type": "display_data"
    }
   ],
   "source": [
    "data.job.plot(kind='hist')"
   ]
  },
  {
   "cell_type": "markdown",
   "id": "3a11f07e",
   "metadata": {},
   "source": [
    "### Housing"
   ]
  },
  {
   "cell_type": "code",
   "execution_count": 32,
   "id": "86566a94",
   "metadata": {},
   "outputs": [
    {
     "data": {
      "text/plain": [
       "own     670\n",
       "rent    169\n",
       "free    105\n",
       "Name: housing, dtype: int64"
      ]
     },
     "execution_count": 32,
     "metadata": {},
     "output_type": "execute_result"
    }
   ],
   "source": [
    "data.housing.value_counts()"
   ]
  },
  {
   "cell_type": "markdown",
   "id": "deddbdb0",
   "metadata": {},
   "source": [
    "<font color='blue'> dummify <font>"
   ]
  },
  {
   "cell_type": "markdown",
   "id": "aecd7b69",
   "metadata": {},
   "source": [
    "### credit_amount"
   ]
  },
  {
   "cell_type": "code",
   "execution_count": 33,
   "id": "f785c616",
   "metadata": {},
   "outputs": [
    {
     "name": "stderr",
     "output_type": "stream",
     "text": [
      "/var/folders/2b/6f80d7g11sl53b_wrqy2w81r0000gn/T/ipykernel_36952/3503212106.py:2: MatplotlibDeprecationWarning: The seaborn styles shipped by Matplotlib are deprecated since 3.6, as they no longer correspond to the styles shipped by seaborn. However, they will remain available as 'seaborn-v0_8-<style>'. Alternatively, directly use the seaborn API instead.\n",
      "  plt.style.use('seaborn-pastel')\n"
     ]
    },
    {
     "data": {
      "text/plain": [
       "<Axes: xlabel='credit_amount', ylabel='Count'>"
      ]
     },
     "execution_count": 33,
     "metadata": {},
     "output_type": "execute_result"
    },
    {
     "data": {
      "image/png": "[encoded data removed]",
      "text/plain": [
       "<Figure size 600x600 with 1 Axes>"
      ]
     },
     "metadata": {},
     "output_type": "display_data"
    }
   ],
   "source": [
    "plt.figure(figsize=(6, 6))\n",
    "plt.style.use('seaborn-pastel')\n",
    "\n",
    "sns.histplot(x='credit_amount',data=data)"
   ]
  },
  {
   "cell_type": "markdown",
   "id": "1ca4f7b3",
   "metadata": {},
   "source": [
    "### duration"
   ]
  },
  {
   "cell_type": "code",
   "execution_count": 34,
   "id": "799992fe",
   "metadata": {},
   "outputs": [
    {
     "data": {
      "text/plain": [
       "array([ 6, 48, 12, 42, 24, 36, 30, 15,  9, 10,  7, 60, 18, 11, 27,  8, 54,\n",
       "       20, 14, 33, 21, 16, 45,  4, 47, 13, 22, 39, 28,  5, 26, 72, 40])"
      ]
     },
     "execution_count": 34,
     "metadata": {},
     "output_type": "execute_result"
    }
   ],
   "source": [
    "data.duration.unique()"
   ]
  },
  {
   "cell_type": "code",
   "execution_count": 35,
   "id": "64c8912b",
   "metadata": {},
   "outputs": [
    {
     "data": {
      "text/plain": [
       "<Axes: xlabel='duration', ylabel='Count'>"
      ]
     },
     "execution_count": 35,
     "metadata": {},
     "output_type": "execute_result"
    },
    {
     "data": {
      "image/png": "[encoded data removed]",
      "text/plain": [
       "<Figure size 600x600 with 1 Axes>"
      ]
     },
     "metadata": {},
     "output_type": "display_data"
    }
   ],
   "source": [
    "plt.figure(figsize=(6,6))\n",
    "plt.style.use('tableau-colorblind10')\n",
    "\n",
    "sns.histplot(x='duration', data=data)"
   ]
  },
  {
   "cell_type": "code",
   "execution_count": 36,
   "id": "3603ad8c",
   "metadata": {},
   "outputs": [],
   "source": [
    "data.drop(columns='duration_of_credit_(month)',inplace=True)"
   ]
  },
  {
   "cell_type": "markdown",
   "id": "20273722",
   "metadata": {},
   "source": [
    "### purpose"
   ]
  },
  {
   "cell_type": "code",
   "execution_count": 37,
   "id": "bcddf082",
   "metadata": {},
   "outputs": [],
   "source": [
    "data.drop(columns='purpose_y',inplace=True)"
   ]
  },
  {
   "cell_type": "code",
   "execution_count": 38,
   "id": "1968fa3c",
   "metadata": {},
   "outputs": [],
   "source": [
    "data.rename(columns={'purpose_x':'purpose'},inplace=True)"
   ]
  },
  {
   "cell_type": "code",
   "execution_count": 39,
   "id": "40198181",
   "metadata": {},
   "outputs": [
    {
     "data": {
      "text/plain": [
       "car                    321\n",
       "radio/TV               257\n",
       "furniture/equipment    173\n",
       "business                91\n",
       "education               58\n",
       "repairs                 20\n",
       "domestic appliances     12\n",
       "vacation/others         12\n",
       "Name: purpose, dtype: int64"
      ]
     },
     "execution_count": 39,
     "metadata": {},
     "output_type": "execute_result"
    }
   ],
   "source": [
    "data.purpose.value_counts()"
   ]
  },
  {
   "cell_type": "markdown",
   "id": "fdc9ecb8",
   "metadata": {},
   "source": [
    "<font color='blue'> dummify <font>"
   ]
  },
  {
   "cell_type": "markdown",
   "id": "e7ac35e9",
   "metadata": {},
   "source": [
    "### credit_risk"
   ]
  },
  {
   "cell_type": "markdown",
   "id": "b2c815b1",
   "metadata": {},
   "source": [
    "possible column y: (1 = Good, 2 = Bad)"
   ]
  },
  {
   "cell_type": "code",
   "execution_count": 40,
   "id": "7b52bd1b",
   "metadata": {},
   "outputs": [
    {
     "data": {
      "text/plain": [
       "1    656\n",
       "2    288\n",
       "Name: credit_risk, dtype: int64"
      ]
     },
     "execution_count": 40,
     "metadata": {},
     "output_type": "execute_result"
    }
   ],
   "source": [
    "data.credit_risk.value_counts()"
   ]
  },
  {
   "cell_type": "code",
   "execution_count": 41,
   "id": "38393847",
   "metadata": {},
   "outputs": [],
   "source": [
    "data.rename(columns={'credit_risk':'y_credit_risk'},inplace=True)"
   ]
  },
  {
   "cell_type": "markdown",
   "id": "acfd1e73",
   "metadata": {},
   "source": [
    "### creditability"
   ]
  },
  {
   "cell_type": "markdown",
   "id": "fa739baa",
   "metadata": {},
   "source": [
    "Column y = 1:good, 0:bad, no credit.\n",
    "\n",
    "<br>\n",
    "Same column as credit risk"
   ]
  },
  {
   "cell_type": "code",
   "execution_count": 42,
   "id": "6d7390bd",
   "metadata": {},
   "outputs": [
    {
     "data": {
      "text/plain": [
       "1    656\n",
       "0    288\n",
       "Name: creditability, dtype: int64"
      ]
     },
     "execution_count": 42,
     "metadata": {},
     "output_type": "execute_result"
    }
   ],
   "source": [
    "data.creditability.value_counts()"
   ]
  },
  {
   "cell_type": "code",
   "execution_count": 43,
   "id": "a2dbd603",
   "metadata": {},
   "outputs": [],
   "source": [
    "data.rename(columns={'creditability':'y_creditability'},inplace=True)"
   ]
  },
  {
   "cell_type": "code",
   "execution_count": 44,
   "id": "5b655641",
   "metadata": {},
   "outputs": [
    {
     "data": {
      "text/html": [
       "<div>\n",
       "<style scoped>\n",
       "    .dataframe tbody tr th:only-of-type {\n",
       "        vertical-align: middle;\n",
       "    }\n",
       "\n",
       "    .dataframe tbody tr th {\n",
       "        vertical-align: top;\n",
       "    }\n",
       "\n",
       "    .dataframe thead th {\n",
       "        text-align: right;\n",
       "    }\n",
       "</style>\n",
       "<table border=\"1\" class=\"dataframe\">\n",
       "  <thead>\n",
       "    <tr style=\"text-align: right;\">\n",
       "      <th></th>\n",
       "      <th>y_creditability</th>\n",
       "      <th>y_credit_risk</th>\n",
       "    </tr>\n",
       "  </thead>\n",
       "  <tbody>\n",
       "    <tr>\n",
       "      <th>0</th>\n",
       "      <td>1</td>\n",
       "      <td>1</td>\n",
       "    </tr>\n",
       "    <tr>\n",
       "      <th>1</th>\n",
       "      <td>0</td>\n",
       "      <td>2</td>\n",
       "    </tr>\n",
       "    <tr>\n",
       "      <th>2</th>\n",
       "      <td>1</td>\n",
       "      <td>1</td>\n",
       "    </tr>\n",
       "    <tr>\n",
       "      <th>3</th>\n",
       "      <td>1</td>\n",
       "      <td>1</td>\n",
       "    </tr>\n",
       "    <tr>\n",
       "      <th>4</th>\n",
       "      <td>0</td>\n",
       "      <td>2</td>\n",
       "    </tr>\n",
       "    <tr>\n",
       "      <th>...</th>\n",
       "      <td>...</td>\n",
       "      <td>...</td>\n",
       "    </tr>\n",
       "    <tr>\n",
       "      <th>944</th>\n",
       "      <td>0</td>\n",
       "      <td>2</td>\n",
       "    </tr>\n",
       "    <tr>\n",
       "      <th>945</th>\n",
       "      <td>1</td>\n",
       "      <td>1</td>\n",
       "    </tr>\n",
       "    <tr>\n",
       "      <th>946</th>\n",
       "      <td>0</td>\n",
       "      <td>2</td>\n",
       "    </tr>\n",
       "    <tr>\n",
       "      <th>947</th>\n",
       "      <td>0</td>\n",
       "      <td>2</td>\n",
       "    </tr>\n",
       "    <tr>\n",
       "      <th>948</th>\n",
       "      <td>0</td>\n",
       "      <td>2</td>\n",
       "    </tr>\n",
       "  </tbody>\n",
       "</table>\n",
       "<p>944 rows × 2 columns</p>\n",
       "</div>"
      ],
      "text/plain": [
       "     y_creditability  y_credit_risk\n",
       "0                  1              1\n",
       "1                  0              2\n",
       "2                  1              1\n",
       "3                  1              1\n",
       "4                  0              2\n",
       "..               ...            ...\n",
       "944                0              2\n",
       "945                1              1\n",
       "946                0              2\n",
       "947                0              2\n",
       "948                0              2\n",
       "\n",
       "[944 rows x 2 columns]"
      ]
     },
     "execution_count": 44,
     "metadata": {},
     "output_type": "execute_result"
    }
   ],
   "source": [
    "data[['y_creditability','y_credit_risk']]"
   ]
  },
  {
   "cell_type": "code",
   "execution_count": 45,
   "id": "8df1fb68",
   "metadata": {},
   "outputs": [],
   "source": [
    "data.drop(columns='y_credit_risk',inplace=True)"
   ]
  },
  {
   "cell_type": "markdown",
   "id": "b7538cc5",
   "metadata": {},
   "source": [
    "### account_balance "
   ]
  },
  {
   "cell_type": "markdown",
   "id": "2ae1ad47",
   "metadata": {},
   "source": [
    "\n",
    "Status of existing checking account\n",
    "- 1 (A11) : ... < 0 Eu\n",
    "- 2 (A12) : 0 <= ... < 400 Eu\n",
    "- 3 (A13) : ... >= 400 Eu \n",
    "- 4 (A14) : no checking account"
   ]
  },
  {
   "cell_type": "code",
   "execution_count": 46,
   "id": "e96558ac",
   "metadata": {},
   "outputs": [
    {
     "data": {
      "text/plain": [
       "4    373\n",
       "1    260\n",
       "2    253\n",
       "3     58\n",
       "Name: account_balance, dtype: int64"
      ]
     },
     "execution_count": 46,
     "metadata": {},
     "output_type": "execute_result"
    }
   ],
   "source": [
    "data.account_balance.value_counts()"
   ]
  },
  {
   "cell_type": "code",
   "execution_count": 47,
   "id": "a4a0ade2",
   "metadata": {},
   "outputs": [
    {
     "data": {
      "text/plain": [
       "<Axes: xlabel='account_balance', ylabel='Count'>"
      ]
     },
     "execution_count": 47,
     "metadata": {},
     "output_type": "execute_result"
    },
    {
     "data": {
      "image/png": "[encoded data removed]",
      "text/plain": [
       "<Figure size 500x500 with 1 Axes>"
      ]
     },
     "metadata": {},
     "output_type": "display_data"
    }
   ],
   "source": [
    "plt.figure(figsize=(5,5))\n",
    "plt.style.use('tableau-colorblind10')\n",
    "\n",
    "sns.histplot(x='account_balance', data=data)"
   ]
  },
  {
   "cell_type": "markdown",
   "id": "09f6a070",
   "metadata": {},
   "source": [
    "<font color='blue'> maybe drop </font>"
   ]
  },
  {
   "cell_type": "markdown",
   "id": "19ce4f5f",
   "metadata": {},
   "source": [
    "### credit_history / payment_status_of_previous_credit"
   ]
  },
  {
   "cell_type": "code",
   "execution_count": 48,
   "id": "96615c13",
   "metadata": {},
   "outputs": [
    {
     "data": {
      "text/plain": [
       "2    501\n",
       "4    276\n",
       "3     83\n",
       "1     45\n",
       "0     39\n",
       "Name: payment_status_of_previous_credit, dtype: int64"
      ]
     },
     "execution_count": 48,
     "metadata": {},
     "output_type": "execute_result"
    }
   ],
   "source": [
    "data.payment_status_of_previous_credit.value_counts()"
   ]
  },
  {
   "cell_type": "code",
   "execution_count": 49,
   "id": "0c9e8d74",
   "metadata": {},
   "outputs": [],
   "source": [
    "data.rename(columns={'payment_status_of_previous_credit':'credit_history'},inplace=True)"
   ]
  },
  {
   "cell_type": "markdown",
   "id": "ae8932d3",
   "metadata": {},
   "source": [
    "Credit history\n",
    "- 0 (A30) : no credits taken/ all credits paid back duly\n",
    "- 1 (A31) : all credits at this bank paid back duly\n",
    "- 2 (A32) : existing credits paid back duly till now\n",
    "- 3 (A33) : delay in paying off in the past\n",
    "- 4 (A34) : critical account/ other credits existing (not at this bank)"
   ]
  },
  {
   "cell_type": "markdown",
   "id": "54683a94",
   "metadata": {},
   "source": [
    "### savings / value_savings/stocks"
   ]
  },
  {
   "cell_type": "markdown",
   "id": "2e3bd4ef",
   "metadata": {},
   "source": [
    "- 1 (A61) : ... < 200 Eu\n",
    "- 2 (A62) : 200 <= ... < 1000 Eu\n",
    "- 3 (A63) : 1000 <= ... < 2000 Eu\n",
    "- 4 (A64) : .. >= 2000 Eu\n",
    "- 5 (A65) : unknown/ no savings account"
   ]
  },
  {
   "cell_type": "code",
   "execution_count": 50,
   "id": "51a9c485",
   "metadata": {},
   "outputs": [
    {
     "data": {
      "text/plain": [
       "1    570\n",
       "5    174\n",
       "2     96\n",
       "3     58\n",
       "4     46\n",
       "Name: value_savings/stocks, dtype: int64"
      ]
     },
     "execution_count": 50,
     "metadata": {},
     "output_type": "execute_result"
    }
   ],
   "source": [
    "data['value_savings/stocks'].value_counts()"
   ]
  },
  {
   "cell_type": "code",
   "execution_count": 51,
   "id": "6d42f221",
   "metadata": {},
   "outputs": [],
   "source": [
    "data.rename(columns={'value_savings/stocks':'savings'},inplace=True)"
   ]
  },
  {
   "cell_type": "markdown",
   "id": "9894befd",
   "metadata": {},
   "source": [
    "### length_of_current_employment"
   ]
  },
  {
   "cell_type": "markdown",
   "id": "b7fc5b25",
   "metadata": {},
   "source": [
    "Present employment since:\n",
    "\n",
    "- 1 (A71) : unemployed\n",
    "- 2 (A72) : ... < 1 year\n",
    "- 3 (A73) : 1 <= ... < 4 years\n",
    "- 4 (A74) : 4 <= ... < 7 years\n",
    "- 5 (A75) : .. >= 7 years"
   ]
  },
  {
   "cell_type": "code",
   "execution_count": 52,
   "id": "43858b1f",
   "metadata": {},
   "outputs": [
    {
     "data": {
      "text/plain": [
       "3    316\n",
       "5    236\n",
       "4    168\n",
       "2    168\n",
       "1     56\n",
       "Name: length_of_current_employment, dtype: int64"
      ]
     },
     "execution_count": 52,
     "metadata": {},
     "output_type": "execute_result"
    }
   ],
   "source": [
    "data.length_of_current_employment.value_counts()"
   ]
  },
  {
   "cell_type": "markdown",
   "id": "9746584a",
   "metadata": {},
   "source": [
    "### instalment_per_cent"
   ]
  },
  {
   "cell_type": "markdown",
   "id": "8c219894",
   "metadata": {},
   "source": [
    "Installment rate in percentage of disposable income"
   ]
  },
  {
   "cell_type": "code",
   "execution_count": 53,
   "id": "f7cf398b",
   "metadata": {},
   "outputs": [
    {
     "data": {
      "text/plain": [
       "4    448\n",
       "2    218\n",
       "3    147\n",
       "1    131\n",
       "Name: instalment_per_cent, dtype: int64"
      ]
     },
     "execution_count": 53,
     "metadata": {},
     "output_type": "execute_result"
    }
   ],
   "source": [
    "data.instalment_per_cent.value_counts()"
   ]
  },
  {
   "cell_type": "code",
   "execution_count": 54,
   "id": "e95b1a1d",
   "metadata": {},
   "outputs": [],
   "source": [
    "data.drop(columns = ['instalment_per_cent'], inplace = True)"
   ]
  },
  {
   "cell_type": "markdown",
   "id": "0dbaf971",
   "metadata": {},
   "source": [
    "### sex_&_marital_status"
   ]
  },
  {
   "cell_type": "code",
   "execution_count": 55,
   "id": "569b5eaa",
   "metadata": {},
   "outputs": [
    {
     "data": {
      "text/plain": [
       "3    514\n",
       "2    297\n",
       "4     87\n",
       "1     46\n",
       "Name: sex_&_marital_status, dtype: int64"
      ]
     },
     "execution_count": 55,
     "metadata": {},
     "output_type": "execute_result"
    }
   ],
   "source": [
    "data['sex_&_marital_status'].value_counts()"
   ]
  },
  {
   "cell_type": "markdown",
   "id": "3d43f058",
   "metadata": {},
   "source": [
    "Personal status and sex\n",
    "1. A91 : male : divorced/separated\n",
    "2. A92 : female : divorced/separated/married\n",
    "3. A93 : male : single\n",
    "4. A94 : male : married/widowed\n",
    "5. A95 : female : single"
   ]
  },
  {
   "cell_type": "code",
   "execution_count": 56,
   "id": "5b95da40",
   "metadata": {},
   "outputs": [
    {
     "data": {
      "text/plain": [
       "A93    548\n",
       "A92    310\n",
       "A94     92\n",
       "A91     50\n",
       "Name: 8, dtype: int64"
      ]
     },
     "execution_count": 56,
     "metadata": {},
     "output_type": "execute_result"
    }
   ],
   "source": [
    "data_3[8].value_counts()"
   ]
  },
  {
   "cell_type": "code",
   "execution_count": 57,
   "id": "697f4beb",
   "metadata": {},
   "outputs": [],
   "source": [
    "data.rename(columns = {'sex_&_marital_status':'marital_status'}, inplace = True)"
   ]
  },
  {
   "cell_type": "markdown",
   "id": "c119d70d",
   "metadata": {},
   "source": [
    "### guarantors"
   ]
  },
  {
   "cell_type": "code",
   "execution_count": 58,
   "id": "84cb60dc",
   "metadata": {},
   "outputs": [
    {
     "data": {
      "text/plain": [
       "1    856\n",
       "3     49\n",
       "2     39\n",
       "Name: guarantors, dtype: int64"
      ]
     },
     "execution_count": 58,
     "metadata": {},
     "output_type": "execute_result"
    }
   ],
   "source": [
    "data.guarantors.value_counts()"
   ]
  },
  {
   "cell_type": "markdown",
   "id": "b3c3e2b5",
   "metadata": {},
   "source": [
    "Other debtors / guarantors\n",
    "1. A101 : none\n",
    "2. A102 : co-applicant\n",
    "3. A103 : guarantor"
   ]
  },
  {
   "cell_type": "markdown",
   "id": "61a3397c",
   "metadata": {},
   "source": [
    "### duration_in_current_address"
   ]
  },
  {
   "cell_type": "code",
   "execution_count": 59,
   "id": "e8b492aa",
   "metadata": {},
   "outputs": [
    {
     "data": {
      "text/plain": [
       "4    389\n",
       "2    286\n",
       "3    144\n",
       "1    125\n",
       "Name: duration_in_current_address, dtype: int64"
      ]
     },
     "execution_count": 59,
     "metadata": {},
     "output_type": "execute_result"
    }
   ],
   "source": [
    "data.duration_in_current_address.value_counts()"
   ]
  },
  {
   "cell_type": "code",
   "execution_count": 60,
   "id": "f6b5e0fb",
   "metadata": {},
   "outputs": [],
   "source": [
    "data.drop(columns='duration_in_current_address',inplace = True)"
   ]
  },
  {
   "cell_type": "markdown",
   "id": "9cd3bf8e",
   "metadata": {},
   "source": [
    "### property / most_valuable_available_asset"
   ]
  },
  {
   "cell_type": "code",
   "execution_count": 61,
   "id": "7408f27a",
   "metadata": {},
   "outputs": [],
   "source": [
    "data.rename(columns={\"most_valuable_available_asset\":'property'}, inplace = True)"
   ]
  },
  {
   "cell_type": "code",
   "execution_count": 62,
   "id": "61a632c2",
   "metadata": {},
   "outputs": [
    {
     "data": {
      "text/plain": [
       "3    315\n",
       "1    270\n",
       "2    211\n",
       "4    148\n",
       "Name: property, dtype: int64"
      ]
     },
     "execution_count": 62,
     "metadata": {},
     "output_type": "execute_result"
    }
   ],
   "source": [
    "data.property.value_counts()"
   ]
  },
  {
   "cell_type": "markdown",
   "id": "74133306",
   "metadata": {},
   "source": [
    "1. A121 : real estate\n",
    "2. A122 : if not A121 : building society savings agreement/ life insurance\n",
    "3. A123 : if not A121/A122 : car or other, not in attribute 6\n",
    "4. A124 : unknown / no property"
   ]
  },
  {
   "cell_type": "markdown",
   "id": "aee39074",
   "metadata": {},
   "source": [
    "### concurrent_credits"
   ]
  },
  {
   "cell_type": "code",
   "execution_count": 63,
   "id": "9b837516",
   "metadata": {},
   "outputs": [
    {
     "data": {
      "text/plain": [
       "3    766\n",
       "1    132\n",
       "2     46\n",
       "Name: concurrent_credits, dtype: int64"
      ]
     },
     "execution_count": 63,
     "metadata": {},
     "output_type": "execute_result"
    }
   ],
   "source": [
    "data.concurrent_credits.value_counts()"
   ]
  },
  {
   "cell_type": "markdown",
   "id": "6a72ee13",
   "metadata": {},
   "source": [
    "Other installment plans\n",
    "1. A141 : bank\n",
    "2. A142 : stores\n",
    "3. A143 : none"
   ]
  },
  {
   "cell_type": "code",
   "execution_count": 64,
   "id": "e3dac36c",
   "metadata": {},
   "outputs": [
    {
     "data": {
      "text/plain": [
       "A143    814\n",
       "A141    139\n",
       "A142     47\n",
       "Name: 13, dtype: int64"
      ]
     },
     "execution_count": 64,
     "metadata": {},
     "output_type": "execute_result"
    }
   ],
   "source": [
    "data_3[13].value_counts()"
   ]
  },
  {
   "cell_type": "markdown",
   "id": "6104ab12",
   "metadata": {},
   "source": [
    "### type_of_apartment = Housing"
   ]
  },
  {
   "cell_type": "code",
   "execution_count": 65,
   "id": "13e4aefd",
   "metadata": {},
   "outputs": [
    {
     "data": {
      "text/plain": [
       "2    671\n",
       "1    169\n",
       "3    104\n",
       "Name: type_of_apartment, dtype: int64"
      ]
     },
     "execution_count": 65,
     "metadata": {},
     "output_type": "execute_result"
    }
   ],
   "source": [
    "data.type_of_apartment.value_counts()"
   ]
  },
  {
   "cell_type": "markdown",
   "id": "15486862",
   "metadata": {},
   "source": [
    "Housing\n",
    "- A151 : rent\n",
    "- A152 : own\n",
    "- A153 : for free"
   ]
  },
  {
   "cell_type": "code",
   "execution_count": 66,
   "id": "dbce32e1",
   "metadata": {},
   "outputs": [],
   "source": [
    "data.drop(columns = 'type_of_apartment', inplace = True)"
   ]
  },
  {
   "cell_type": "markdown",
   "id": "a0017792",
   "metadata": {},
   "source": [
    "### no_of_credits_at_this_bank"
   ]
  },
  {
   "cell_type": "code",
   "execution_count": 67,
   "id": "4bb14927",
   "metadata": {},
   "outputs": [
    {
     "data": {
      "text/plain": [
       "1    599\n",
       "2    312\n",
       "3     27\n",
       "4      6\n",
       "Name: no_of_credits_at_this_bank, dtype: int64"
      ]
     },
     "execution_count": 67,
     "metadata": {},
     "output_type": "execute_result"
    }
   ],
   "source": [
    "data.no_of_credits_at_this_bank.value_counts()"
   ]
  },
  {
   "cell_type": "markdown",
   "id": "f7a4c160",
   "metadata": {},
   "source": [
    "(numerical)\n",
    "Number of existing credits at this bank\n"
   ]
  },
  {
   "cell_type": "markdown",
   "id": "9c89028f",
   "metadata": {},
   "source": [
    "### occupation (equal to job)"
   ]
  },
  {
   "cell_type": "code",
   "execution_count": 68,
   "id": "de5e733e",
   "metadata": {},
   "outputs": [
    {
     "data": {
      "text/plain": [
       "3    602\n",
       "2    182\n",
       "4    139\n",
       "1     21\n",
       "Name: occupation, dtype: int64"
      ]
     },
     "execution_count": 68,
     "metadata": {},
     "output_type": "execute_result"
    }
   ],
   "source": [
    "data.occupation.value_counts()"
   ]
  },
  {
   "cell_type": "code",
   "execution_count": 69,
   "id": "7c99630b",
   "metadata": {},
   "outputs": [],
   "source": [
    "data.drop(columns='occupation', inplace = True)"
   ]
  },
  {
   "cell_type": "markdown",
   "id": "97dc8423",
   "metadata": {},
   "source": [
    "### no_of_dependents"
   ]
  },
  {
   "cell_type": "code",
   "execution_count": 70,
   "id": "f8d799f0",
   "metadata": {},
   "outputs": [
    {
     "data": {
      "text/plain": [
       "1    795\n",
       "2    149\n",
       "Name: no_of_dependents, dtype: int64"
      ]
     },
     "execution_count": 70,
     "metadata": {},
     "output_type": "execute_result"
    }
   ],
   "source": [
    "data.no_of_dependents.value_counts()"
   ]
  },
  {
   "cell_type": "markdown",
   "id": "046b8d6b",
   "metadata": {},
   "source": [
    "### telephone"
   ]
  },
  {
   "cell_type": "code",
   "execution_count": 71,
   "id": "dcbc8957",
   "metadata": {},
   "outputs": [
    {
     "data": {
      "text/plain": [
       "1    559\n",
       "2    385\n",
       "Name: telephone, dtype: int64"
      ]
     },
     "execution_count": 71,
     "metadata": {},
     "output_type": "execute_result"
    }
   ],
   "source": [
    "data.telephone.value_counts()"
   ]
  },
  {
   "cell_type": "markdown",
   "id": "de4f64de",
   "metadata": {},
   "source": [
    "1. A191 : none\n",
    "2. A192 : yes, registered under the customers name"
   ]
  },
  {
   "cell_type": "markdown",
   "id": "0875be37",
   "metadata": {},
   "source": [
    "### foreign_worker"
   ]
  },
  {
   "cell_type": "code",
   "execution_count": 72,
   "id": "5a085fd8",
   "metadata": {},
   "outputs": [
    {
     "data": {
      "text/plain": [
       "1    907\n",
       "2     37\n",
       "Name: foreign_worker, dtype: int64"
      ]
     },
     "execution_count": 72,
     "metadata": {},
     "output_type": "execute_result"
    }
   ],
   "source": [
    "data.foreign_worker.value_counts()"
   ]
  },
  {
   "cell_type": "markdown",
   "id": "057f61e8",
   "metadata": {},
   "source": [
    "foreign worker\n",
    "1. A201 : yes\n",
    "2. A202 : no"
   ]
  },
  {
   "cell_type": "code",
   "execution_count": 73,
   "id": "0cfa5a14",
   "metadata": {},
   "outputs": [],
   "source": [
    "data.drop(columns='check',inplace=True)"
   ]
  },
  {
   "cell_type": "code",
   "execution_count": 74,
   "id": "5cc959cd",
   "metadata": {},
   "outputs": [
    {
     "name": "stdout",
     "output_type": "stream",
     "text": [
      "<class 'pandas.core.frame.DataFrame'>\n",
      "Int64Index: 944 entries, 0 to 948\n",
      "Data columns (total 20 columns):\n",
      " #   Column                        Non-Null Count  Dtype \n",
      "---  ------                        --------------  ----- \n",
      " 0   age                           944 non-null    int64 \n",
      " 1   sex                           944 non-null    int64 \n",
      " 2   job                           944 non-null    int64 \n",
      " 3   housing                       944 non-null    object\n",
      " 4   credit_amount                 944 non-null    int64 \n",
      " 5   duration                      944 non-null    int64 \n",
      " 6   purpose                       944 non-null    object\n",
      " 7   y_creditability               944 non-null    int64 \n",
      " 8   account_balance               944 non-null    int64 \n",
      " 9   credit_history                944 non-null    int64 \n",
      " 10  savings                       944 non-null    int64 \n",
      " 11  length_of_current_employment  944 non-null    int64 \n",
      " 12  marital_status                944 non-null    int64 \n",
      " 13  guarantors                    944 non-null    int64 \n",
      " 14  property                      944 non-null    int64 \n",
      " 15  concurrent_credits            944 non-null    int64 \n",
      " 16  no_of_credits_at_this_bank    944 non-null    int64 \n",
      " 17  no_of_dependents              944 non-null    int64 \n",
      " 18  telephone                     944 non-null    int64 \n",
      " 19  foreign_worker                944 non-null    int64 \n",
      "dtypes: int64(18), object(2)\n",
      "memory usage: 154.9+ KB\n"
     ]
    }
   ],
   "source": [
    "data.info()"
   ]
  },
  {
   "cell_type": "markdown",
   "id": "01686d1b",
   "metadata": {},
   "source": [
    "### Dummy"
   ]
  },
  {
   "cell_type": "code",
   "execution_count": 75,
   "id": "6b4b4b17",
   "metadata": {},
   "outputs": [
    {
     "data": {
      "text/plain": [
       "Index(['age', 'sex', 'job', 'housing', 'credit_amount', 'duration', 'purpose',\n",
       "       'y_creditability', 'account_balance', 'credit_history', 'savings',\n",
       "       'length_of_current_employment', 'marital_status', 'guarantors',\n",
       "       'property', 'concurrent_credits', 'no_of_credits_at_this_bank',\n",
       "       'no_of_dependents', 'telephone', 'foreign_worker'],\n",
       "      dtype='object')"
      ]
     },
     "execution_count": 75,
     "metadata": {},
     "output_type": "execute_result"
    }
   ],
   "source": [
    "data.columns"
   ]
  },
  {
   "cell_type": "code",
   "execution_count": 76,
   "id": "0bc13672",
   "metadata": {},
   "outputs": [],
   "source": [
    "data = data[['age', 'sex', 'job', 'housing', 'credit_amount', 'duration', 'purpose',\n",
    "        'account_balance', 'credit_history', 'savings',\n",
    "       'length_of_current_employment', 'marital_status', 'guarantors',\n",
    "       'property', 'concurrent_credits',\n",
    "       'no_of_credits_at_this_bank', 'no_of_dependents', 'telephone',\n",
    "       'foreign_worker','y_creditability']]"
   ]
  },
  {
   "cell_type": "code",
   "execution_count": 77,
   "id": "5a17ce6c",
   "metadata": {},
   "outputs": [],
   "source": [
    "\n",
    "to_encode = ['purpose','housing']\n",
    "\n",
    "def one_hot_encode(_dataframe, list_of_columns_to_one_hot_encode):\n",
    "    for column in list_of_columns_to_one_hot_encode:\n",
    "\n",
    "        one_hot_encoded_values = pd.get_dummies(_dataframe[column], prefix=column)\n",
    "\n",
    "\n",
    "        _dataframe = pd.concat([_dataframe, one_hot_encoded_values], axis=1)\n",
    "\n",
    "\n",
    "        _dataframe.drop([column], axis=1, inplace=True)\n",
    "    \n",
    "    return _dataframe\n",
    "\n",
    "data_encoded = one_hot_encode(data, to_encode)"
   ]
  },
  {
   "cell_type": "code",
   "execution_count": 78,
   "id": "66ad92f2",
   "metadata": {},
   "outputs": [
    {
     "name": "stdout",
     "output_type": "stream",
     "text": [
      "<class 'pandas.core.frame.DataFrame'>\n",
      "Int64Index: 944 entries, 0 to 948\n",
      "Data columns (total 20 columns):\n",
      " #   Column                        Non-Null Count  Dtype \n",
      "---  ------                        --------------  ----- \n",
      " 0   age                           944 non-null    int64 \n",
      " 1   sex                           944 non-null    int64 \n",
      " 2   job                           944 non-null    int64 \n",
      " 3   housing                       944 non-null    object\n",
      " 4   credit_amount                 944 non-null    int64 \n",
      " 5   duration                      944 non-null    int64 \n",
      " 6   purpose                       944 non-null    object\n",
      " 7   account_balance               944 non-null    int64 \n",
      " 8   credit_history                944 non-null    int64 \n",
      " 9   savings                       944 non-null    int64 \n",
      " 10  length_of_current_employment  944 non-null    int64 \n",
      " 11  marital_status                944 non-null    int64 \n",
      " 12  guarantors                    944 non-null    int64 \n",
      " 13  property                      944 non-null    int64 \n",
      " 14  concurrent_credits            944 non-null    int64 \n",
      " 15  no_of_credits_at_this_bank    944 non-null    int64 \n",
      " 16  no_of_dependents              944 non-null    int64 \n",
      " 17  telephone                     944 non-null    int64 \n",
      " 18  foreign_worker                944 non-null    int64 \n",
      " 19  y_creditability               944 non-null    int64 \n",
      "dtypes: int64(18), object(2)\n",
      "memory usage: 154.9+ KB\n"
     ]
    }
   ],
   "source": [
    "data.info()"
   ]
  },
  {
   "cell_type": "code",
   "execution_count": 79,
   "id": "cb0545bc",
   "metadata": {},
   "outputs": [
    {
     "name": "stdout",
     "output_type": "stream",
     "text": [
      "<class 'pandas.core.frame.DataFrame'>\n",
      "Int64Index: 944 entries, 0 to 948\n",
      "Data columns (total 29 columns):\n",
      " #   Column                        Non-Null Count  Dtype\n",
      "---  ------                        --------------  -----\n",
      " 0   age                           944 non-null    int64\n",
      " 1   sex                           944 non-null    int64\n",
      " 2   job                           944 non-null    int64\n",
      " 3   credit_amount                 944 non-null    int64\n",
      " 4   duration                      944 non-null    int64\n",
      " 5   account_balance               944 non-null    int64\n",
      " 6   credit_history                944 non-null    int64\n",
      " 7   savings                       944 non-null    int64\n",
      " 8   length_of_current_employment  944 non-null    int64\n",
      " 9   marital_status                944 non-null    int64\n",
      " 10  guarantors                    944 non-null    int64\n",
      " 11  property                      944 non-null    int64\n",
      " 12  concurrent_credits            944 non-null    int64\n",
      " 13  no_of_credits_at_this_bank    944 non-null    int64\n",
      " 14  no_of_dependents              944 non-null    int64\n",
      " 15  telephone                     944 non-null    int64\n",
      " 16  foreign_worker                944 non-null    int64\n",
      " 17  y_creditability               944 non-null    int64\n",
      " 18  purpose_business              944 non-null    uint8\n",
      " 19  purpose_car                   944 non-null    uint8\n",
      " 20  purpose_domestic appliances   944 non-null    uint8\n",
      " 21  purpose_education             944 non-null    uint8\n",
      " 22  purpose_furniture/equipment   944 non-null    uint8\n",
      " 23  purpose_radio/TV              944 non-null    uint8\n",
      " 24  purpose_repairs               944 non-null    uint8\n",
      " 25  purpose_vacation/others       944 non-null    uint8\n",
      " 26  housing_free                  944 non-null    uint8\n",
      " 27  housing_own                   944 non-null    uint8\n",
      " 28  housing_rent                  944 non-null    uint8\n",
      "dtypes: int64(18), uint8(11)\n",
      "memory usage: 150.3 KB\n"
     ]
    }
   ],
   "source": [
    "data_encoded.info()"
   ]
  },
  {
   "cell_type": "code",
   "execution_count": 80,
   "id": "32051ba8",
   "metadata": {},
   "outputs": [
    {
     "data": {
      "text/plain": [
       "Index(['age', 'sex', 'job', 'credit_amount', 'duration', 'account_balance',\n",
       "       'credit_history', 'savings', 'length_of_current_employment',\n",
       "       'marital_status', 'guarantors', 'property', 'concurrent_credits',\n",
       "       'no_of_credits_at_this_bank', 'no_of_dependents', 'telephone',\n",
       "       'foreign_worker', 'y_creditability', 'purpose_business', 'purpose_car',\n",
       "       'purpose_domestic appliances', 'purpose_education',\n",
       "       'purpose_furniture/equipment', 'purpose_radio/TV', 'purpose_repairs',\n",
       "       'purpose_vacation/others', 'housing_free', 'housing_own',\n",
       "       'housing_rent'],\n",
       "      dtype='object')"
      ]
     },
     "execution_count": 80,
     "metadata": {},
     "output_type": "execute_result"
    }
   ],
   "source": [
    "data_encoded.columns"
   ]
  },
  {
   "cell_type": "code",
   "execution_count": 81,
   "id": "5b2bf18b",
   "metadata": {},
   "outputs": [],
   "source": [
    "data_encoded = data_encoded[['age', 'sex', 'job', 'credit_amount', 'duration', 'account_balance',\n",
    "       'credit_history', 'savings', 'length_of_current_employment',\n",
    "       'marital_status', 'guarantors', 'property', 'concurrent_credits',\n",
    "       'no_of_credits_at_this_bank', 'no_of_dependents', 'telephone',\n",
    "       'foreign_worker', 'purpose_business', 'purpose_car',\n",
    "       'purpose_domestic appliances', 'purpose_education',\n",
    "       'purpose_furniture/equipment', 'purpose_radio/TV', 'purpose_repairs',\n",
    "       'purpose_vacation/others', 'housing_free', 'housing_own',\n",
    "       'housing_rent', 'y_creditability']]"
   ]
  },
  {
   "cell_type": "code",
   "execution_count": 82,
   "id": "122eed35",
   "metadata": {},
   "outputs": [],
   "source": [
    "data_encoded.reset_index(inplace=True)"
   ]
  },
  {
   "cell_type": "code",
   "execution_count": 83,
   "id": "33aac1af",
   "metadata": {},
   "outputs": [],
   "source": [
    "data_encoded.drop(columns='index',inplace=True)"
   ]
  },
  {
   "cell_type": "code",
   "execution_count": 84,
   "id": "adb6bb78",
   "metadata": {},
   "outputs": [
    {
     "data": {
      "text/html": [
       "<div>\n",
       "<style scoped>\n",
       "    .dataframe tbody tr th:only-of-type {\n",
       "        vertical-align: middle;\n",
       "    }\n",
       "\n",
       "    .dataframe tbody tr th {\n",
       "        vertical-align: top;\n",
       "    }\n",
       "\n",
       "    .dataframe thead th {\n",
       "        text-align: right;\n",
       "    }\n",
       "</style>\n",
       "<table border=\"1\" class=\"dataframe\">\n",
       "  <thead>\n",
       "    <tr style=\"text-align: right;\">\n",
       "      <th></th>\n",
       "      <th>age</th>\n",
       "      <th>sex</th>\n",
       "      <th>job</th>\n",
       "      <th>credit_amount</th>\n",
       "      <th>duration</th>\n",
       "      <th>account_balance</th>\n",
       "      <th>credit_history</th>\n",
       "      <th>savings</th>\n",
       "      <th>length_of_current_employment</th>\n",
       "      <th>marital_status</th>\n",
       "      <th>...</th>\n",
       "      <th>purpose_domestic appliances</th>\n",
       "      <th>purpose_education</th>\n",
       "      <th>purpose_furniture/equipment</th>\n",
       "      <th>purpose_radio/TV</th>\n",
       "      <th>purpose_repairs</th>\n",
       "      <th>purpose_vacation/others</th>\n",
       "      <th>housing_free</th>\n",
       "      <th>housing_own</th>\n",
       "      <th>housing_rent</th>\n",
       "      <th>y_creditability</th>\n",
       "    </tr>\n",
       "  </thead>\n",
       "  <tbody>\n",
       "    <tr>\n",
       "      <th>0</th>\n",
       "      <td>67</td>\n",
       "      <td>1</td>\n",
       "      <td>2</td>\n",
       "      <td>1169</td>\n",
       "      <td>6</td>\n",
       "      <td>1</td>\n",
       "      <td>4</td>\n",
       "      <td>5</td>\n",
       "      <td>5</td>\n",
       "      <td>3</td>\n",
       "      <td>...</td>\n",
       "      <td>0</td>\n",
       "      <td>0</td>\n",
       "      <td>0</td>\n",
       "      <td>1</td>\n",
       "      <td>0</td>\n",
       "      <td>0</td>\n",
       "      <td>0</td>\n",
       "      <td>1</td>\n",
       "      <td>0</td>\n",
       "      <td>1</td>\n",
       "    </tr>\n",
       "    <tr>\n",
       "      <th>1</th>\n",
       "      <td>22</td>\n",
       "      <td>2</td>\n",
       "      <td>2</td>\n",
       "      <td>5951</td>\n",
       "      <td>48</td>\n",
       "      <td>2</td>\n",
       "      <td>2</td>\n",
       "      <td>1</td>\n",
       "      <td>3</td>\n",
       "      <td>2</td>\n",
       "      <td>...</td>\n",
       "      <td>0</td>\n",
       "      <td>0</td>\n",
       "      <td>0</td>\n",
       "      <td>1</td>\n",
       "      <td>0</td>\n",
       "      <td>0</td>\n",
       "      <td>0</td>\n",
       "      <td>1</td>\n",
       "      <td>0</td>\n",
       "      <td>0</td>\n",
       "    </tr>\n",
       "    <tr>\n",
       "      <th>2</th>\n",
       "      <td>49</td>\n",
       "      <td>1</td>\n",
       "      <td>1</td>\n",
       "      <td>2096</td>\n",
       "      <td>12</td>\n",
       "      <td>4</td>\n",
       "      <td>4</td>\n",
       "      <td>1</td>\n",
       "      <td>4</td>\n",
       "      <td>3</td>\n",
       "      <td>...</td>\n",
       "      <td>0</td>\n",
       "      <td>1</td>\n",
       "      <td>0</td>\n",
       "      <td>0</td>\n",
       "      <td>0</td>\n",
       "      <td>0</td>\n",
       "      <td>0</td>\n",
       "      <td>1</td>\n",
       "      <td>0</td>\n",
       "      <td>1</td>\n",
       "    </tr>\n",
       "    <tr>\n",
       "      <th>3</th>\n",
       "      <td>45</td>\n",
       "      <td>1</td>\n",
       "      <td>2</td>\n",
       "      <td>7882</td>\n",
       "      <td>42</td>\n",
       "      <td>1</td>\n",
       "      <td>2</td>\n",
       "      <td>1</td>\n",
       "      <td>4</td>\n",
       "      <td>3</td>\n",
       "      <td>...</td>\n",
       "      <td>0</td>\n",
       "      <td>0</td>\n",
       "      <td>1</td>\n",
       "      <td>0</td>\n",
       "      <td>0</td>\n",
       "      <td>0</td>\n",
       "      <td>1</td>\n",
       "      <td>0</td>\n",
       "      <td>0</td>\n",
       "      <td>1</td>\n",
       "    </tr>\n",
       "    <tr>\n",
       "      <th>4</th>\n",
       "      <td>53</td>\n",
       "      <td>1</td>\n",
       "      <td>2</td>\n",
       "      <td>4870</td>\n",
       "      <td>24</td>\n",
       "      <td>1</td>\n",
       "      <td>3</td>\n",
       "      <td>1</td>\n",
       "      <td>3</td>\n",
       "      <td>3</td>\n",
       "      <td>...</td>\n",
       "      <td>0</td>\n",
       "      <td>0</td>\n",
       "      <td>0</td>\n",
       "      <td>0</td>\n",
       "      <td>0</td>\n",
       "      <td>0</td>\n",
       "      <td>1</td>\n",
       "      <td>0</td>\n",
       "      <td>0</td>\n",
       "      <td>0</td>\n",
       "    </tr>\n",
       "  </tbody>\n",
       "</table>\n",
       "<p>5 rows × 29 columns</p>\n",
       "</div>"
      ],
      "text/plain": [
       "   age  sex  job  credit_amount  duration  account_balance  credit_history  \\\n",
       "0   67    1    2           1169         6                1               4   \n",
       "1   22    2    2           5951        48                2               2   \n",
       "2   49    1    1           2096        12                4               4   \n",
       "3   45    1    2           7882        42                1               2   \n",
       "4   53    1    2           4870        24                1               3   \n",
       "\n",
       "   savings  length_of_current_employment  marital_status  ...  \\\n",
       "0        5                             5               3  ...   \n",
       "1        1                             3               2  ...   \n",
       "2        1                             4               3  ...   \n",
       "3        1                             4               3  ...   \n",
       "4        1                             3               3  ...   \n",
       "\n",
       "   purpose_domestic appliances  purpose_education  \\\n",
       "0                            0                  0   \n",
       "1                            0                  0   \n",
       "2                            0                  1   \n",
       "3                            0                  0   \n",
       "4                            0                  0   \n",
       "\n",
       "   purpose_furniture/equipment  purpose_radio/TV  purpose_repairs  \\\n",
       "0                            0                 1                0   \n",
       "1                            0                 1                0   \n",
       "2                            0                 0                0   \n",
       "3                            1                 0                0   \n",
       "4                            0                 0                0   \n",
       "\n",
       "   purpose_vacation/others  housing_free  housing_own  housing_rent  \\\n",
       "0                        0             0            1             0   \n",
       "1                        0             0            1             0   \n",
       "2                        0             0            1             0   \n",
       "3                        0             1            0             0   \n",
       "4                        0             1            0             0   \n",
       "\n",
       "   y_creditability  \n",
       "0                1  \n",
       "1                0  \n",
       "2                1  \n",
       "3                1  \n",
       "4                0  \n",
       "\n",
       "[5 rows x 29 columns]"
      ]
     },
     "execution_count": 84,
     "metadata": {},
     "output_type": "execute_result"
    }
   ],
   "source": [
    "data_encoded.head()"
   ]
  },
  {
   "cell_type": "code",
   "execution_count": 85,
   "id": "a1d014f3",
   "metadata": {},
   "outputs": [
    {
     "name": "stdout",
     "output_type": "stream",
     "text": [
      "<class 'pandas.core.frame.DataFrame'>\n",
      "RangeIndex: 944 entries, 0 to 943\n",
      "Data columns (total 29 columns):\n",
      " #   Column                        Non-Null Count  Dtype\n",
      "---  ------                        --------------  -----\n",
      " 0   age                           944 non-null    int64\n",
      " 1   sex                           944 non-null    int64\n",
      " 2   job                           944 non-null    int64\n",
      " 3   credit_amount                 944 non-null    int64\n",
      " 4   duration                      944 non-null    int64\n",
      " 5   account_balance               944 non-null    int64\n",
      " 6   credit_history                944 non-null    int64\n",
      " 7   savings                       944 non-null    int64\n",
      " 8   length_of_current_employment  944 non-null    int64\n",
      " 9   marital_status                944 non-null    int64\n",
      " 10  guarantors                    944 non-null    int64\n",
      " 11  property                      944 non-null    int64\n",
      " 12  concurrent_credits            944 non-null    int64\n",
      " 13  no_of_credits_at_this_bank    944 non-null    int64\n",
      " 14  no_of_dependents              944 non-null    int64\n",
      " 15  telephone                     944 non-null    int64\n",
      " 16  foreign_worker                944 non-null    int64\n",
      " 17  purpose_business              944 non-null    uint8\n",
      " 18  purpose_car                   944 non-null    uint8\n",
      " 19  purpose_domestic appliances   944 non-null    uint8\n",
      " 20  purpose_education             944 non-null    uint8\n",
      " 21  purpose_furniture/equipment   944 non-null    uint8\n",
      " 22  purpose_radio/TV              944 non-null    uint8\n",
      " 23  purpose_repairs               944 non-null    uint8\n",
      " 24  purpose_vacation/others       944 non-null    uint8\n",
      " 25  housing_free                  944 non-null    uint8\n",
      " 26  housing_own                   944 non-null    uint8\n",
      " 27  housing_rent                  944 non-null    uint8\n",
      " 28  y_creditability               944 non-null    int64\n",
      "dtypes: int64(18), uint8(11)\n",
      "memory usage: 143.0 KB\n"
     ]
    }
   ],
   "source": [
    "data_encoded.info()"
   ]
  },
  {
   "cell_type": "code",
   "execution_count": 86,
   "id": "5fe2b8fa",
   "metadata": {},
   "outputs": [
    {
     "data": {
      "image/png": "[encoded data removed]",
      "text/plain": [
       "<Figure size 640x480 with 2 Axes>"
      ]
     },
     "metadata": {},
     "output_type": "display_data"
    }
   ],
   "source": [
    "corr_matrix = data_encoded.corr()\n",
    "\n",
    "import seaborn as sn\n",
    "import matplotlib.pyplot as plt\n",
    "\n",
    "sn.heatmap(corr_matrix, annot=False)\n",
    "plt.show()\n"
   ]
  },
  {
   "cell_type": "markdown",
   "id": "c1476b20",
   "metadata": {},
   "source": [
    "## Export"
   ]
  },
  {
   "cell_type": "code",
   "execution_count": 87,
   "id": "40ef59d1",
   "metadata": {},
   "outputs": [],
   "source": [
    "data_encoded.to_csv('../Data/Cleaned/data_cleaned.csv',index=False)"
   ]
  },
  {
   "cell_type": "code",
   "execution_count": 88,
   "id": "15e14f59",
   "metadata": {},
   "outputs": [
    {
     "data": {
      "text/html": [
       "<div>\n",
       "<style scoped>\n",
       "    .dataframe tbody tr th:only-of-type {\n",
       "        vertical-align: middle;\n",
       "    }\n",
       "\n",
       "    .dataframe tbody tr th {\n",
       "        vertical-align: top;\n",
       "    }\n",
       "\n",
       "    .dataframe thead th {\n",
       "        text-align: right;\n",
       "    }\n",
       "</style>\n",
       "<table border=\"1\" class=\"dataframe\">\n",
       "  <thead>\n",
       "    <tr style=\"text-align: right;\">\n",
       "      <th></th>\n",
       "      <th>age</th>\n",
       "      <th>sex</th>\n",
       "      <th>job</th>\n",
       "      <th>housing</th>\n",
       "      <th>credit_amount</th>\n",
       "      <th>duration</th>\n",
       "      <th>purpose</th>\n",
       "      <th>account_balance</th>\n",
       "      <th>credit_history</th>\n",
       "      <th>savings</th>\n",
       "      <th>length_of_current_employment</th>\n",
       "      <th>marital_status</th>\n",
       "      <th>guarantors</th>\n",
       "      <th>property</th>\n",
       "      <th>concurrent_credits</th>\n",
       "      <th>no_of_credits_at_this_bank</th>\n",
       "      <th>no_of_dependents</th>\n",
       "      <th>telephone</th>\n",
       "      <th>foreign_worker</th>\n",
       "      <th>y_creditability</th>\n",
       "    </tr>\n",
       "  </thead>\n",
       "  <tbody>\n",
       "    <tr>\n",
       "      <th>0</th>\n",
       "      <td>67</td>\n",
       "      <td>1</td>\n",
       "      <td>2</td>\n",
       "      <td>own</td>\n",
       "      <td>1169</td>\n",
       "      <td>6</td>\n",
       "      <td>radio/TV</td>\n",
       "      <td>1</td>\n",
       "      <td>4</td>\n",
       "      <td>5</td>\n",
       "      <td>5</td>\n",
       "      <td>3</td>\n",
       "      <td>1</td>\n",
       "      <td>1</td>\n",
       "      <td>3</td>\n",
       "      <td>2</td>\n",
       "      <td>1</td>\n",
       "      <td>2</td>\n",
       "      <td>1</td>\n",
       "      <td>1</td>\n",
       "    </tr>\n",
       "    <tr>\n",
       "      <th>1</th>\n",
       "      <td>22</td>\n",
       "      <td>2</td>\n",
       "      <td>2</td>\n",
       "      <td>own</td>\n",
       "      <td>5951</td>\n",
       "      <td>48</td>\n",
       "      <td>radio/TV</td>\n",
       "      <td>2</td>\n",
       "      <td>2</td>\n",
       "      <td>1</td>\n",
       "      <td>3</td>\n",
       "      <td>2</td>\n",
       "      <td>1</td>\n",
       "      <td>1</td>\n",
       "      <td>3</td>\n",
       "      <td>1</td>\n",
       "      <td>1</td>\n",
       "      <td>1</td>\n",
       "      <td>1</td>\n",
       "      <td>0</td>\n",
       "    </tr>\n",
       "    <tr>\n",
       "      <th>2</th>\n",
       "      <td>49</td>\n",
       "      <td>1</td>\n",
       "      <td>1</td>\n",
       "      <td>own</td>\n",
       "      <td>2096</td>\n",
       "      <td>12</td>\n",
       "      <td>education</td>\n",
       "      <td>4</td>\n",
       "      <td>4</td>\n",
       "      <td>1</td>\n",
       "      <td>4</td>\n",
       "      <td>3</td>\n",
       "      <td>1</td>\n",
       "      <td>1</td>\n",
       "      <td>3</td>\n",
       "      <td>1</td>\n",
       "      <td>2</td>\n",
       "      <td>1</td>\n",
       "      <td>1</td>\n",
       "      <td>1</td>\n",
       "    </tr>\n",
       "    <tr>\n",
       "      <th>3</th>\n",
       "      <td>45</td>\n",
       "      <td>1</td>\n",
       "      <td>2</td>\n",
       "      <td>free</td>\n",
       "      <td>7882</td>\n",
       "      <td>42</td>\n",
       "      <td>furniture/equipment</td>\n",
       "      <td>1</td>\n",
       "      <td>2</td>\n",
       "      <td>1</td>\n",
       "      <td>4</td>\n",
       "      <td>3</td>\n",
       "      <td>3</td>\n",
       "      <td>2</td>\n",
       "      <td>3</td>\n",
       "      <td>1</td>\n",
       "      <td>2</td>\n",
       "      <td>1</td>\n",
       "      <td>1</td>\n",
       "      <td>1</td>\n",
       "    </tr>\n",
       "    <tr>\n",
       "      <th>4</th>\n",
       "      <td>53</td>\n",
       "      <td>1</td>\n",
       "      <td>2</td>\n",
       "      <td>free</td>\n",
       "      <td>4870</td>\n",
       "      <td>24</td>\n",
       "      <td>car</td>\n",
       "      <td>1</td>\n",
       "      <td>3</td>\n",
       "      <td>1</td>\n",
       "      <td>3</td>\n",
       "      <td>3</td>\n",
       "      <td>1</td>\n",
       "      <td>4</td>\n",
       "      <td>3</td>\n",
       "      <td>2</td>\n",
       "      <td>2</td>\n",
       "      <td>1</td>\n",
       "      <td>1</td>\n",
       "      <td>0</td>\n",
       "    </tr>\n",
       "  </tbody>\n",
       "</table>\n",
       "</div>"
      ],
      "text/plain": [
       "   age  sex  job housing  credit_amount  duration              purpose  \\\n",
       "0   67    1    2     own           1169         6             radio/TV   \n",
       "1   22    2    2     own           5951        48             radio/TV   \n",
       "2   49    1    1     own           2096        12            education   \n",
       "3   45    1    2    free           7882        42  furniture/equipment   \n",
       "4   53    1    2    free           4870        24                  car   \n",
       "\n",
       "   account_balance  credit_history  savings  length_of_current_employment  \\\n",
       "0                1               4        5                             5   \n",
       "1                2               2        1                             3   \n",
       "2                4               4        1                             4   \n",
       "3                1               2        1                             4   \n",
       "4                1               3        1                             3   \n",
       "\n",
       "   marital_status  guarantors  property  concurrent_credits  \\\n",
       "0               3           1         1                   3   \n",
       "1               2           1         1                   3   \n",
       "2               3           1         1                   3   \n",
       "3               3           3         2                   3   \n",
       "4               3           1         4                   3   \n",
       "\n",
       "   no_of_credits_at_this_bank  no_of_dependents  telephone  foreign_worker  \\\n",
       "0                           2                 1          2               1   \n",
       "1                           1                 1          1               1   \n",
       "2                           1                 2          1               1   \n",
       "3                           1                 2          1               1   \n",
       "4                           2                 2          1               1   \n",
       "\n",
       "   y_creditability  \n",
       "0                1  \n",
       "1                0  \n",
       "2                1  \n",
       "3                1  \n",
       "4                0  "
      ]
     },
     "execution_count": 88,
     "metadata": {},
     "output_type": "execute_result"
    }
   ],
   "source": [
    "data.head()"
   ]
  },
  {
   "cell_type": "code",
   "execution_count": null,
   "id": "f7b58857",
   "metadata": {},
   "outputs": [],
   "source": []
  }
 ],
 "metadata": {
  "kernelspec": {
   "display_name": "Python 3 (ipykernel)",
   "language": "python",
   "name": "python3"
  },
  "language_info": {
   "codemirror_mode": {
    "name": "ipython",
    "version": 3
   },
   "file_extension": ".py",
   "mimetype": "text/x-python",
   "name": "python",
   "nbconvert_exporter": "python",
   "pygments_lexer": "ipython3",
   "version": "3.9.16"
  }
 },
 "nbformat": 4,
 "nbformat_minor": 5
}
