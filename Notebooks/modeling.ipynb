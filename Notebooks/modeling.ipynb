{
 "cells": [
  {
   "cell_type": "markdown",
   "id": "49bc36ab",
   "metadata": {},
   "source": [
    "# Modeling"
   ]
  },
  {
   "cell_type": "markdown",
   "id": "73b5251c",
   "metadata": {},
   "source": [
    "### 'How to get a credit on Germany?'"
   ]
  },
  {
   "cell_type": "markdown",
   "id": "2e44e80f",
   "metadata": {},
   "source": [
    "<font color='grey' size=3> Cristian Valeria </font>"
   ]
  },
  {
   "cell_type": "markdown",
   "id": "d183d556",
   "metadata": {},
   "source": [
    "## Reading cleaned Data"
   ]
  },
  {
   "cell_type": "code",
   "execution_count": 60,
   "id": "e3aef8bd",
   "metadata": {},
   "outputs": [],
   "source": [
    "import pandas as pd\n",
    "import numpy as np\n",
    "import seaborn as sns\n",
    "import matplotlib.pyplot as plt\n",
    "import lazypredict\n",
    "import sklearn\n",
    "import imblearn\n",
    "import joblib\n",
    "\n",
    "import warnings\n",
    "warnings.filterwarnings('ignore')"
   ]
  },
  {
   "cell_type": "code",
   "execution_count": 61,
   "id": "beacb598",
   "metadata": {
    "scrolled": true
   },
   "outputs": [
    {
     "data": {
      "text/html": [
       "<div>\n",
       "<style scoped>\n",
       "    .dataframe tbody tr th:only-of-type {\n",
       "        vertical-align: middle;\n",
       "    }\n",
       "\n",
       "    .dataframe tbody tr th {\n",
       "        vertical-align: top;\n",
       "    }\n",
       "\n",
       "    .dataframe thead th {\n",
       "        text-align: right;\n",
       "    }\n",
       "</style>\n",
       "<table border=\"1\" class=\"dataframe\">\n",
       "  <thead>\n",
       "    <tr style=\"text-align: right;\">\n",
       "      <th></th>\n",
       "      <th>age</th>\n",
       "      <th>sex</th>\n",
       "      <th>job</th>\n",
       "      <th>credit_amount</th>\n",
       "      <th>duration</th>\n",
       "      <th>account_balance</th>\n",
       "      <th>credit_history</th>\n",
       "      <th>savings</th>\n",
       "      <th>length_of_current_employment</th>\n",
       "      <th>marital_status</th>\n",
       "      <th>...</th>\n",
       "      <th>purpose_domestic appliances</th>\n",
       "      <th>purpose_education</th>\n",
       "      <th>purpose_furniture/equipment</th>\n",
       "      <th>purpose_radio/TV</th>\n",
       "      <th>purpose_repairs</th>\n",
       "      <th>purpose_vacation/others</th>\n",
       "      <th>housing_free</th>\n",
       "      <th>housing_own</th>\n",
       "      <th>housing_rent</th>\n",
       "      <th>y_creditability</th>\n",
       "    </tr>\n",
       "  </thead>\n",
       "  <tbody>\n",
       "    <tr>\n",
       "      <th>0</th>\n",
       "      <td>67</td>\n",
       "      <td>1</td>\n",
       "      <td>2</td>\n",
       "      <td>1169</td>\n",
       "      <td>6</td>\n",
       "      <td>1</td>\n",
       "      <td>4</td>\n",
       "      <td>5</td>\n",
       "      <td>5</td>\n",
       "      <td>3</td>\n",
       "      <td>...</td>\n",
       "      <td>0</td>\n",
       "      <td>0</td>\n",
       "      <td>0</td>\n",
       "      <td>1</td>\n",
       "      <td>0</td>\n",
       "      <td>0</td>\n",
       "      <td>0</td>\n",
       "      <td>1</td>\n",
       "      <td>0</td>\n",
       "      <td>1</td>\n",
       "    </tr>\n",
       "    <tr>\n",
       "      <th>1</th>\n",
       "      <td>22</td>\n",
       "      <td>2</td>\n",
       "      <td>2</td>\n",
       "      <td>5951</td>\n",
       "      <td>48</td>\n",
       "      <td>2</td>\n",
       "      <td>2</td>\n",
       "      <td>1</td>\n",
       "      <td>3</td>\n",
       "      <td>2</td>\n",
       "      <td>...</td>\n",
       "      <td>0</td>\n",
       "      <td>0</td>\n",
       "      <td>0</td>\n",
       "      <td>1</td>\n",
       "      <td>0</td>\n",
       "      <td>0</td>\n",
       "      <td>0</td>\n",
       "      <td>1</td>\n",
       "      <td>0</td>\n",
       "      <td>0</td>\n",
       "    </tr>\n",
       "    <tr>\n",
       "      <th>2</th>\n",
       "      <td>49</td>\n",
       "      <td>1</td>\n",
       "      <td>1</td>\n",
       "      <td>2096</td>\n",
       "      <td>12</td>\n",
       "      <td>4</td>\n",
       "      <td>4</td>\n",
       "      <td>1</td>\n",
       "      <td>4</td>\n",
       "      <td>3</td>\n",
       "      <td>...</td>\n",
       "      <td>0</td>\n",
       "      <td>1</td>\n",
       "      <td>0</td>\n",
       "      <td>0</td>\n",
       "      <td>0</td>\n",
       "      <td>0</td>\n",
       "      <td>0</td>\n",
       "      <td>1</td>\n",
       "      <td>0</td>\n",
       "      <td>1</td>\n",
       "    </tr>\n",
       "    <tr>\n",
       "      <th>3</th>\n",
       "      <td>45</td>\n",
       "      <td>1</td>\n",
       "      <td>2</td>\n",
       "      <td>7882</td>\n",
       "      <td>42</td>\n",
       "      <td>1</td>\n",
       "      <td>2</td>\n",
       "      <td>1</td>\n",
       "      <td>4</td>\n",
       "      <td>3</td>\n",
       "      <td>...</td>\n",
       "      <td>0</td>\n",
       "      <td>0</td>\n",
       "      <td>1</td>\n",
       "      <td>0</td>\n",
       "      <td>0</td>\n",
       "      <td>0</td>\n",
       "      <td>1</td>\n",
       "      <td>0</td>\n",
       "      <td>0</td>\n",
       "      <td>1</td>\n",
       "    </tr>\n",
       "    <tr>\n",
       "      <th>4</th>\n",
       "      <td>53</td>\n",
       "      <td>1</td>\n",
       "      <td>2</td>\n",
       "      <td>4870</td>\n",
       "      <td>24</td>\n",
       "      <td>1</td>\n",
       "      <td>3</td>\n",
       "      <td>1</td>\n",
       "      <td>3</td>\n",
       "      <td>3</td>\n",
       "      <td>...</td>\n",
       "      <td>0</td>\n",
       "      <td>0</td>\n",
       "      <td>0</td>\n",
       "      <td>0</td>\n",
       "      <td>0</td>\n",
       "      <td>0</td>\n",
       "      <td>1</td>\n",
       "      <td>0</td>\n",
       "      <td>0</td>\n",
       "      <td>0</td>\n",
       "    </tr>\n",
       "  </tbody>\n",
       "</table>\n",
       "<p>5 rows × 29 columns</p>\n",
       "</div>"
      ],
      "text/plain": [
       "   age  sex  job  credit_amount  duration  account_balance  credit_history  \\\n",
       "0   67    1    2           1169         6                1               4   \n",
       "1   22    2    2           5951        48                2               2   \n",
       "2   49    1    1           2096        12                4               4   \n",
       "3   45    1    2           7882        42                1               2   \n",
       "4   53    1    2           4870        24                1               3   \n",
       "\n",
       "   savings  length_of_current_employment  marital_status  ...  \\\n",
       "0        5                             5               3  ...   \n",
       "1        1                             3               2  ...   \n",
       "2        1                             4               3  ...   \n",
       "3        1                             4               3  ...   \n",
       "4        1                             3               3  ...   \n",
       "\n",
       "   purpose_domestic appliances  purpose_education  \\\n",
       "0                            0                  0   \n",
       "1                            0                  0   \n",
       "2                            0                  1   \n",
       "3                            0                  0   \n",
       "4                            0                  0   \n",
       "\n",
       "   purpose_furniture/equipment  purpose_radio/TV  purpose_repairs  \\\n",
       "0                            0                 1                0   \n",
       "1                            0                 1                0   \n",
       "2                            0                 0                0   \n",
       "3                            1                 0                0   \n",
       "4                            0                 0                0   \n",
       "\n",
       "   purpose_vacation/others  housing_free  housing_own  housing_rent  \\\n",
       "0                        0             0            1             0   \n",
       "1                        0             0            1             0   \n",
       "2                        0             0            1             0   \n",
       "3                        0             1            0             0   \n",
       "4                        0             1            0             0   \n",
       "\n",
       "   y_creditability  \n",
       "0                1  \n",
       "1                0  \n",
       "2                1  \n",
       "3                1  \n",
       "4                0  \n",
       "\n",
       "[5 rows x 29 columns]"
      ]
     },
     "execution_count": 61,
     "metadata": {},
     "output_type": "execute_result"
    }
   ],
   "source": [
    "data = pd.read_csv('../Data/Cleaned/data_cleaned.csv')\n",
    "data.head()"
   ]
  },
  {
   "cell_type": "code",
   "execution_count": 65,
   "id": "a22901f6",
   "metadata": {},
   "outputs": [],
   "source": [
    "cols = []\n",
    "for col in data.columns:\n",
    "  cols.append(col.lower().replace(' ', '_'))\n",
    "data.columns = cols\n",
    "\n",
    "cols = []\n",
    "for col in data.columns:\n",
    "  cols.append(col.lower().replace('/', '_'))\n",
    "data.columns = cols"
   ]
  },
  {
   "cell_type": "code",
   "execution_count": 66,
   "id": "ad855370",
   "metadata": {},
   "outputs": [
    {
     "name": "stdout",
     "output_type": "stream",
     "text": [
      "<class 'pandas.core.frame.DataFrame'>\n",
      "RangeIndex: 944 entries, 0 to 943\n",
      "Data columns (total 29 columns):\n",
      " #   Column                        Non-Null Count  Dtype\n",
      "---  ------                        --------------  -----\n",
      " 0   age                           944 non-null    int64\n",
      " 1   sex                           944 non-null    int64\n",
      " 2   job                           944 non-null    int64\n",
      " 3   credit_amount                 944 non-null    int64\n",
      " 4   duration                      944 non-null    int64\n",
      " 5   account_balance               944 non-null    int64\n",
      " 6   credit_history                944 non-null    int64\n",
      " 7   savings                       944 non-null    int64\n",
      " 8   length_of_current_employment  944 non-null    int64\n",
      " 9   marital_status                944 non-null    int64\n",
      " 10  guarantors                    944 non-null    int64\n",
      " 11  property                      944 non-null    int64\n",
      " 12  concurrent_credits            944 non-null    int64\n",
      " 13  no_of_credits_at_this_bank    944 non-null    int64\n",
      " 14  no_of_dependents              944 non-null    int64\n",
      " 15  telephone                     944 non-null    int64\n",
      " 16  foreign_worker                944 non-null    int64\n",
      " 17  purpose_business              944 non-null    int64\n",
      " 18  purpose_car                   944 non-null    int64\n",
      " 19  purpose_domestic_appliances   944 non-null    int64\n",
      " 20  purpose_education             944 non-null    int64\n",
      " 21  purpose_furniture_equipment   944 non-null    int64\n",
      " 22  purpose_radio_tv              944 non-null    int64\n",
      " 23  purpose_repairs               944 non-null    int64\n",
      " 24  purpose_vacation_others       944 non-null    int64\n",
      " 25  housing_free                  944 non-null    int64\n",
      " 26  housing_own                   944 non-null    int64\n",
      " 27  housing_rent                  944 non-null    int64\n",
      " 28  y_creditability               944 non-null    int64\n",
      "dtypes: int64(29)\n",
      "memory usage: 214.0 KB\n"
     ]
    }
   ],
   "source": [
    "data.info()"
   ]
  },
  {
   "cell_type": "markdown",
   "id": "e9326840",
   "metadata": {},
   "source": [
    "## Treating class imbalance"
   ]
  },
  {
   "cell_type": "code",
   "execution_count": 67,
   "id": "d7560fd8",
   "metadata": {},
   "outputs": [],
   "source": [
    "X = data.drop(columns='y_creditability')\n",
    "y = data['y_creditability']"
   ]
  },
  {
   "cell_type": "code",
   "execution_count": 68,
   "id": "f046d663",
   "metadata": {},
   "outputs": [
    {
     "data": {
      "text/plain": [
       "1    656\n",
       "0    288\n",
       "Name: y_creditability, dtype: int64"
      ]
     },
     "execution_count": 68,
     "metadata": {},
     "output_type": "execute_result"
    }
   ],
   "source": [
    "y.value_counts()"
   ]
  },
  {
   "cell_type": "code",
   "execution_count": 69,
   "id": "71c67549",
   "metadata": {},
   "outputs": [],
   "source": [
    "from imblearn.over_sampling import RandomOverSampler\n",
    "\n",
    "ros = RandomOverSampler(sampling_strategy=\"not majority\") \n",
    "X_ros, y_ros = ros.fit_resample(X, y)"
   ]
  },
  {
   "cell_type": "code",
   "execution_count": 70,
   "id": "a871c4f1",
   "metadata": {},
   "outputs": [
    {
     "data": {
      "text/plain": [
       "1    656\n",
       "0    656\n",
       "Name: y_creditability, dtype: int64"
      ]
     },
     "execution_count": 70,
     "metadata": {},
     "output_type": "execute_result"
    }
   ],
   "source": [
    "y_ros.value_counts()"
   ]
  },
  {
   "cell_type": "markdown",
   "id": "3bf460f4",
   "metadata": {},
   "source": [
    "## Train_Split"
   ]
  },
  {
   "cell_type": "code",
   "execution_count": 71,
   "id": "6056c25e",
   "metadata": {},
   "outputs": [],
   "source": [
    "from sklearn.model_selection import train_test_split\n",
    "X_train, X_test, y_train, y_test = train_test_split(X_ros, y_ros, test_size=0.2, random_state=17)\n",
    "\n",
    "X_train = pd.DataFrame(X_train)\n",
    "X_test = pd.DataFrame(X_test)\n",
    "\n",
    "X_train.columns = X.columns\n",
    "X_test.columns = X.columns"
   ]
  },
  {
   "cell_type": "markdown",
   "id": "9f296872",
   "metadata": {},
   "source": [
    "## Scale"
   ]
  },
  {
   "cell_type": "code",
   "execution_count": 72,
   "id": "805cbbf6",
   "metadata": {},
   "outputs": [],
   "source": [
    "from sklearn.preprocessing import StandardScaler\n",
    "\n",
    "scaler = StandardScaler()\n",
    "X_scaled = scaler.fit_transform(X_ros)\n",
    "X_scaled\n",
    "\n",
    "X_train_s, X_test_s, y_train, y_test = train_test_split(X_scaled, y_ros, test_size=0.2, random_state=17)\n",
    "\n",
    "X_train_s = pd.DataFrame(X_train_s)\n",
    "X_test_s = pd.DataFrame(X_test_s)\n",
    "\n",
    "X_train_s.columns = X.columns\n",
    "X_test_s.columns = X.columns"
   ]
  },
  {
   "cell_type": "markdown",
   "id": "081e8c81",
   "metadata": {},
   "source": [
    "## Models"
   ]
  },
  {
   "cell_type": "markdown",
   "id": "be37e7c3",
   "metadata": {},
   "source": [
    "## a) Logistic Regression"
   ]
  },
  {
   "cell_type": "code",
   "execution_count": 73,
   "id": "e4c7d892",
   "metadata": {},
   "outputs": [],
   "source": [
    "from sklearn.linear_model import LogisticRegression\n",
    "\n",
    "model_lr = LogisticRegression(max_iter=1000)\n",
    "model_lr.fit(X_train_s, y_train)\n",
    "\n",
    "y_pred_train = model_lr.predict(X_train_s)\n",
    "y_pred_test = model_lr.predict(X_test_s)\n",
    "y_true_train = y_train\n",
    "y_true_test = y_test"
   ]
  },
  {
   "cell_type": "code",
   "execution_count": 74,
   "id": "125fa723",
   "metadata": {},
   "outputs": [],
   "source": [
    "# measure the accuracy "
   ]
  },
  {
   "cell_type": "code",
   "execution_count": 75,
   "id": "496dbaf2",
   "metadata": {
    "scrolled": true
   },
   "outputs": [
    {
     "data": {
      "text/html": [
       "<div>\n",
       "<style scoped>\n",
       "    .dataframe tbody tr th:only-of-type {\n",
       "        vertical-align: middle;\n",
       "    }\n",
       "\n",
       "    .dataframe tbody tr th {\n",
       "        vertical-align: top;\n",
       "    }\n",
       "\n",
       "    .dataframe thead th {\n",
       "        text-align: right;\n",
       "    }\n",
       "</style>\n",
       "<table border=\"1\" class=\"dataframe\">\n",
       "  <thead>\n",
       "    <tr style=\"text-align: right;\">\n",
       "      <th></th>\n",
       "      <th>LR_1s Train</th>\n",
       "      <th>LR_1s Test</th>\n",
       "    </tr>\n",
       "  </thead>\n",
       "  <tbody>\n",
       "    <tr>\n",
       "      <th>ACC</th>\n",
       "      <td>0.737846</td>\n",
       "      <td>0.699620</td>\n",
       "    </tr>\n",
       "    <tr>\n",
       "      <th>F1</th>\n",
       "      <td>0.738841</td>\n",
       "      <td>0.690196</td>\n",
       "    </tr>\n",
       "    <tr>\n",
       "      <th>PRECISION</th>\n",
       "      <td>0.736742</td>\n",
       "      <td>0.709677</td>\n",
       "    </tr>\n",
       "    <tr>\n",
       "      <th>RECALL</th>\n",
       "      <td>0.740952</td>\n",
       "      <td>0.671756</td>\n",
       "    </tr>\n",
       "    <tr>\n",
       "      <th>KAPPA</th>\n",
       "      <td>0.475688</td>\n",
       "      <td>0.399109</td>\n",
       "    </tr>\n",
       "  </tbody>\n",
       "</table>\n",
       "</div>"
      ],
      "text/plain": [
       "           LR_1s Train  LR_1s Test\n",
       "ACC           0.737846    0.699620\n",
       "F1            0.738841    0.690196\n",
       "PRECISION     0.736742    0.709677\n",
       "RECALL        0.740952    0.671756\n",
       "KAPPA         0.475688    0.399109"
      ]
     },
     "execution_count": 75,
     "metadata": {},
     "output_type": "execute_result"
    }
   ],
   "source": [
    "from sklearn.metrics import r2_score,cohen_kappa_score, mean_squared_error, accuracy_score, f1_score, precision_score, recall_score\n",
    "\n",
    "def accuracy_tests(model_name, y_pred_train,y_true_train,y_pred_test,y_true_test):\n",
    "    \n",
    "   \n",
    "    kappa_train = cohen_kappa_score(y_true_train, y_pred_train)\n",
    "    kappa_test = cohen_kappa_score(y_true_test, y_pred_test)\n",
    "    acc_train = accuracy_score(y_true_train, y_pred_train)\n",
    "    acc_test = accuracy_score(y_true_test, y_pred_test)\n",
    "    f1_train = f1_score(y_true_train, y_pred_train)\n",
    "    f1_test = f1_score(y_true_test, y_pred_test)\n",
    "    precision_train = precision_score(y_true_train, y_pred_train)\n",
    "    precision_test = precision_score(y_true_test, y_pred_test)\n",
    "    recall_train = recall_score(y_true_train, y_pred_train)\n",
    "    recall_test = recall_score(y_true_test, y_pred_test)\n",
    "    \n",
    "    \n",
    "    df = pd.DataFrame({\n",
    "    model_name +' Train': [acc_train, f1_train, precision_train , recall_train, kappa_train],\n",
    "    model_name +' Test': [acc_test, f1_test, precision_test , recall_test, kappa_test ],\n",
    "    }, index=['ACC', 'F1', 'PRECISION', 'RECALL', 'KAPPA'])\n",
    "    \n",
    "    return df\n",
    "\n",
    "accuracy_tests(\"LR_1s\", y_pred_train,y_true_train,y_pred_test,y_true_test)"
   ]
  },
  {
   "cell_type": "code",
   "execution_count": 76,
   "id": "b969dcd2",
   "metadata": {},
   "outputs": [],
   "source": [
    "test1_lr = accuracy_tests(\"LR_1s\", y_pred_train,y_true_train,y_pred_test,y_true_test)"
   ]
  },
  {
   "cell_type": "markdown",
   "id": "94dc55cf",
   "metadata": {},
   "source": [
    "## b) Random forest"
   ]
  },
  {
   "cell_type": "code",
   "execution_count": 77,
   "id": "d6d7bd24",
   "metadata": {},
   "outputs": [],
   "source": [
    "from sklearn.ensemble import RandomForestClassifier\n",
    "model_rf = RandomForestClassifier()\n",
    "model_rf.fit(X_train, y_train)\n",
    "\n",
    "y_pred_train = model_rf.predict(X_train)\n",
    "y_pred_test = model_rf.predict(X_test)\n",
    "y_true_train = y_train\n",
    "y_true_test = y_test"
   ]
  },
  {
   "cell_type": "code",
   "execution_count": 78,
   "id": "24aba924",
   "metadata": {},
   "outputs": [
    {
     "data": {
      "text/html": [
       "<div>\n",
       "<style scoped>\n",
       "    .dataframe tbody tr th:only-of-type {\n",
       "        vertical-align: middle;\n",
       "    }\n",
       "\n",
       "    .dataframe tbody tr th {\n",
       "        vertical-align: top;\n",
       "    }\n",
       "\n",
       "    .dataframe thead th {\n",
       "        text-align: right;\n",
       "    }\n",
       "</style>\n",
       "<table border=\"1\" class=\"dataframe\">\n",
       "  <thead>\n",
       "    <tr style=\"text-align: right;\">\n",
       "      <th></th>\n",
       "      <th>RF_1 Train</th>\n",
       "      <th>RF_1 Test</th>\n",
       "    </tr>\n",
       "  </thead>\n",
       "  <tbody>\n",
       "    <tr>\n",
       "      <th>ACC</th>\n",
       "      <td>1.0</td>\n",
       "      <td>0.855513</td>\n",
       "    </tr>\n",
       "    <tr>\n",
       "      <th>F1</th>\n",
       "      <td>1.0</td>\n",
       "      <td>0.849206</td>\n",
       "    </tr>\n",
       "    <tr>\n",
       "      <th>PRECISION</th>\n",
       "      <td>1.0</td>\n",
       "      <td>0.884298</td>\n",
       "    </tr>\n",
       "    <tr>\n",
       "      <th>RECALL</th>\n",
       "      <td>1.0</td>\n",
       "      <td>0.816794</td>\n",
       "    </tr>\n",
       "    <tr>\n",
       "      <th>KAPPA</th>\n",
       "      <td>1.0</td>\n",
       "      <td>0.710939</td>\n",
       "    </tr>\n",
       "  </tbody>\n",
       "</table>\n",
       "</div>"
      ],
      "text/plain": [
       "           RF_1 Train  RF_1 Test\n",
       "ACC               1.0   0.855513\n",
       "F1                1.0   0.849206\n",
       "PRECISION         1.0   0.884298\n",
       "RECALL            1.0   0.816794\n",
       "KAPPA             1.0   0.710939"
      ]
     },
     "execution_count": 78,
     "metadata": {},
     "output_type": "execute_result"
    }
   ],
   "source": [
    "from sklearn.metrics import r2_score,cohen_kappa_score, mean_squared_error, accuracy_score, f1_score, precision_score, recall_score\n",
    "\n",
    "accuracy_tests(\"RF_1\", y_pred_train,y_true_train,y_pred_test,y_true_test)"
   ]
  },
  {
   "cell_type": "code",
   "execution_count": 79,
   "id": "32e9e7ee",
   "metadata": {},
   "outputs": [],
   "source": [
    "test1_rf = accuracy_tests(\"RF_1\", y_pred_train,y_true_train,y_pred_test,y_true_test)"
   ]
  },
  {
   "cell_type": "markdown",
   "id": "30fb72f6",
   "metadata": {},
   "source": [
    "<font color = 'blue' size = 3.5> model is overffited </font>"
   ]
  },
  {
   "cell_type": "markdown",
   "id": "b6c19cb8",
   "metadata": {},
   "source": [
    "#### b.1. Searching for the right parameters:"
   ]
  },
  {
   "cell_type": "code",
   "execution_count": 189,
   "id": "179266f0",
   "metadata": {
    "scrolled": true
   },
   "outputs": [
    {
     "name": "stdout",
     "output_type": "stream",
     "text": [
      "{'n_estimators': [5, 10, 15, 20, 25, 30, 35, 40, 45, 50, 55, 60, 65, 70, 75, 80, 85, 90, 95, 100], 'max_features': ['auto', 'sqrt'], 'max_depth': [2, 4, 6, 8, 10, 12, 14], 'min_samples_split': [2, 5], 'min_samples_leaf': [1, 2], 'bootstrap': [True, False]}\n"
     ]
    }
   ],
   "source": [
    "n_estimators = [int(x) for x in range(5,105,5)]\n",
    "\n",
    "max_features = ['auto', 'sqrt']\n",
    "\n",
    "max_depth = [int(x) for x in range(2,16,2)]\n",
    "\n",
    "min_samples_split = [2, 5]\n",
    "\n",
    "min_samples_leaf = [1, 2]\n",
    "\n",
    "bootstrap = [True, False]\n",
    "\n",
    "param_grid = {'n_estimators': n_estimators,\n",
    "               'max_features': max_features,\n",
    "               'max_depth': max_depth,\n",
    "               'min_samples_split': min_samples_split,\n",
    "               'min_samples_leaf': min_samples_leaf,\n",
    "               'bootstrap': bootstrap}\n",
    "print(param_grid)"
   ]
  },
  {
   "cell_type": "code",
   "execution_count": 190,
   "id": "959d38c7",
   "metadata": {},
   "outputs": [],
   "source": [
    "from sklearn.model_selection import GridSearchCV\n",
    "model_rf_Grid = GridSearchCV(estimator = model_rf, param_grid = param_grid, cv = 3, verbose=2, n_jobs = 4)"
   ]
  },
  {
   "cell_type": "code",
   "execution_count": 192,
   "id": "d8d39673",
   "metadata": {
    "scrolled": true
   },
   "outputs": [
    {
     "data": {
      "text/plain": [
       "{'bootstrap': False,\n",
       " 'max_depth': 14,\n",
       " 'max_features': 'auto',\n",
       " 'min_samples_leaf': 1,\n",
       " 'min_samples_split': 2,\n",
       " 'n_estimators': 95}"
      ]
     },
     "execution_count": 192,
     "metadata": {},
     "output_type": "execute_result"
    }
   ],
   "source": [
    "# model_rf_Grid.fit(X_train, y_train)\n",
    "# model_rf_Grid.best_params_"
   ]
  },
  {
   "cell_type": "code",
   "execution_count": 80,
   "id": "fc0744be",
   "metadata": {},
   "outputs": [
    {
     "data": {
      "text/html": [
       "<div>\n",
       "<style scoped>\n",
       "    .dataframe tbody tr th:only-of-type {\n",
       "        vertical-align: middle;\n",
       "    }\n",
       "\n",
       "    .dataframe tbody tr th {\n",
       "        vertical-align: top;\n",
       "    }\n",
       "\n",
       "    .dataframe thead th {\n",
       "        text-align: right;\n",
       "    }\n",
       "</style>\n",
       "<table border=\"1\" class=\"dataframe\">\n",
       "  <thead>\n",
       "    <tr style=\"text-align: right;\">\n",
       "      <th></th>\n",
       "      <th>RF_2 Train</th>\n",
       "      <th>RF_2 Test</th>\n",
       "    </tr>\n",
       "  </thead>\n",
       "  <tbody>\n",
       "    <tr>\n",
       "      <th>ACC</th>\n",
       "      <td>0.997140</td>\n",
       "      <td>0.859316</td>\n",
       "    </tr>\n",
       "    <tr>\n",
       "      <th>F1</th>\n",
       "      <td>0.997135</td>\n",
       "      <td>0.854902</td>\n",
       "    </tr>\n",
       "    <tr>\n",
       "      <th>PRECISION</th>\n",
       "      <td>1.000000</td>\n",
       "      <td>0.879032</td>\n",
       "    </tr>\n",
       "    <tr>\n",
       "      <th>RECALL</th>\n",
       "      <td>0.994286</td>\n",
       "      <td>0.832061</td>\n",
       "    </tr>\n",
       "    <tr>\n",
       "      <th>KAPPA</th>\n",
       "      <td>0.994280</td>\n",
       "      <td>0.718570</td>\n",
       "    </tr>\n",
       "  </tbody>\n",
       "</table>\n",
       "</div>"
      ],
      "text/plain": [
       "           RF_2 Train  RF_2 Test\n",
       "ACC          0.997140   0.859316\n",
       "F1           0.997135   0.854902\n",
       "PRECISION    1.000000   0.879032\n",
       "RECALL       0.994286   0.832061\n",
       "KAPPA        0.994280   0.718570"
      ]
     },
     "execution_count": 80,
     "metadata": {},
     "output_type": "execute_result"
    }
   ],
   "source": [
    "model_rf = RandomForestClassifier(bootstrap= False,\n",
    " max_depth= 12,\n",
    " max_features= 'auto',\n",
    " min_samples_leaf= 1,\n",
    " min_samples_split= 2,\n",
    " random_state=25,\n",
    " n_estimators= 95)\n",
    "\n",
    "model_rf.fit(X_train, y_train)\n",
    "\n",
    "y_pred_train = model_rf.predict(X_train)\n",
    "y_pred_test = model_rf.predict(X_test)\n",
    "y_true_train = y_train\n",
    "y_true_test = y_test\n",
    "\n",
    "accuracy_tests(\"RF_2\", y_pred_train,y_true_train,y_pred_test,y_true_test)"
   ]
  },
  {
   "cell_type": "code",
   "execution_count": 81,
   "id": "e7b0683d",
   "metadata": {},
   "outputs": [],
   "source": [
    "test2_rf = accuracy_tests(\"RF_2\", y_pred_train,y_true_train,y_pred_test,y_true_test)"
   ]
  },
  {
   "cell_type": "markdown",
   "id": "0dafd8ec",
   "metadata": {},
   "source": [
    "## c) Extra Trees Classifier\n",
    "(Extremely Randomized Trees or 'random forest on steroids')"
   ]
  },
  {
   "cell_type": "code",
   "execution_count": 82,
   "id": "8ab16d9e",
   "metadata": {},
   "outputs": [],
   "source": [
    "from sklearn.ensemble import ExtraTreesClassifier"
   ]
  },
  {
   "cell_type": "code",
   "execution_count": 83,
   "id": "8c807d5e",
   "metadata": {},
   "outputs": [
    {
     "data": {
      "text/html": [
       "<div>\n",
       "<style scoped>\n",
       "    .dataframe tbody tr th:only-of-type {\n",
       "        vertical-align: middle;\n",
       "    }\n",
       "\n",
       "    .dataframe tbody tr th {\n",
       "        vertical-align: top;\n",
       "    }\n",
       "\n",
       "    .dataframe thead th {\n",
       "        text-align: right;\n",
       "    }\n",
       "</style>\n",
       "<table border=\"1\" class=\"dataframe\">\n",
       "  <thead>\n",
       "    <tr style=\"text-align: right;\">\n",
       "      <th></th>\n",
       "      <th>EXT_1 Train</th>\n",
       "      <th>EXT_1 Test</th>\n",
       "    </tr>\n",
       "  </thead>\n",
       "  <tbody>\n",
       "    <tr>\n",
       "      <th>ACC</th>\n",
       "      <td>1.0</td>\n",
       "      <td>0.878327</td>\n",
       "    </tr>\n",
       "    <tr>\n",
       "      <th>F1</th>\n",
       "      <td>1.0</td>\n",
       "      <td>0.878788</td>\n",
       "    </tr>\n",
       "    <tr>\n",
       "      <th>PRECISION</th>\n",
       "      <td>1.0</td>\n",
       "      <td>0.872180</td>\n",
       "    </tr>\n",
       "    <tr>\n",
       "      <th>RECALL</th>\n",
       "      <td>1.0</td>\n",
       "      <td>0.885496</td>\n",
       "    </tr>\n",
       "    <tr>\n",
       "      <th>KAPPA</th>\n",
       "      <td>1.0</td>\n",
       "      <td>0.756665</td>\n",
       "    </tr>\n",
       "  </tbody>\n",
       "</table>\n",
       "</div>"
      ],
      "text/plain": [
       "           EXT_1 Train  EXT_1 Test\n",
       "ACC                1.0    0.878327\n",
       "F1                 1.0    0.878788\n",
       "PRECISION          1.0    0.872180\n",
       "RECALL             1.0    0.885496\n",
       "KAPPA              1.0    0.756665"
      ]
     },
     "execution_count": 83,
     "metadata": {},
     "output_type": "execute_result"
    }
   ],
   "source": [
    "model_ext = ExtraTreesClassifier()\n",
    "\n",
    "model_ext.fit(X_train, y_train)\n",
    "\n",
    "y_pred_train = model_ext.predict(X_train)\n",
    "y_pred_test = model_ext.predict(X_test)\n",
    "y_true_train = y_train\n",
    "y_true_test = y_test\n",
    "\n",
    "accuracy_tests(\"EXT_1\", y_pred_train,y_true_train,y_pred_test,y_true_test)"
   ]
  },
  {
   "cell_type": "code",
   "execution_count": 84,
   "id": "c6fff861",
   "metadata": {},
   "outputs": [],
   "source": [
    "test1_ext = accuracy_tests(\"EXT_1\", y_pred_train,y_true_train,y_pred_test,y_true_test)"
   ]
  },
  {
   "cell_type": "markdown",
   "id": "f99f037d",
   "metadata": {},
   "source": [
    "#### c.1. Searching for the right parameters:"
   ]
  },
  {
   "cell_type": "code",
   "execution_count": 257,
   "id": "5d6fcd94",
   "metadata": {},
   "outputs": [
    {
     "data": {
      "text/plain": [
       "{'bootstrap': False,\n",
       " 'max_depth': 12,\n",
       " 'max_features': 'sqrt',\n",
       " 'min_samples_leaf': 1,\n",
       " 'min_samples_split': 2,\n",
       " 'n_estimators': 55}"
      ]
     },
     "execution_count": 257,
     "metadata": {},
     "output_type": "execute_result"
    }
   ],
   "source": [
    "#model_rf_Grid = GridSearchCV(estimator = model_ext, param_grid = param_grid, cv = 3, verbose=2, n_jobs = 4)\n",
    "#model_rf_Grid.fit(X_train, y_train)\n",
    "#model_rf_Grid.best_params_"
   ]
  },
  {
   "cell_type": "code",
   "execution_count": 85,
   "id": "c28e8e4e",
   "metadata": {},
   "outputs": [
    {
     "data": {
      "text/html": [
       "<div>\n",
       "<style scoped>\n",
       "    .dataframe tbody tr th:only-of-type {\n",
       "        vertical-align: middle;\n",
       "    }\n",
       "\n",
       "    .dataframe tbody tr th {\n",
       "        vertical-align: top;\n",
       "    }\n",
       "\n",
       "    .dataframe thead th {\n",
       "        text-align: right;\n",
       "    }\n",
       "</style>\n",
       "<table border=\"1\" class=\"dataframe\">\n",
       "  <thead>\n",
       "    <tr style=\"text-align: right;\">\n",
       "      <th></th>\n",
       "      <th>EXT_2 Train</th>\n",
       "      <th>EXT_2 Test</th>\n",
       "    </tr>\n",
       "  </thead>\n",
       "  <tbody>\n",
       "    <tr>\n",
       "      <th>ACC</th>\n",
       "      <td>0.989514</td>\n",
       "      <td>0.847909</td>\n",
       "    </tr>\n",
       "    <tr>\n",
       "      <th>F1</th>\n",
       "      <td>0.989453</td>\n",
       "      <td>0.846154</td>\n",
       "    </tr>\n",
       "    <tr>\n",
       "      <th>PRECISION</th>\n",
       "      <td>0.996139</td>\n",
       "      <td>0.852713</td>\n",
       "    </tr>\n",
       "    <tr>\n",
       "      <th>RECALL</th>\n",
       "      <td>0.982857</td>\n",
       "      <td>0.839695</td>\n",
       "    </tr>\n",
       "    <tr>\n",
       "      <th>KAPPA</th>\n",
       "      <td>0.979028</td>\n",
       "      <td>0.695796</td>\n",
       "    </tr>\n",
       "  </tbody>\n",
       "</table>\n",
       "</div>"
      ],
      "text/plain": [
       "           EXT_2 Train  EXT_2 Test\n",
       "ACC           0.989514    0.847909\n",
       "F1            0.989453    0.846154\n",
       "PRECISION     0.996139    0.852713\n",
       "RECALL        0.982857    0.839695\n",
       "KAPPA         0.979028    0.695796"
      ]
     },
     "execution_count": 85,
     "metadata": {},
     "output_type": "execute_result"
    }
   ],
   "source": [
    "model_ext = ExtraTreesClassifier(bootstrap= False,\n",
    " max_depth= 12,\n",
    " max_features= 'sqrt',\n",
    " min_samples_leaf= 1,\n",
    " min_samples_split= 2,\n",
    " random_state=39,\n",
    " n_estimators= 55)\n",
    "\n",
    "model_ext.fit(X_train, y_train)\n",
    "\n",
    "y_pred_train = model_ext.predict(X_train)\n",
    "y_pred_test = model_ext.predict(X_test)\n",
    "y_true_train = y_train\n",
    "y_true_test = y_test\n",
    "\n",
    "accuracy_tests(\"EXT_2\", y_pred_train,y_true_train,y_pred_test,y_true_test)"
   ]
  },
  {
   "cell_type": "code",
   "execution_count": 86,
   "id": "b8f6e3d1",
   "metadata": {},
   "outputs": [],
   "source": [
    "test2_ext = accuracy_tests(\"EXT_2\", y_pred_train,y_true_train,y_pred_test,y_true_test)"
   ]
  },
  {
   "cell_type": "markdown",
   "id": "5472e29c",
   "metadata": {},
   "source": [
    "## d) K Neighrest Neighbour Classifier"
   ]
  },
  {
   "cell_type": "code",
   "execution_count": 87,
   "id": "bfb4cb53",
   "metadata": {},
   "outputs": [],
   "source": [
    "from sklearn.neighbors import KNeighborsClassifier\n",
    "model_knn = KNeighborsClassifier(n_neighbors=10)"
   ]
  },
  {
   "cell_type": "code",
   "execution_count": 88,
   "id": "7704cc40",
   "metadata": {},
   "outputs": [
    {
     "data": {
      "text/html": [
       "<div>\n",
       "<style scoped>\n",
       "    .dataframe tbody tr th:only-of-type {\n",
       "        vertical-align: middle;\n",
       "    }\n",
       "\n",
       "    .dataframe tbody tr th {\n",
       "        vertical-align: top;\n",
       "    }\n",
       "\n",
       "    .dataframe thead th {\n",
       "        text-align: right;\n",
       "    }\n",
       "</style>\n",
       "<table border=\"1\" class=\"dataframe\">\n",
       "  <thead>\n",
       "    <tr style=\"text-align: right;\">\n",
       "      <th></th>\n",
       "      <th>KNN_1 Train</th>\n",
       "      <th>KNN_1 Test</th>\n",
       "    </tr>\n",
       "  </thead>\n",
       "  <tbody>\n",
       "    <tr>\n",
       "      <th>ACC</th>\n",
       "      <td>0.693994</td>\n",
       "      <td>0.539924</td>\n",
       "    </tr>\n",
       "    <tr>\n",
       "      <th>F1</th>\n",
       "      <td>0.641341</td>\n",
       "      <td>0.415459</td>\n",
       "    </tr>\n",
       "    <tr>\n",
       "      <th>PRECISION</th>\n",
       "      <td>0.775676</td>\n",
       "      <td>0.565789</td>\n",
       "    </tr>\n",
       "    <tr>\n",
       "      <th>RECALL</th>\n",
       "      <td>0.546667</td>\n",
       "      <td>0.328244</td>\n",
       "    </tr>\n",
       "    <tr>\n",
       "      <th>KAPPA</th>\n",
       "      <td>0.388160</td>\n",
       "      <td>0.078369</td>\n",
       "    </tr>\n",
       "  </tbody>\n",
       "</table>\n",
       "</div>"
      ],
      "text/plain": [
       "           KNN_1 Train  KNN_1 Test\n",
       "ACC           0.693994    0.539924\n",
       "F1            0.641341    0.415459\n",
       "PRECISION     0.775676    0.565789\n",
       "RECALL        0.546667    0.328244\n",
       "KAPPA         0.388160    0.078369"
      ]
     },
     "execution_count": 88,
     "metadata": {},
     "output_type": "execute_result"
    }
   ],
   "source": [
    "model_knn.fit(X_train, y_train)\n",
    "\n",
    "y_pred_train = model_knn.predict(X_train)\n",
    "y_pred_test = model_knn.predict(X_test)\n",
    "y_true_train = y_train\n",
    "y_true_test = y_test\n",
    "\n",
    "accuracy_tests(\"KNN_1\", y_pred_train,y_true_train,y_pred_test,y_true_test)"
   ]
  },
  {
   "cell_type": "code",
   "execution_count": 89,
   "id": "370d3593",
   "metadata": {},
   "outputs": [],
   "source": [
    "test1_knn = accuracy_tests(\"KNN_1\", y_pred_train,y_true_train,y_pred_test,y_true_test)"
   ]
  },
  {
   "cell_type": "markdown",
   "id": "e156ce44",
   "metadata": {},
   "source": [
    "#### d.1. Searching for the right parameters:"
   ]
  },
  {
   "cell_type": "code",
   "execution_count": 90,
   "id": "e8a1acb6",
   "metadata": {},
   "outputs": [],
   "source": [
    "from sklearn.model_selection import RandomizedSearchCV"
   ]
  },
  {
   "cell_type": "code",
   "execution_count": 30,
   "id": "f21774e4",
   "metadata": {},
   "outputs": [
    {
     "name": "stderr",
     "output_type": "stream",
     "text": [
      "/Users/cristianvaleria/opt/anaconda3/envs/final_project/lib/python3.9/site-packages/scipy/__init__.py:146: UserWarning: A NumPy version >=1.16.5 and <1.23.0 is required for this version of SciPy (detected version 1.23.5\n",
      "  warnings.warn(f\"A NumPy version >={np_minversion} and <{np_maxversion}\"\n",
      "/Users/cristianvaleria/opt/anaconda3/envs/final_project/lib/python3.9/site-packages/scipy/__init__.py:146: UserWarning: A NumPy version >=1.16.5 and <1.23.0 is required for this version of SciPy (detected version 1.23.5\n",
      "  warnings.warn(f\"A NumPy version >={np_minversion} and <{np_maxversion}\"\n",
      "/Users/cristianvaleria/opt/anaconda3/envs/final_project/lib/python3.9/site-packages/scipy/__init__.py:146: UserWarning: A NumPy version >=1.16.5 and <1.23.0 is required for this version of SciPy (detected version 1.23.5\n",
      "  warnings.warn(f\"A NumPy version >={np_minversion} and <{np_maxversion}\"\n",
      "/Users/cristianvaleria/opt/anaconda3/envs/final_project/lib/python3.9/site-packages/scipy/__init__.py:146: UserWarning: A NumPy version >=1.16.5 and <1.23.0 is required for this version of SciPy (detected version 1.23.5\n",
      "  warnings.warn(f\"A NumPy version >={np_minversion} and <{np_maxversion}\"\n",
      "/Users/cristianvaleria/opt/anaconda3/envs/final_project/lib/python3.9/site-packages/scipy/__init__.py:146: UserWarning: A NumPy version >=1.16.5 and <1.23.0 is required for this version of SciPy (detected version 1.23.5\n",
      "  warnings.warn(f\"A NumPy version >={np_minversion} and <{np_maxversion}\"\n",
      "/Users/cristianvaleria/opt/anaconda3/envs/final_project/lib/python3.9/site-packages/scipy/__init__.py:146: UserWarning: A NumPy version >=1.16.5 and <1.23.0 is required for this version of SciPy (detected version 1.23.5\n",
      "  warnings.warn(f\"A NumPy version >={np_minversion} and <{np_maxversion}\"\n",
      "/Users/cristianvaleria/opt/anaconda3/envs/final_project/lib/python3.9/site-packages/scipy/__init__.py:146: UserWarning: A NumPy version >=1.16.5 and <1.23.0 is required for this version of SciPy (detected version 1.23.5\n",
      "  warnings.warn(f\"A NumPy version >={np_minversion} and <{np_maxversion}\"\n",
      "/Users/cristianvaleria/opt/anaconda3/envs/final_project/lib/python3.9/site-packages/scipy/__init__.py:146: UserWarning: A NumPy version >=1.16.5 and <1.23.0 is required for this version of SciPy (detected version 1.23.5\n",
      "  warnings.warn(f\"A NumPy version >={np_minversion} and <{np_maxversion}\"\n"
     ]
    },
    {
     "data": {
      "text/plain": [
       "{'n_neighbors': 1}"
      ]
     },
     "execution_count": 30,
     "metadata": {},
     "output_type": "execute_result"
    }
   ],
   "source": [
    "k=np.random.randint(1,50,60)\n",
    "\n",
    "params = {'n_neighbors': k}\n",
    "\n",
    "random_search = RandomizedSearchCV(model_knn,params,n_iter=5,cv=5,n_jobs=-1,verbose=0)\n",
    "random_search.fit(X_train,y_train)\n",
    "\n",
    "random_search.best_params_"
   ]
  },
  {
   "cell_type": "code",
   "execution_count": 91,
   "id": "b111f226",
   "metadata": {},
   "outputs": [
    {
     "data": {
      "text/html": [
       "<div>\n",
       "<style scoped>\n",
       "    .dataframe tbody tr th:only-of-type {\n",
       "        vertical-align: middle;\n",
       "    }\n",
       "\n",
       "    .dataframe tbody tr th {\n",
       "        vertical-align: top;\n",
       "    }\n",
       "\n",
       "    .dataframe thead th {\n",
       "        text-align: right;\n",
       "    }\n",
       "</style>\n",
       "<table border=\"1\" class=\"dataframe\">\n",
       "  <thead>\n",
       "    <tr style=\"text-align: right;\">\n",
       "      <th></th>\n",
       "      <th>KNN_2 Train</th>\n",
       "      <th>KNN_2 Test</th>\n",
       "    </tr>\n",
       "  </thead>\n",
       "  <tbody>\n",
       "    <tr>\n",
       "      <th>ACC</th>\n",
       "      <td>0.776930</td>\n",
       "      <td>0.615970</td>\n",
       "    </tr>\n",
       "    <tr>\n",
       "      <th>F1</th>\n",
       "      <td>0.758264</td>\n",
       "      <td>0.562771</td>\n",
       "    </tr>\n",
       "    <tr>\n",
       "      <th>PRECISION</th>\n",
       "      <td>0.828442</td>\n",
       "      <td>0.650000</td>\n",
       "    </tr>\n",
       "    <tr>\n",
       "      <th>RECALL</th>\n",
       "      <td>0.699048</td>\n",
       "      <td>0.496183</td>\n",
       "    </tr>\n",
       "    <tr>\n",
       "      <th>KAPPA</th>\n",
       "      <td>0.553927</td>\n",
       "      <td>0.231239</td>\n",
       "    </tr>\n",
       "  </tbody>\n",
       "</table>\n",
       "</div>"
      ],
      "text/plain": [
       "           KNN_2 Train  KNN_2 Test\n",
       "ACC           0.776930    0.615970\n",
       "F1            0.758264    0.562771\n",
       "PRECISION     0.828442    0.650000\n",
       "RECALL        0.699048    0.496183\n",
       "KAPPA         0.553927    0.231239"
      ]
     },
     "execution_count": 91,
     "metadata": {},
     "output_type": "execute_result"
    }
   ],
   "source": [
    "model_knn = KNeighborsClassifier(n_neighbors=5)\n",
    "model_knn.fit(X_train, y_train)\n",
    "\n",
    "y_pred_train = model_knn.predict(X_train)\n",
    "y_pred_test = model_knn.predict(X_test)\n",
    "y_true_train = y_train\n",
    "y_true_test = y_test\n",
    "\n",
    "test2_knn = accuracy_tests(\"KNN_2\", y_pred_train,y_true_train,y_pred_test,y_true_test)\n",
    "test2_knn"
   ]
  },
  {
   "cell_type": "markdown",
   "id": "db4fa867",
   "metadata": {},
   "source": [
    "# Comparing models"
   ]
  },
  {
   "cell_type": "code",
   "execution_count": 92,
   "id": "e1aa97c1",
   "metadata": {},
   "outputs": [
    {
     "data": {
      "text/html": [
       "<div>\n",
       "<style scoped>\n",
       "    .dataframe tbody tr th:only-of-type {\n",
       "        vertical-align: middle;\n",
       "    }\n",
       "\n",
       "    .dataframe tbody tr th {\n",
       "        vertical-align: top;\n",
       "    }\n",
       "\n",
       "    .dataframe thead th {\n",
       "        text-align: right;\n",
       "    }\n",
       "</style>\n",
       "<table border=\"1\" class=\"dataframe\">\n",
       "  <thead>\n",
       "    <tr style=\"text-align: right;\">\n",
       "      <th></th>\n",
       "      <th>ACC</th>\n",
       "      <th>F1</th>\n",
       "      <th>PRECISION</th>\n",
       "      <th>RECALL</th>\n",
       "      <th>KAPPA</th>\n",
       "    </tr>\n",
       "  </thead>\n",
       "  <tbody>\n",
       "    <tr>\n",
       "      <th>RF_1 Train</th>\n",
       "      <td>1.000000</td>\n",
       "      <td>1.000000</td>\n",
       "      <td>1.000000</td>\n",
       "      <td>1.000000</td>\n",
       "      <td>1.000000</td>\n",
       "    </tr>\n",
       "    <tr>\n",
       "      <th>EXT_1 Train</th>\n",
       "      <td>1.000000</td>\n",
       "      <td>1.000000</td>\n",
       "      <td>1.000000</td>\n",
       "      <td>1.000000</td>\n",
       "      <td>1.000000</td>\n",
       "    </tr>\n",
       "    <tr>\n",
       "      <th>RF_2 Train</th>\n",
       "      <td>0.997140</td>\n",
       "      <td>0.997135</td>\n",
       "      <td>1.000000</td>\n",
       "      <td>0.994286</td>\n",
       "      <td>0.994280</td>\n",
       "    </tr>\n",
       "    <tr>\n",
       "      <th>EXT_2 Train</th>\n",
       "      <td>0.989514</td>\n",
       "      <td>0.989453</td>\n",
       "      <td>0.996139</td>\n",
       "      <td>0.982857</td>\n",
       "      <td>0.979028</td>\n",
       "    </tr>\n",
       "    <tr>\n",
       "      <th>EXT_1 Test</th>\n",
       "      <td>0.878327</td>\n",
       "      <td>0.878788</td>\n",
       "      <td>0.872180</td>\n",
       "      <td>0.885496</td>\n",
       "      <td>0.756665</td>\n",
       "    </tr>\n",
       "    <tr>\n",
       "      <th>RF_2 Test</th>\n",
       "      <td>0.859316</td>\n",
       "      <td>0.854902</td>\n",
       "      <td>0.879032</td>\n",
       "      <td>0.832061</td>\n",
       "      <td>0.718570</td>\n",
       "    </tr>\n",
       "    <tr>\n",
       "      <th>RF_1 Test</th>\n",
       "      <td>0.855513</td>\n",
       "      <td>0.849206</td>\n",
       "      <td>0.884298</td>\n",
       "      <td>0.816794</td>\n",
       "      <td>0.710939</td>\n",
       "    </tr>\n",
       "    <tr>\n",
       "      <th>EXT_2 Test</th>\n",
       "      <td>0.847909</td>\n",
       "      <td>0.846154</td>\n",
       "      <td>0.852713</td>\n",
       "      <td>0.839695</td>\n",
       "      <td>0.695796</td>\n",
       "    </tr>\n",
       "    <tr>\n",
       "      <th>KNN_2 Train</th>\n",
       "      <td>0.776930</td>\n",
       "      <td>0.758264</td>\n",
       "      <td>0.828442</td>\n",
       "      <td>0.699048</td>\n",
       "      <td>0.553927</td>\n",
       "    </tr>\n",
       "    <tr>\n",
       "      <th>LR_1s Train</th>\n",
       "      <td>0.737846</td>\n",
       "      <td>0.738841</td>\n",
       "      <td>0.736742</td>\n",
       "      <td>0.740952</td>\n",
       "      <td>0.475688</td>\n",
       "    </tr>\n",
       "    <tr>\n",
       "      <th>LR_1s Test</th>\n",
       "      <td>0.699620</td>\n",
       "      <td>0.690196</td>\n",
       "      <td>0.709677</td>\n",
       "      <td>0.671756</td>\n",
       "      <td>0.399109</td>\n",
       "    </tr>\n",
       "    <tr>\n",
       "      <th>KNN_1 Train</th>\n",
       "      <td>0.693994</td>\n",
       "      <td>0.641341</td>\n",
       "      <td>0.775676</td>\n",
       "      <td>0.546667</td>\n",
       "      <td>0.388160</td>\n",
       "    </tr>\n",
       "    <tr>\n",
       "      <th>KNN_2 Test</th>\n",
       "      <td>0.615970</td>\n",
       "      <td>0.562771</td>\n",
       "      <td>0.650000</td>\n",
       "      <td>0.496183</td>\n",
       "      <td>0.231239</td>\n",
       "    </tr>\n",
       "    <tr>\n",
       "      <th>KNN_1 Test</th>\n",
       "      <td>0.539924</td>\n",
       "      <td>0.415459</td>\n",
       "      <td>0.565789</td>\n",
       "      <td>0.328244</td>\n",
       "      <td>0.078369</td>\n",
       "    </tr>\n",
       "  </tbody>\n",
       "</table>\n",
       "</div>"
      ],
      "text/plain": [
       "                  ACC        F1  PRECISION    RECALL     KAPPA\n",
       "RF_1 Train   1.000000  1.000000   1.000000  1.000000  1.000000\n",
       "EXT_1 Train  1.000000  1.000000   1.000000  1.000000  1.000000\n",
       "RF_2 Train   0.997140  0.997135   1.000000  0.994286  0.994280\n",
       "EXT_2 Train  0.989514  0.989453   0.996139  0.982857  0.979028\n",
       "EXT_1 Test   0.878327  0.878788   0.872180  0.885496  0.756665\n",
       "RF_2 Test    0.859316  0.854902   0.879032  0.832061  0.718570\n",
       "RF_1 Test    0.855513  0.849206   0.884298  0.816794  0.710939\n",
       "EXT_2 Test   0.847909  0.846154   0.852713  0.839695  0.695796\n",
       "KNN_2 Train  0.776930  0.758264   0.828442  0.699048  0.553927\n",
       "LR_1s Train  0.737846  0.738841   0.736742  0.740952  0.475688\n",
       "LR_1s Test   0.699620  0.690196   0.709677  0.671756  0.399109\n",
       "KNN_1 Train  0.693994  0.641341   0.775676  0.546667  0.388160\n",
       "KNN_2 Test   0.615970  0.562771   0.650000  0.496183  0.231239\n",
       "KNN_1 Test   0.539924  0.415459   0.565789  0.328244  0.078369"
      ]
     },
     "execution_count": 92,
     "metadata": {},
     "output_type": "execute_result"
    }
   ],
   "source": [
    "pd.concat([test1_lr,test1_rf,test2_rf,test1_ext,test2_ext,test1_knn,test2_knn], axis=1).T.sort_values(by='ACC',ascending=False)"
   ]
  },
  {
   "cell_type": "markdown",
   "id": "f36fdc86",
   "metadata": {},
   "source": [
    "The best model that is not overfitted is Random Forest 2 (with the parameters adjust with GS_CV)"
   ]
  },
  {
   "cell_type": "markdown",
   "id": "598a78e0",
   "metadata": {},
   "source": [
    "## the choosen model & exporting"
   ]
  },
  {
   "cell_type": "code",
   "execution_count": 93,
   "id": "fcc49353",
   "metadata": {},
   "outputs": [
    {
     "data": {
      "text/html": [
       "<div>\n",
       "<style scoped>\n",
       "    .dataframe tbody tr th:only-of-type {\n",
       "        vertical-align: middle;\n",
       "    }\n",
       "\n",
       "    .dataframe tbody tr th {\n",
       "        vertical-align: top;\n",
       "    }\n",
       "\n",
       "    .dataframe thead th {\n",
       "        text-align: right;\n",
       "    }\n",
       "</style>\n",
       "<table border=\"1\" class=\"dataframe\">\n",
       "  <thead>\n",
       "    <tr style=\"text-align: right;\">\n",
       "      <th></th>\n",
       "      <th>RF_2 Train</th>\n",
       "      <th>RF_2 Test</th>\n",
       "    </tr>\n",
       "  </thead>\n",
       "  <tbody>\n",
       "    <tr>\n",
       "      <th>ACC</th>\n",
       "      <td>0.997140</td>\n",
       "      <td>0.859316</td>\n",
       "    </tr>\n",
       "    <tr>\n",
       "      <th>F1</th>\n",
       "      <td>0.997135</td>\n",
       "      <td>0.854902</td>\n",
       "    </tr>\n",
       "    <tr>\n",
       "      <th>PRECISION</th>\n",
       "      <td>1.000000</td>\n",
       "      <td>0.879032</td>\n",
       "    </tr>\n",
       "    <tr>\n",
       "      <th>RECALL</th>\n",
       "      <td>0.994286</td>\n",
       "      <td>0.832061</td>\n",
       "    </tr>\n",
       "    <tr>\n",
       "      <th>KAPPA</th>\n",
       "      <td>0.994280</td>\n",
       "      <td>0.718570</td>\n",
       "    </tr>\n",
       "  </tbody>\n",
       "</table>\n",
       "</div>"
      ],
      "text/plain": [
       "           RF_2 Train  RF_2 Test\n",
       "ACC          0.997140   0.859316\n",
       "F1           0.997135   0.854902\n",
       "PRECISION    1.000000   0.879032\n",
       "RECALL       0.994286   0.832061\n",
       "KAPPA        0.994280   0.718570"
      ]
     },
     "execution_count": 93,
     "metadata": {},
     "output_type": "execute_result"
    }
   ],
   "source": [
    "model_rf = RandomForestClassifier(bootstrap= False,\n",
    " max_depth= 12,\n",
    " max_features= 'auto',\n",
    " min_samples_leaf= 1,\n",
    " min_samples_split= 2,\n",
    " random_state=25,\n",
    " n_estimators= 95)\n",
    "\n",
    "model_rf.fit(X_train, y_train)\n",
    "\n",
    "y_pred_train = model_rf.predict(X_train)\n",
    "y_pred_test = model_rf.predict(X_test)\n",
    "y_true_train = y_train\n",
    "y_true_test = y_test\n",
    "\n",
    "#prob:\n",
    "y_prob = model_rf.predict_proba(X_test)[:,1]\n",
    "\n",
    "accuracy_tests(\"RF_2\", y_pred_train,y_true_train,y_pred_test,y_true_test)"
   ]
  },
  {
   "cell_type": "code",
   "execution_count": 94,
   "id": "1cba2ae7",
   "metadata": {},
   "outputs": [],
   "source": [
    "import joblib"
   ]
  },
  {
   "cell_type": "code",
   "execution_count": 95,
   "id": "a6f97c56",
   "metadata": {},
   "outputs": [
    {
     "data": {
      "text/plain": [
       "['../Models/model_rf_credit.joblib']"
      ]
     },
     "execution_count": 95,
     "metadata": {},
     "output_type": "execute_result"
    }
   ],
   "source": [
    "joblib.dump(model_rf, '../Models/model_rf_credit.joblib') "
   ]
  },
  {
   "cell_type": "markdown",
   "id": "ad919644",
   "metadata": {},
   "source": [
    "## Graphic of performances"
   ]
  },
  {
   "cell_type": "markdown",
   "id": "36110174",
   "metadata": {},
   "source": [
    "### a. Confusion Matrix"
   ]
  },
  {
   "cell_type": "code",
   "execution_count": 96,
   "id": "9c54c17d",
   "metadata": {},
   "outputs": [],
   "source": [
    "from sklearn.metrics import confusion_matrix, classification_report\n",
    "\n",
    "%matplotlib inline"
   ]
  },
  {
   "cell_type": "code",
   "execution_count": 97,
   "id": "d3c07099",
   "metadata": {},
   "outputs": [
    {
     "data": {
      "image/png": "[encoded data removed]",
      "text/plain": [
       "<Figure size 640x480 with 2 Axes>"
      ]
     },
     "metadata": {},
     "output_type": "display_data"
    }
   ],
   "source": [
    "conf_matrix = confusion_matrix(y_true_test, y_pred_test)\n",
    "\n",
    "sns.heatmap(conf_matrix, annot=True, cmap='Blues', fmt='g')\n",
    "plt.xlabel('Predicted')\n",
    "plt.ylabel('True')\n",
    "plt.show()"
   ]
  },
  {
   "cell_type": "markdown",
   "id": "4dc6cf1b",
   "metadata": {},
   "source": [
    "### b. ROC curve"
   ]
  },
  {
   "cell_type": "code",
   "execution_count": 99,
   "id": "00f4b68b",
   "metadata": {},
   "outputs": [],
   "source": [
    "from sklearn.metrics import roc_curve, auc\n",
    "fpr, tpr, thresholds = roc_curve(y_test, y_prob)\n",
    "\n",
    "roc_auc = auc(fpr, tpr)"
   ]
  },
  {
   "cell_type": "code",
   "execution_count": 100,
   "id": "02ee6ec3",
   "metadata": {},
   "outputs": [
    {
     "data": {
      "text/plain": [
       "0.9419962988665279"
      ]
     },
     "execution_count": 100,
     "metadata": {},
     "output_type": "execute_result"
    }
   ],
   "source": [
    "roc_auc"
   ]
  },
  {
   "cell_type": "code",
   "execution_count": 101,
   "id": "e08220b3",
   "metadata": {},
   "outputs": [
    {
     "data": {
      "image/png": "[encoded data removed]",
      "text/plain": [
       "<Figure size 640x480 with 1 Axes>"
      ]
     },
     "metadata": {},
     "output_type": "display_data"
    }
   ],
   "source": [
    "plt.plot(fpr, tpr, color='darkorange', lw=2, label='RF ROC curve (area = %0.2f)' % roc_auc)\n",
    "plt.plot([0, 1], [0, 1], color='navy', lw=2, linestyle='--')\n",
    "plt.xlim([0.0, 1.0])\n",
    "plt.ylim([0.0, 1.05])\n",
    "plt.xlabel('False Positive Rate')\n",
    "plt.ylabel('True Positive Rate')\n",
    "plt.title('Receiver Operating Characteristic (ROC) Curve')\n",
    "plt.legend(loc=\"lower right\")\n",
    "plt.show()"
   ]
  },
  {
   "cell_type": "markdown",
   "id": "8d982d7e",
   "metadata": {},
   "source": [
    "## Feature Importance"
   ]
  },
  {
   "cell_type": "code",
   "execution_count": 102,
   "id": "92e7a89f",
   "metadata": {},
   "outputs": [
    {
     "data": {
      "text/html": [
       "<div>\n",
       "<style scoped>\n",
       "    .dataframe tbody tr th:only-of-type {\n",
       "        vertical-align: middle;\n",
       "    }\n",
       "\n",
       "    .dataframe tbody tr th {\n",
       "        vertical-align: top;\n",
       "    }\n",
       "\n",
       "    .dataframe thead th {\n",
       "        text-align: right;\n",
       "    }\n",
       "</style>\n",
       "<table border=\"1\" class=\"dataframe\">\n",
       "  <thead>\n",
       "    <tr style=\"text-align: right;\">\n",
       "      <th></th>\n",
       "      <th>importance</th>\n",
       "      <th>acc_importance</th>\n",
       "    </tr>\n",
       "  </thead>\n",
       "  <tbody>\n",
       "    <tr>\n",
       "      <th>account_balance</th>\n",
       "      <td>0.153628</td>\n",
       "      <td>0.153628</td>\n",
       "    </tr>\n",
       "    <tr>\n",
       "      <th>credit_amount</th>\n",
       "      <td>0.124035</td>\n",
       "      <td>0.277663</td>\n",
       "    </tr>\n",
       "    <tr>\n",
       "      <th>age</th>\n",
       "      <td>0.105493</td>\n",
       "      <td>0.383155</td>\n",
       "    </tr>\n",
       "    <tr>\n",
       "      <th>duration</th>\n",
       "      <td>0.091974</td>\n",
       "      <td>0.475129</td>\n",
       "    </tr>\n",
       "    <tr>\n",
       "      <th>credit_history</th>\n",
       "      <td>0.071424</td>\n",
       "      <td>0.546553</td>\n",
       "    </tr>\n",
       "    <tr>\n",
       "      <th>length_of_current_employment</th>\n",
       "      <td>0.055424</td>\n",
       "      <td>0.601977</td>\n",
       "    </tr>\n",
       "    <tr>\n",
       "      <th>savings</th>\n",
       "      <td>0.055424</td>\n",
       "      <td>0.657401</td>\n",
       "    </tr>\n",
       "    <tr>\n",
       "      <th>property</th>\n",
       "      <td>0.046730</td>\n",
       "      <td>0.704131</td>\n",
       "    </tr>\n",
       "    <tr>\n",
       "      <th>job</th>\n",
       "      <td>0.030015</td>\n",
       "      <td>0.734146</td>\n",
       "    </tr>\n",
       "    <tr>\n",
       "      <th>guarantors</th>\n",
       "      <td>0.028417</td>\n",
       "      <td>0.762563</td>\n",
       "    </tr>\n",
       "    <tr>\n",
       "      <th>marital_status</th>\n",
       "      <td>0.026057</td>\n",
       "      <td>0.788619</td>\n",
       "    </tr>\n",
       "    <tr>\n",
       "      <th>concurrent_credits</th>\n",
       "      <td>0.023445</td>\n",
       "      <td>0.812065</td>\n",
       "    </tr>\n",
       "    <tr>\n",
       "      <th>purpose_radio_tv</th>\n",
       "      <td>0.020547</td>\n",
       "      <td>0.832611</td>\n",
       "    </tr>\n",
       "    <tr>\n",
       "      <th>telephone</th>\n",
       "      <td>0.019589</td>\n",
       "      <td>0.852201</td>\n",
       "    </tr>\n",
       "    <tr>\n",
       "      <th>no_of_credits_at_this_bank</th>\n",
       "      <td>0.019545</td>\n",
       "      <td>0.871745</td>\n",
       "    </tr>\n",
       "    <tr>\n",
       "      <th>purpose_car</th>\n",
       "      <td>0.014675</td>\n",
       "      <td>0.886420</td>\n",
       "    </tr>\n",
       "    <tr>\n",
       "      <th>housing_own</th>\n",
       "      <td>0.014599</td>\n",
       "      <td>0.901019</td>\n",
       "    </tr>\n",
       "    <tr>\n",
       "      <th>no_of_dependents</th>\n",
       "      <td>0.014262</td>\n",
       "      <td>0.915281</td>\n",
       "    </tr>\n",
       "    <tr>\n",
       "      <th>sex</th>\n",
       "      <td>0.014080</td>\n",
       "      <td>0.929362</td>\n",
       "    </tr>\n",
       "    <tr>\n",
       "      <th>purpose_furniture_equipment</th>\n",
       "      <td>0.013806</td>\n",
       "      <td>0.943168</td>\n",
       "    </tr>\n",
       "    <tr>\n",
       "      <th>purpose_business</th>\n",
       "      <td>0.013414</td>\n",
       "      <td>0.956581</td>\n",
       "    </tr>\n",
       "    <tr>\n",
       "      <th>housing_rent</th>\n",
       "      <td>0.011303</td>\n",
       "      <td>0.967884</td>\n",
       "    </tr>\n",
       "    <tr>\n",
       "      <th>purpose_education</th>\n",
       "      <td>0.009687</td>\n",
       "      <td>0.977571</td>\n",
       "    </tr>\n",
       "    <tr>\n",
       "      <th>foreign_worker</th>\n",
       "      <td>0.008810</td>\n",
       "      <td>0.986381</td>\n",
       "    </tr>\n",
       "    <tr>\n",
       "      <th>housing_free</th>\n",
       "      <td>0.007340</td>\n",
       "      <td>0.993721</td>\n",
       "    </tr>\n",
       "    <tr>\n",
       "      <th>purpose_repairs</th>\n",
       "      <td>0.003165</td>\n",
       "      <td>0.996887</td>\n",
       "    </tr>\n",
       "    <tr>\n",
       "      <th>purpose_vacation_others</th>\n",
       "      <td>0.002321</td>\n",
       "      <td>0.999208</td>\n",
       "    </tr>\n",
       "    <tr>\n",
       "      <th>purpose_domestic_appliances</th>\n",
       "      <td>0.000792</td>\n",
       "      <td>1.000000</td>\n",
       "    </tr>\n",
       "  </tbody>\n",
       "</table>\n",
       "</div>"
      ],
      "text/plain": [
       "                              importance  acc_importance\n",
       "account_balance                 0.153628        0.153628\n",
       "credit_amount                   0.124035        0.277663\n",
       "age                             0.105493        0.383155\n",
       "duration                        0.091974        0.475129\n",
       "credit_history                  0.071424        0.546553\n",
       "length_of_current_employment    0.055424        0.601977\n",
       "savings                         0.055424        0.657401\n",
       "property                        0.046730        0.704131\n",
       "job                             0.030015        0.734146\n",
       "guarantors                      0.028417        0.762563\n",
       "marital_status                  0.026057        0.788619\n",
       "concurrent_credits              0.023445        0.812065\n",
       "purpose_radio_tv                0.020547        0.832611\n",
       "telephone                       0.019589        0.852201\n",
       "no_of_credits_at_this_bank      0.019545        0.871745\n",
       "purpose_car                     0.014675        0.886420\n",
       "housing_own                     0.014599        0.901019\n",
       "no_of_dependents                0.014262        0.915281\n",
       "sex                             0.014080        0.929362\n",
       "purpose_furniture_equipment     0.013806        0.943168\n",
       "purpose_business                0.013414        0.956581\n",
       "housing_rent                    0.011303        0.967884\n",
       "purpose_education               0.009687        0.977571\n",
       "foreign_worker                  0.008810        0.986381\n",
       "housing_free                    0.007340        0.993721\n",
       "purpose_repairs                 0.003165        0.996887\n",
       "purpose_vacation_others         0.002321        0.999208\n",
       "purpose_domestic_appliances     0.000792        1.000000"
      ]
     },
     "execution_count": 102,
     "metadata": {},
     "output_type": "execute_result"
    }
   ],
   "source": [
    "imp = pd.DataFrame(model_rf.feature_importances_, index = data.columns[:28])\n",
    "imp.rename(columns={0:'importance'},inplace = True)\n",
    "imp = imp.sort_values(by='importance',ascending=False)\n",
    "imp['acc_importance'] = imp['importance'].cumsum()\n",
    "imp"
   ]
  },
  {
   "cell_type": "code",
   "execution_count": 57,
   "id": "8ca509f3",
   "metadata": {},
   "outputs": [
    {
     "data": {
      "text/html": [
       "<div>\n",
       "<style scoped>\n",
       "    .dataframe tbody tr th:only-of-type {\n",
       "        vertical-align: middle;\n",
       "    }\n",
       "\n",
       "    .dataframe tbody tr th {\n",
       "        vertical-align: top;\n",
       "    }\n",
       "\n",
       "    .dataframe thead th {\n",
       "        text-align: right;\n",
       "    }\n",
       "</style>\n",
       "<table border=\"1\" class=\"dataframe\">\n",
       "  <thead>\n",
       "    <tr style=\"text-align: right;\">\n",
       "      <th></th>\n",
       "      <th>age</th>\n",
       "      <th>sex</th>\n",
       "      <th>job</th>\n",
       "      <th>credit_amount</th>\n",
       "      <th>duration</th>\n",
       "      <th>account_balance</th>\n",
       "      <th>credit_history</th>\n",
       "      <th>savings</th>\n",
       "      <th>length_of_current_employment</th>\n",
       "      <th>marital_status</th>\n",
       "      <th>...</th>\n",
       "      <th>purpose_car</th>\n",
       "      <th>purpose_domestic appliances</th>\n",
       "      <th>purpose_education</th>\n",
       "      <th>purpose_furniture/equipment</th>\n",
       "      <th>purpose_radio/TV</th>\n",
       "      <th>purpose_repairs</th>\n",
       "      <th>purpose_vacation/others</th>\n",
       "      <th>housing_free</th>\n",
       "      <th>housing_own</th>\n",
       "      <th>housing_rent</th>\n",
       "    </tr>\n",
       "  </thead>\n",
       "  <tbody>\n",
       "    <tr>\n",
       "      <th>count</th>\n",
       "      <td>263.000000</td>\n",
       "      <td>263.000000</td>\n",
       "      <td>263.000000</td>\n",
       "      <td>263.000000</td>\n",
       "      <td>263.000000</td>\n",
       "      <td>263.000000</td>\n",
       "      <td>263.000000</td>\n",
       "      <td>263.000000</td>\n",
       "      <td>263.000000</td>\n",
       "      <td>263.000000</td>\n",
       "      <td>...</td>\n",
       "      <td>263.000000</td>\n",
       "      <td>263.000000</td>\n",
       "      <td>263.000000</td>\n",
       "      <td>263.000000</td>\n",
       "      <td>263.000000</td>\n",
       "      <td>263.000000</td>\n",
       "      <td>263.000000</td>\n",
       "      <td>263.000000</td>\n",
       "      <td>263.000000</td>\n",
       "      <td>263.000000</td>\n",
       "    </tr>\n",
       "    <tr>\n",
       "      <th>mean</th>\n",
       "      <td>34.403042</td>\n",
       "      <td>1.353612</td>\n",
       "      <td>1.916350</td>\n",
       "      <td>3631.193916</td>\n",
       "      <td>21.737643</td>\n",
       "      <td>2.406844</td>\n",
       "      <td>2.524715</td>\n",
       "      <td>1.961977</td>\n",
       "      <td>3.281369</td>\n",
       "      <td>2.627376</td>\n",
       "      <td>...</td>\n",
       "      <td>0.346008</td>\n",
       "      <td>0.007605</td>\n",
       "      <td>0.045627</td>\n",
       "      <td>0.209125</td>\n",
       "      <td>0.235741</td>\n",
       "      <td>0.022814</td>\n",
       "      <td>0.015209</td>\n",
       "      <td>0.102662</td>\n",
       "      <td>0.718631</td>\n",
       "      <td>0.178707</td>\n",
       "    </tr>\n",
       "    <tr>\n",
       "      <th>std</th>\n",
       "      <td>11.345255</td>\n",
       "      <td>0.479002</td>\n",
       "      <td>0.688398</td>\n",
       "      <td>3140.918469</td>\n",
       "      <td>13.089664</td>\n",
       "      <td>1.237869</td>\n",
       "      <td>1.054958</td>\n",
       "      <td>1.520370</td>\n",
       "      <td>1.180598</td>\n",
       "      <td>0.734854</td>\n",
       "      <td>...</td>\n",
       "      <td>0.476603</td>\n",
       "      <td>0.087038</td>\n",
       "      <td>0.209073</td>\n",
       "      <td>0.407460</td>\n",
       "      <td>0.425271</td>\n",
       "      <td>0.149594</td>\n",
       "      <td>0.122617</td>\n",
       "      <td>0.304095</td>\n",
       "      <td>0.450524</td>\n",
       "      <td>0.383837</td>\n",
       "    </tr>\n",
       "    <tr>\n",
       "      <th>min</th>\n",
       "      <td>20.000000</td>\n",
       "      <td>1.000000</td>\n",
       "      <td>0.000000</td>\n",
       "      <td>362.000000</td>\n",
       "      <td>5.000000</td>\n",
       "      <td>1.000000</td>\n",
       "      <td>0.000000</td>\n",
       "      <td>1.000000</td>\n",
       "      <td>1.000000</td>\n",
       "      <td>1.000000</td>\n",
       "      <td>...</td>\n",
       "      <td>0.000000</td>\n",
       "      <td>0.000000</td>\n",
       "      <td>0.000000</td>\n",
       "      <td>0.000000</td>\n",
       "      <td>0.000000</td>\n",
       "      <td>0.000000</td>\n",
       "      <td>0.000000</td>\n",
       "      <td>0.000000</td>\n",
       "      <td>0.000000</td>\n",
       "      <td>0.000000</td>\n",
       "    </tr>\n",
       "    <tr>\n",
       "      <th>25%</th>\n",
       "      <td>25.500000</td>\n",
       "      <td>1.000000</td>\n",
       "      <td>2.000000</td>\n",
       "      <td>1275.000000</td>\n",
       "      <td>12.000000</td>\n",
       "      <td>1.000000</td>\n",
       "      <td>2.000000</td>\n",
       "      <td>1.000000</td>\n",
       "      <td>2.000000</td>\n",
       "      <td>2.000000</td>\n",
       "      <td>...</td>\n",
       "      <td>0.000000</td>\n",
       "      <td>0.000000</td>\n",
       "      <td>0.000000</td>\n",
       "      <td>0.000000</td>\n",
       "      <td>0.000000</td>\n",
       "      <td>0.000000</td>\n",
       "      <td>0.000000</td>\n",
       "      <td>0.000000</td>\n",
       "      <td>0.000000</td>\n",
       "      <td>0.000000</td>\n",
       "    </tr>\n",
       "    <tr>\n",
       "      <th>50%</th>\n",
       "      <td>31.000000</td>\n",
       "      <td>1.000000</td>\n",
       "      <td>2.000000</td>\n",
       "      <td>2375.000000</td>\n",
       "      <td>18.000000</td>\n",
       "      <td>2.000000</td>\n",
       "      <td>2.000000</td>\n",
       "      <td>1.000000</td>\n",
       "      <td>3.000000</td>\n",
       "      <td>3.000000</td>\n",
       "      <td>...</td>\n",
       "      <td>0.000000</td>\n",
       "      <td>0.000000</td>\n",
       "      <td>0.000000</td>\n",
       "      <td>0.000000</td>\n",
       "      <td>0.000000</td>\n",
       "      <td>0.000000</td>\n",
       "      <td>0.000000</td>\n",
       "      <td>0.000000</td>\n",
       "      <td>1.000000</td>\n",
       "      <td>0.000000</td>\n",
       "    </tr>\n",
       "    <tr>\n",
       "      <th>75%</th>\n",
       "      <td>41.000000</td>\n",
       "      <td>2.000000</td>\n",
       "      <td>2.000000</td>\n",
       "      <td>4633.000000</td>\n",
       "      <td>30.000000</td>\n",
       "      <td>4.000000</td>\n",
       "      <td>4.000000</td>\n",
       "      <td>3.000000</td>\n",
       "      <td>4.000000</td>\n",
       "      <td>3.000000</td>\n",
       "      <td>...</td>\n",
       "      <td>1.000000</td>\n",
       "      <td>0.000000</td>\n",
       "      <td>0.000000</td>\n",
       "      <td>0.000000</td>\n",
       "      <td>0.000000</td>\n",
       "      <td>0.000000</td>\n",
       "      <td>0.000000</td>\n",
       "      <td>0.000000</td>\n",
       "      <td>1.000000</td>\n",
       "      <td>0.000000</td>\n",
       "    </tr>\n",
       "    <tr>\n",
       "      <th>max</th>\n",
       "      <td>74.000000</td>\n",
       "      <td>2.000000</td>\n",
       "      <td>3.000000</td>\n",
       "      <td>15672.000000</td>\n",
       "      <td>72.000000</td>\n",
       "      <td>4.000000</td>\n",
       "      <td>4.000000</td>\n",
       "      <td>5.000000</td>\n",
       "      <td>5.000000</td>\n",
       "      <td>4.000000</td>\n",
       "      <td>...</td>\n",
       "      <td>1.000000</td>\n",
       "      <td>1.000000</td>\n",
       "      <td>1.000000</td>\n",
       "      <td>1.000000</td>\n",
       "      <td>1.000000</td>\n",
       "      <td>1.000000</td>\n",
       "      <td>1.000000</td>\n",
       "      <td>1.000000</td>\n",
       "      <td>1.000000</td>\n",
       "      <td>1.000000</td>\n",
       "    </tr>\n",
       "  </tbody>\n",
       "</table>\n",
       "<p>8 rows × 28 columns</p>\n",
       "</div>"
      ],
      "text/plain": [
       "              age         sex         job  credit_amount    duration  \\\n",
       "count  263.000000  263.000000  263.000000     263.000000  263.000000   \n",
       "mean    34.403042    1.353612    1.916350    3631.193916   21.737643   \n",
       "std     11.345255    0.479002    0.688398    3140.918469   13.089664   \n",
       "min     20.000000    1.000000    0.000000     362.000000    5.000000   \n",
       "25%     25.500000    1.000000    2.000000    1275.000000   12.000000   \n",
       "50%     31.000000    1.000000    2.000000    2375.000000   18.000000   \n",
       "75%     41.000000    2.000000    2.000000    4633.000000   30.000000   \n",
       "max     74.000000    2.000000    3.000000   15672.000000   72.000000   \n",
       "\n",
       "       account_balance  credit_history     savings  \\\n",
       "count       263.000000      263.000000  263.000000   \n",
       "mean          2.406844        2.524715    1.961977   \n",
       "std           1.237869        1.054958    1.520370   \n",
       "min           1.000000        0.000000    1.000000   \n",
       "25%           1.000000        2.000000    1.000000   \n",
       "50%           2.000000        2.000000    1.000000   \n",
       "75%           4.000000        4.000000    3.000000   \n",
       "max           4.000000        4.000000    5.000000   \n",
       "\n",
       "       length_of_current_employment  marital_status  ...  purpose_car  \\\n",
       "count                    263.000000      263.000000  ...   263.000000   \n",
       "mean                       3.281369        2.627376  ...     0.346008   \n",
       "std                        1.180598        0.734854  ...     0.476603   \n",
       "min                        1.000000        1.000000  ...     0.000000   \n",
       "25%                        2.000000        2.000000  ...     0.000000   \n",
       "50%                        3.000000        3.000000  ...     0.000000   \n",
       "75%                        4.000000        3.000000  ...     1.000000   \n",
       "max                        5.000000        4.000000  ...     1.000000   \n",
       "\n",
       "       purpose_domestic appliances  purpose_education  \\\n",
       "count                   263.000000         263.000000   \n",
       "mean                      0.007605           0.045627   \n",
       "std                       0.087038           0.209073   \n",
       "min                       0.000000           0.000000   \n",
       "25%                       0.000000           0.000000   \n",
       "50%                       0.000000           0.000000   \n",
       "75%                       0.000000           0.000000   \n",
       "max                       1.000000           1.000000   \n",
       "\n",
       "       purpose_furniture/equipment  purpose_radio/TV  purpose_repairs  \\\n",
       "count                   263.000000        263.000000       263.000000   \n",
       "mean                      0.209125          0.235741         0.022814   \n",
       "std                       0.407460          0.425271         0.149594   \n",
       "min                       0.000000          0.000000         0.000000   \n",
       "25%                       0.000000          0.000000         0.000000   \n",
       "50%                       0.000000          0.000000         0.000000   \n",
       "75%                       0.000000          0.000000         0.000000   \n",
       "max                       1.000000          1.000000         1.000000   \n",
       "\n",
       "       purpose_vacation/others  housing_free  housing_own  housing_rent  \n",
       "count               263.000000    263.000000   263.000000    263.000000  \n",
       "mean                  0.015209      0.102662     0.718631      0.178707  \n",
       "std                   0.122617      0.304095     0.450524      0.383837  \n",
       "min                   0.000000      0.000000     0.000000      0.000000  \n",
       "25%                   0.000000      0.000000     0.000000      0.000000  \n",
       "50%                   0.000000      0.000000     1.000000      0.000000  \n",
       "75%                   0.000000      0.000000     1.000000      0.000000  \n",
       "max                   1.000000      1.000000     1.000000      1.000000  \n",
       "\n",
       "[8 rows x 28 columns]"
      ]
     },
     "execution_count": 57,
     "metadata": {},
     "output_type": "execute_result"
    }
   ],
   "source": [
    "X_test.describe()"
   ]
  },
  {
   "cell_type": "code",
   "execution_count": 59,
   "id": "63c5e943",
   "metadata": {
    "scrolled": true
   },
   "outputs": [
    {
     "data": {
      "text/plain": [
       "Index(['age', 'sex', 'job', 'credit_amount', 'duration', 'account_balance',\n",
       "       'credit_history', 'savings', 'length_of_current_employment',\n",
       "       'marital_status', 'guarantors', 'property', 'concurrent_credits',\n",
       "       'no_of_credits_at_this_bank', 'no_of_dependents', 'telephone',\n",
       "       'foreign_worker', 'purpose_business', 'purpose_car',\n",
       "       'purpose_domestic appliances', 'purpose_education',\n",
       "       'purpose_furniture/equipment', 'purpose_radio/TV', 'purpose_repairs',\n",
       "       'purpose_vacation/others', 'housing_free', 'housing_own',\n",
       "       'housing_rent'],\n",
       "      dtype='object')"
      ]
     },
     "execution_count": 59,
     "metadata": {},
     "output_type": "execute_result"
    }
   ],
   "source": [
    "X_test.columns"
   ]
  },
  {
   "cell_type": "code",
   "execution_count": null,
   "id": "778e431f",
   "metadata": {},
   "outputs": [],
   "source": []
  }
 ],
 "metadata": {
  "kernelspec": {
   "display_name": "Python 3",
   "language": "python",
   "name": "python3"
  },
  "language_info": {
   "codemirror_mode": {
    "name": "ipython",
    "version": 3
   },
   "file_extension": ".py",
   "mimetype": "text/x-python",
   "name": "python",
   "nbconvert_exporter": "python",
   "pygments_lexer": "ipython3",
   "version": "3.9.16 (main, Mar  1 2023, 12:19:38) \n[Clang 14.0.6 ]"
  },
  "vscode": {
   "interpreter": {
    "hash": "1b142f3ac7928c5327a493eff8353933ed1495c15e94607002ea25acf08c59e1"
   }
  }
 },
 "nbformat": 4,
 "nbformat_minor": 5
}
