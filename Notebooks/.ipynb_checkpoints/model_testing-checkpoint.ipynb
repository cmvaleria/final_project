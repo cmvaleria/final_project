{
 "cells": [
  {
   "cell_type": "code",
   "execution_count": 1,
   "id": "21a32240",
   "metadata": {},
   "outputs": [],
   "source": [
    "import streamlit as st\n",
    "#from utils import PrepProcesor, columns "
   ]
  },
  {
   "cell_type": "code",
   "execution_count": 2,
   "id": "9659c83e",
   "metadata": {},
   "outputs": [],
   "source": [
    "import numpy as np\n",
    "import pandas as pd\n",
    "import joblib"
   ]
  },
  {
   "cell_type": "code",
   "execution_count": 33,
   "id": "f6f8cc79",
   "metadata": {},
   "outputs": [],
   "source": [
    "model = joblib.load('../Models/model_rf_credit.joblib')"
   ]
  },
  {
   "cell_type": "markdown",
   "id": "5244e22f",
   "metadata": {},
   "source": [
    "#### Features:"
   ]
  },
  {
   "cell_type": "markdown",
   "id": "59fa71bc",
   "metadata": {},
   "source": [
    "more importante features: "
   ]
  },
  {
   "cell_type": "code",
   "execution_count": 102,
   "id": "30168081",
   "metadata": {},
   "outputs": [
    {
     "data": {
      "text/plain": [
       "0.66"
      ]
     },
     "execution_count": 102,
     "metadata": {},
     "output_type": "execute_result"
    }
   ],
   "source": [
    "age = 25 # integer between 0 and 100\n",
    "sex = 1 # (1):Male, (2):Female\n",
    "account_balance = 1 # Status of existing checking account. (1): < 0 Eu, (2): 0 <= < 400 Eu, (3):  >= 400 Eu , (4): no checking account\n",
    "credit_amount = 2000 #credit amount in eur\n",
    "duration = 26 #duration of the credit in months (5 to 72)\n",
    "savings = 3 #total savings. (1): < 200 Eu, (2) between 200 and 1000 Eu, (3) between 1000 and 2000 Eu, (4) >= 2000 Eu, (5) unknown/ no savings account \n",
    "property = 3 #  (1) real state, (2), if not the previous, building society savings agreement/ life insurance, (3) if not the previous, car, (4) no property\n",
    "guarantors = 0 #(1): no guarantor, (2):co-applicant, (3):guarantor\n",
    "job = 1 # (0):unemployed/ unskilled - non-resident, (1):unskilled - resident, (2)skilled employee / official, (3):management/ self-employed/highly qualified employee/ officer\n",
    "\n",
    "\n",
    "df = pd.DataFrame({'age':[age],'sex':[sex],'job':[job], 'credit_amount':[credit_amount], 'duration':[duration], 'account_balance':[account_balance],\n",
    "       'credit_history':[credit_history], 'savings':[savings], 'length_of_current_employment':[length_of_current_employment],\n",
    "       'marital_status':[marital_status], 'guarantors':[guarantors], 'property':[property], 'concurrent_credits':[concurrent_credits],\n",
    "       'no_of_credits_at_this_bank':[no_of_credits_at_this_bank], 'no_of_dependents':[no_of_dependents], 'telephone':[telephone],\n",
    "       'foreign_worker':[foreign_worker], 'purpose_business':[purpose_business], 'purpose_car':[purpose_car],\n",
    "       'purpose_domestic_appliances':[purpose_domestic_appliances], 'purpose_education':[purpose_education],\n",
    "       'purpose_furniture_equipment':[purpose_furniture_equipment], 'purpose_radio_tv':[purpose_radio_TV], 'purpose_repairs':[purpose_repairs],\n",
    "       'purpose_vacation_others':[purpose_vacation_others], 'housing_free':[housing_free], 'housing_own':[housing_own],\n",
    "       'housing_rent':[housing_rent]})\n",
    "df\n",
    "\n",
    "prob_of_get_the_credit = model.predict_proba(df)[0][1].round(2)\n",
    "prob_of_get_the_credit"
   ]
  },
  {
   "cell_type": "markdown",
   "id": "01b5636a",
   "metadata": {},
   "source": [
    "other features: "
   ]
  },
  {
   "cell_type": "code",
   "execution_count": 90,
   "id": "5082dd12",
   "metadata": {},
   "outputs": [],
   "source": [
    "length_of_current_employment = 1  # (1): unemployed, (2): < 1 year, (3):1 to 4 years, (4): 4 to 7 years, (5): >= 7 years\n",
    "credit_history = 1\n",
    "marital_status = 3\n",
    "concurrent_credits = 3\n",
    "no_of_credits_at_this_bank = 1\n",
    "no_of_dependents = 1\n",
    "telephone = 1\n",
    "foreign_worker = 2\n",
    "purpose_business = 0 \n",
    "purpose_car = 1\n",
    "purpose_domestic_appliances = 0\n",
    "purpose_education = 0\n",
    "purpose_furniture_equipment = 0\n",
    "purpose_radio_TV = 0\n",
    "purpose_repairs = 0\n",
    "purpose_vacation_others = 0\n",
    "housing_free = 0\n",
    "housing_own = 0\n",
    "housing_rent = 1"
   ]
  },
  {
   "cell_type": "code",
   "execution_count": 6,
   "id": "85cb7cc6",
   "metadata": {},
   "outputs": [],
   "source": [
    "columns = ['age', 'sex', 'job', 'credit_amount', 'duration', 'account_balance',\n",
    "       'credit_history', 'savings', 'length_of_current_employment',\n",
    "       'marital_status', 'guarantors', 'property', 'concurrent_credits',\n",
    "       'no_of_credits_at_this_bank', 'no_of_dependents', 'telephone',\n",
    "       'foreign_worker', 'purpose_business', 'purpose_car',\n",
    "       'purpose_domestic_appliances', 'purpose_education',\n",
    "       'purpose_furniture_equipment', 'purpose_radio_TV', 'purpose_repairs',\n",
    "       'purpose_vacation_others', 'housing_free', 'housing_own',\n",
    "       'housing_rent']"
   ]
  },
  {
   "cell_type": "markdown",
   "id": "ab58ad1b",
   "metadata": {},
   "source": [
    "### DataFrame for prediction:"
   ]
  },
  {
   "cell_type": "code",
   "execution_count": 12,
   "id": "fb443919",
   "metadata": {},
   "outputs": [
    {
     "data": {
      "text/html": [
       "<div>\n",
       "<style scoped>\n",
       "    .dataframe tbody tr th:only-of-type {\n",
       "        vertical-align: middle;\n",
       "    }\n",
       "\n",
       "    .dataframe tbody tr th {\n",
       "        vertical-align: top;\n",
       "    }\n",
       "\n",
       "    .dataframe thead th {\n",
       "        text-align: right;\n",
       "    }\n",
       "</style>\n",
       "<table border=\"1\" class=\"dataframe\">\n",
       "  <thead>\n",
       "    <tr style=\"text-align: right;\">\n",
       "      <th></th>\n",
       "      <th>age</th>\n",
       "      <th>sex</th>\n",
       "      <th>job</th>\n",
       "      <th>credit_amount</th>\n",
       "      <th>duration</th>\n",
       "      <th>account_balance</th>\n",
       "      <th>credit_history</th>\n",
       "      <th>savings</th>\n",
       "      <th>length_of_current_employment</th>\n",
       "      <th>marital_status</th>\n",
       "      <th>...</th>\n",
       "      <th>purpose_car</th>\n",
       "      <th>purpose_domestic_appliances</th>\n",
       "      <th>purpose_education</th>\n",
       "      <th>purpose_furniture_equipment</th>\n",
       "      <th>purpose_radio_tv</th>\n",
       "      <th>purpose_repairs</th>\n",
       "      <th>purpose_vacation_others</th>\n",
       "      <th>housing_free</th>\n",
       "      <th>housing_own</th>\n",
       "      <th>housing_rent</th>\n",
       "    </tr>\n",
       "  </thead>\n",
       "  <tbody>\n",
       "    <tr>\n",
       "      <th>0</th>\n",
       "      <td>34</td>\n",
       "      <td>1</td>\n",
       "      <td>0</td>\n",
       "      <td>500</td>\n",
       "      <td>36</td>\n",
       "      <td>3</td>\n",
       "      <td>0</td>\n",
       "      <td>2</td>\n",
       "      <td>1</td>\n",
       "      <td>4</td>\n",
       "      <td>...</td>\n",
       "      <td>0</td>\n",
       "      <td>0</td>\n",
       "      <td>0</td>\n",
       "      <td>0</td>\n",
       "      <td>0</td>\n",
       "      <td>0</td>\n",
       "      <td>1</td>\n",
       "      <td>0</td>\n",
       "      <td>0</td>\n",
       "      <td>1</td>\n",
       "    </tr>\n",
       "  </tbody>\n",
       "</table>\n",
       "<p>1 rows × 28 columns</p>\n",
       "</div>"
      ],
      "text/plain": [
       "   age  sex  job  credit_amount  duration  account_balance  credit_history  \\\n",
       "0   34    1    0            500        36                3               0   \n",
       "\n",
       "   savings  length_of_current_employment  marital_status  ...  purpose_car  \\\n",
       "0        2                             1               4  ...            0   \n",
       "\n",
       "   purpose_domestic_appliances  purpose_education  \\\n",
       "0                            0                  0   \n",
       "\n",
       "   purpose_furniture_equipment  purpose_radio_tv  purpose_repairs  \\\n",
       "0                            0                 0                0   \n",
       "\n",
       "   purpose_vacation_others  housing_free  housing_own  housing_rent  \n",
       "0                        1             0            0             1  \n",
       "\n",
       "[1 rows x 28 columns]"
      ]
     },
     "execution_count": 12,
     "metadata": {},
     "output_type": "execute_result"
    }
   ],
   "source": [
    "df = pd.DataFrame({'age':[age],'sex':[sex],'job':[job], 'credit_amount':[credit_amount], 'duration':[duration], 'account_balance':[account_balance],\n",
    "       'credit_history':[credit_history], 'savings':[savings], 'length_of_current_employment':[length_of_current_employment],\n",
    "       'marital_status':[marital_status], 'guarantors':[guarantors], 'property':[property], 'concurrent_credits':[concurrent_credits],\n",
    "       'no_of_credits_at_this_bank':[no_of_credits_at_this_bank], 'no_of_dependents':[no_of_dependents], 'telephone':[telephone],\n",
    "       'foreign_worker':[foreign_worker], 'purpose_business':[purpose_business], 'purpose_car':[purpose_car],\n",
    "       'purpose_domestic_appliances':[purpose_domestic_appliances], 'purpose_education':[purpose_education],\n",
    "       'purpose_furniture_equipment':[purpose_furniture_equipment], 'purpose_radio_tv':[purpose_radio_TV], 'purpose_repairs':[purpose_repairs],\n",
    "       'purpose_vacation_others':[purpose_vacation_others], 'housing_free':[housing_free], 'housing_own':[housing_own],\n",
    "       'housing_rent':[housing_rent]})\n",
    "df"
   ]
  },
  {
   "cell_type": "markdown",
   "id": "96b55480",
   "metadata": {},
   "source": [
    "###  Prediction:"
   ]
  },
  {
   "cell_type": "code",
   "execution_count": 26,
   "id": "3cb9919f",
   "metadata": {},
   "outputs": [
    {
     "data": {
      "text/plain": [
       "array([0])"
      ]
     },
     "execution_count": 26,
     "metadata": {},
     "output_type": "execute_result"
    }
   ],
   "source": [
    "model.predict(df)"
   ]
  },
  {
   "cell_type": "code",
   "execution_count": 30,
   "id": "1ed69ebc",
   "metadata": {},
   "outputs": [
    {
     "data": {
      "text/plain": [
       "array([[0.61733207, 0.38266793]])"
      ]
     },
     "execution_count": 30,
     "metadata": {},
     "output_type": "execute_result"
    }
   ],
   "source": [
    "model.predict_proba(df)"
   ]
  },
  {
   "cell_type": "code",
   "execution_count": 29,
   "id": "180c60ed",
   "metadata": {},
   "outputs": [
    {
     "data": {
      "text/plain": [
       "0.38"
      ]
     },
     "execution_count": 29,
     "metadata": {},
     "output_type": "execute_result"
    }
   ],
   "source": [
    "prob_of_get_the_credit = model.predict_proba(df)[0][1].round(2)\n",
    "prob_of_get_the_credit"
   ]
  },
  {
   "cell_type": "code",
   "execution_count": null,
   "id": "5d133024",
   "metadata": {},
   "outputs": [],
   "source": []
  }
 ],
 "metadata": {
  "kernelspec": {
   "display_name": "Python 3 (ipykernel)",
   "language": "python",
   "name": "python3"
  },
  "language_info": {
   "codemirror_mode": {
    "name": "ipython",
    "version": 3
   },
   "file_extension": ".py",
   "mimetype": "text/x-python",
   "name": "python",
   "nbconvert_exporter": "python",
   "pygments_lexer": "ipython3",
   "version": "3.9.16"
  }
 },
 "nbformat": 4,
 "nbformat_minor": 5
}
